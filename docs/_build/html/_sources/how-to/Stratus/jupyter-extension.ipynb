{
 "cells": [
  {
   "cell_type": "markdown",
   "metadata": {},
   "source": [
    "# Jupyter S3 Extension"
   ]
  },
  {
   "cell_type": "markdown",
   "metadata": {},
   "source": [
    "The JupyterHub instances provided have an S3 Object Storage Browser extension installed. The NCAR JupyterHub instance can use this to access Stratus."
   ]
  },
  {
   "cell_type": "markdown",
   "metadata": {},
   "source": [
    "```{note}\n",
    "The 2i2c JupyterHub does not have access to Stratus so this will only work on the NCAR JupyterHub\n",
    "```"
   ]
  },
  {
   "cell_type": "markdown",
   "metadata": {},
   "source": [
    "## Configure Extension"
   ]
  },
  {
   "cell_type": "markdown",
   "metadata": {},
   "source": [
    "After logging in to the [NCAR JupyterHub](https://jupyter.k8s.ucar.edu/) and selecting the [Server Options](https://ncar.github.io/cisl-cloud/how-to/k8sJH/user-info.html#server-options) you want you will be redirected to your user Jupyter Lab environment. On the top of the left sidebar there is an icon that looks like a trashcan. This is the S3 Object Storage Browser extension. When this is selected you will see an input box like in the image below:"
   ]
  },
  {
   "cell_type": "markdown",
   "metadata": {},
   "source": [
    "<img src=\"https://ncar.github.io/cisl-cloud/_static/s3-extension.png\"/>"
   ]
  },
  {
   "cell_type": "markdown",
   "metadata": {},
   "source": [
    "For `Endpoint URL` use `https://stratus.ucar.edu/`\n",
    "\n",
    "The `Access Key ID` & `Secret Access Key` are your personal keys you received via email after [requesting access](./stratus-access.ipynb)\n",
    "\n",
    "The `Optional Session Token` is not required. "
   ]
  }
 ],
 "metadata": {
  "language_info": {
   "name": "python"
  },
  "orig_nbformat": 4
 },
 "nbformat": 4,
 "nbformat_minor": 2
}
