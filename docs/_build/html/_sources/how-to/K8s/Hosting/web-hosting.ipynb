{
 "cells": [
  {
   "cell_type": "markdown",
   "metadata": {},
   "source": [
    "# Host a web application"
   ]
  },
  {
   "cell_type": "markdown",
   "metadata": {},
   "source": [
    "Kubernetes (k8s) allows the hosting of multiple web applications with unique URLs all on the same cluster. K8s utilizes a service called an ingress to route requests directly to an application through a single access point. This document is going to go over the process to deploy a web application to the CISL k8s cluster.  "
   ]
  },
  {
   "cell_type": "markdown",
   "metadata": {},
   "source": [
    "```{note}\n",
    "This documentation assumes that you have a working containerized web application. You are able to run it on your personal computer and access via `http://localhost:{PORT}/`.\n",
    "```"
   ]
  },
  {
   "cell_type": "markdown",
   "metadata": {},
   "source": [
    "The fields in the Service specification are mostly the same as in the Deployment. Use the same `namespace:` and `port:` as used previously. Set a unique name for your Service. Use the `selector:` field to provide the `app:` name defined in Deployments to connect the Service to the application."
   ]
  }
 ],
 "metadata": {
  "language_info": {
   "name": "python"
  },
  "orig_nbformat": 4
 },
 "nbformat": 4,
 "nbformat_minor": 2
}
