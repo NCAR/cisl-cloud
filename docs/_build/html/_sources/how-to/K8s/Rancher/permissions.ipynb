{
 "cells": [
  {
   "cell_type": "markdown",
   "metadata": {},
   "source": [
    "# Permissions"
   ]
  },
  {
   "cell_type": "markdown",
   "metadata": {},
   "source": [
    "Role Based Access Controls (RBAC) are implemented on rancher so non admin users are limited to what they can interact with. Currently users have the ability to do the following:"
   ]
  },
  {
   "cell_type": "markdown",
   "metadata": {},
   "source": [
    "## Create a namespace"
   ]
  },
  {
   "cell_type": "markdown",
   "metadata": {},
   "source": [
    "In k8s [namespaces](https://kubernetes.io/docs/concepts/overview/working-with-objects/namespaces/) provide a way to isolate resources within a single cluster. A more in depth explanation is provided via the link in the previous sentence but at the core namespaces allow cluster resources to be divided among multiple users while providing a certain level of isolation. The primary way to create a new namespace is via the `kubectl` command like in the following example:"
   ]
  },
  {
   "cell_type": "markdown",
   "metadata": {},
   "source": [
    "```\n",
    "kubectl create namespace ncote --kubeconfig cluster.yaml\n",
    "# Running the following command may result in a (Forbidden) error due to permissions\n",
    "kubectl get namespace --kubeconfig cluster.yaml\n",
    "```"
   ]
  },
  {
   "cell_type": "markdown",
   "metadata": {},
   "source": [
    "```{note}\n",
    "Namespace names have to be unique and names inside a namespace also have to be unique. Resource names can be duplicated across different namespaces. When creating a new namespace please use something unique like your SSO username.\n",
    "```"
   ]
  },
  {
   "cell_type": "markdown",
   "metadata": {},
   "source": [
    "If you are unable to confirm the new namespace has been created with the `kubectl get namespace` command you can verify by logging in to the Rancher UI. From the main page click the link provided by the cluster name the new namespace was deployed to to get to the Cluster Dashboard for that specific k8s cluster. Once on the Cluster Dashboard page, on the left sidebar, there will be a list of different cluster resources and policies. Expand the option at the top for Cluster and click the link to the Projects/Namespaces resource. Now on the Projects/Namespaces page you should see the namespace you created listed like in the following image:"
   ]
  },
  {
   "cell_type": "markdown",
   "metadata": {},
   "source": [
    "<img src=\"https://ncar.github.io/cisl-cloud/_static/cluster-namespace.png\"/>"
   ]
  }
 ],
 "metadata": {
  "language_info": {
   "name": "python"
  },
  "orig_nbformat": 4
 },
 "nbformat": 4,
 "nbformat_minor": 2
}
