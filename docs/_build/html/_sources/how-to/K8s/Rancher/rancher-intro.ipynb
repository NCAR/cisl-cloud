{
 "cells": [
  {
   "attachments": {},
   "cell_type": "markdown",
   "metadata": {},
   "source": [
    "# Rancher\n",
    "\n",
    "[Rancher](https://www.rancher.com/) is an open source container management platform built for organizations that deploy containers in production. "
   ]
  },
  {
   "cell_type": "markdown",
   "metadata": {},
   "source": [
    "CISL operates a Rancher cluster to help manage k8s clusters. It is accessible via the link [here](https://rancher.k8s.ucar.edu/) or always via the Resources drop down tab at the top of this documentation site."
   ]
  },
  {
   "cell_type": "markdown",
   "metadata": {},
   "source": [
    "```{note}\n",
    "Access to the Rancher UI requires internal NCAR access either via VPN or an onsite network connection.\n",
    "```"
   ]
  }
 ],
 "metadata": {
  "language_info": {
   "name": "python"
  },
  "orig_nbformat": 4
 },
 "nbformat": 4,
 "nbformat_minor": 2
}
