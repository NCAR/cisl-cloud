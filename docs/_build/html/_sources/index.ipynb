{
 "cells": [
  {
   "attachments": {},
   "cell_type": "markdown",
   "metadata": {},
   "source": [
    "<center style=\"font-size: 2.5rem;font-weight: 700;text-decoration: underline;color: red;\">This site is in ACTIVE DEVELOPMENT</center>"
   ]
  },
  {
   "attachments": {},
   "cell_type": "markdown",
   "metadata": {},
   "source": [
    "# CISL Cloud Pilot"
   ]
  },
  {
   "cell_type": "markdown",
   "metadata": {},
   "source": [
    "***This is currently a Pilot project with an objective to determine long-term feasibility.***<hr>"
   ]
  },
  {
   "cell_type": "markdown",
   "metadata": {},
   "source": [
    "Welcome to the NCAR | CISL Cloud Pilot documentation page. Below is a collection of useful information and links to help utilize resources provided by NCAR for interactive scientific analysis."
   ]
  },
  {
   "cell_type": "markdown",
   "metadata": {},
   "source": [
    "## [Resources](./availability/availability)"
   ]
  },
  {
   "cell_type": "markdown",
   "metadata": {},
   "source": [
    "### Documentation"
   ]
  },
  {
   "cell_type": "markdown",
   "metadata": {},
   "source": [
    "This documentation site is built on top of [Jupyter Book](https://jupyterbook.org/en/stable/intro.html#) and is hosted via [GitHub pages](https://pages.github.com/) and on [Kubernetes](https://kubernetes.io/)(k8s). It customizes the [Pythia Sphinx Theme](https://sphinx-pythia-theme.readthedocs.io/en/latest/about.html) to align with UCAR|NCAR branding. It should be a great resource to discover and utilize the services offered in the NCAR | CISL Cloud. \n",
    "\n",
    "If any pages are unclear, are missing information, or require any edits & updates please open a github issue by using the dropdown GitHub icon at the top of each page. Please be descriptive in your issue description so the page can be updated appropriately.  "
   ]
  },
  {
   "cell_type": "markdown",
   "metadata": {},
   "source": [
    "### NCAR JupyterHub\n",
    "\n",
    "NCAR operates a [JupyterHub](https://jupyter.org/hub) instance on [Kubernetes](https://kubernetes.io/). The main documentation page for this service can be found by clicking this [link to internal NCAR JupyterHub Documentation](how-to/k8sJH/k8sJH-intro)\n",
    "\n",
    "A link to the NCAR JupyterHub can always be found on this documentation page under the Resources tab at the top. It can also be found below:\n",
    "\n",
    "[Link to Login to NCAR JupyterHub](https://jupyter.k8s.ucar.edu/)\n",
    "\n",
    "```{note}\n",
    "Access is currently granted to members of the [NCAR/2i2c-cloud-users](https://github.com/orgs/NCAR/teams/2i2c-cloud-users) Github Team. If you require access please follow these [instructions](how-to/k8sJH/access)\n",
    "```"
   ]
  },
  {
   "cell_type": "markdown",
   "metadata": {},
   "source": [
    "### 2i2c JupyterHub\n",
    "\n",
    "2i2c operates a [JupyterHub](https://kubernetes.io/) instance for NCAR use on [AWS](https://aws.amazon.com/). The main documentation page for this service can be found by clicking this [link to internal 2i2c JupyterHub Documentation](how-to/2i2cJH/2i2cJH-intro)\n",
    "\n",
    "A link to the 2i2c JupyterHub can always be found on this documentation page under the Resources tab at the top. It can also be found below:\n",
    "\n",
    "[Login to 2i2c JupyterHub](https://jupyter.k8s.ucar.edu/)\n",
    "\n",
    "```{note}\n",
    "Access is currently granted to members of the [NCAR/2i2c-cloud-users](https://github.com/orgs/NCAR/teams/2i2c-cloud-users) Github Team. If you require access please follow these [instructions](how-to/2i2cJH/access)\n",
    "```"
   ]
  },
  {
   "cell_type": "markdown",
   "metadata": {},
   "source": [
    "### Kubernetes (k8s)\n",
    "\n",
    "[Kubernetes](https://kubernetes.io/), often referred to as k8s with the 8 simply standing for the number of letters being replaced, is the industry standard for container orchestration. CISL operates a k8s cluster built on top of Linux running on Virtual Machines and bare metal. The cluster is architected to include shared resources that enable quick and secure ways to expose applications while providing a variety of persistent storage options. This is all utilized to host applications such as JupyterHub, JupyterBook, Rancher, Harbor, and custom built web applications for data science applications. More details about these applications can be found below or via the different pages included in this documentation.  "
   ]
  },
  {
   "cell_type": "markdown",
   "metadata": {},
   "source": [
    "### Web Hosting\n",
    "\n",
    "CISL provides the ability to host containerized web applications on k8s. Using k8s to host these containerized workloads offers advantages when it comes to accessing applications via HTTPS URLs while providing highly available and redundant compute resources.\n",
    "\n",
    "The main documentation page on this service can be found by click this [link to internal Web Hosting Documentation](how-to/K8s/Hosting/web-intro)"
   ]
  },
  {
   "cell_type": "markdown",
   "metadata": {},
   "source": [
    "### NCAR Rancher\n",
    "\n",
    "NCAR operates an instance of [Rancher](https://www.rancher.com/) to provide a container management platform to the community. The main documentation page for this service can be found by clicking this [link to internal Rancher Documentation](how-to/K8s/Rancher/rancher-intro)\n",
    "\n",
    "A link to the NCAR Rancher instance can always be found on this documentation page under the Resources tab at the top. It can also be found below:\n",
    "\n",
    "[Link to Login to NCAR Rancher](https://rancher.k8s.ucar.edu/)\n",
    "\n",
    "```{note}\n",
    "[Rancher](https://www.rancher.com/) is an open source container management platform built for organizations that deploy containers in production. \n",
    "```"
   ]
  },
  {
   "cell_type": "markdown",
   "metadata": {},
   "source": [
    "### Harbor Container Registry"
   ]
  },
  {
   "cell_type": "markdown",
   "metadata": {},
   "source": [
    "We utilize [Harbor](https://goharbor.io/) to provide a container registry based on open source software that is closer to the infrastructure running containers. A local registry allows us to utilize network infrastructure and available bandwidth between hardware for an increase in speed when pushing and pulling images locally. Harbor also includes an image scanner that will provide reports on any vulnerabilities that an image contains so we can address security concerns with images directly.\n",
    "\n",
    "Documentation on accessing and utilizing Harbor can be found at this [link to internal Documentation](./how-to/K8s/harbor/harbor-intro)\n",
    "\n",
    "A link to Harbor is present under the Resources tab at the top of this documentation. It can also be found below: \n",
    "\n",
    "[Link to Login to Harbor](https://hub.k8s.ucar.edu/)"
   ]
  },
  {
   "cell_type": "markdown",
   "metadata": {},
   "source": [
    "### Continuous Deployment"
   ]
  },
  {
   "cell_type": "markdown",
   "metadata": {},
   "source": [
    "We have an instance of [Argo CD](https://argo-cd.readthedocs.io/en/stable/) installed to help us handle Continuous Delivery (CD). What this ultimately means is if your applications Git repo is setup in Argo CD it can be automatically configured to deploy any changes made to that repository without any intervention by the user or admins. This allows users to deploy their applications automatically to k8s without having to worry about interacting directly with Kubernetes. If you are looking for more information on how to start creating an application to host on k8s please look at the documentation [here](./how-to/K8s/Hosting/web-intro)."
   ]
  },
  {
   "cell_type": "markdown",
   "metadata": {},
   "source": [
    "```{note}\n",
    "If you have an application that you want to integrate into our CD platform please submit a ticket [here](https://jira.ucar.edu/secure/CreateIssueDetails!init.jspa?pid=18470&issuetype=10905) and one of our administrators will be in tough to work through deployment with you. \n",
    "```"
   ]
  },
  {
   "cell_type": "markdown",
   "metadata": {},
   "source": [
    "### Access to Data on GLADE"
   ]
  },
  {
   "cell_type": "markdown",
   "metadata": {},
   "source": [
    "The k8s cluster has read only access setup to [GLADE](https://arc.ucar.edu/knowledge_base/68878466) collections and campaign. This allows us to mount it directly in JupyterHub environments so it mimics how data is accessed on HPC JupyterHub. The ability to mount GLADE as a volume inside containers is also possible and could be incorporated in interactive visualizations for example so data does not have to be included in the container image which reduces image size. "
   ]
  },
  {
   "cell_type": "markdown",
   "metadata": {},
   "source": [
    "### Stratus Object Storage\n",
    "\n",
    "NCAR has an object storage solution on premise called [Stratus](https://arc.ucar.edu/knowledge_base/70549594). Stratus can be accessed via API calls in a similar fashion to Amazon AWS S3. The main documentation page for this service can be found at this [link to internal Documentation](how-to/Stratus/stratus-intro)\n",
    "\n",
    "A link to the Stratus Web UI can always be found on this documentation page under the Resources tab at the top. It can also be found below:\n",
    "\n",
    "[Login to Stratus](https://stratus-admin.ucar.edu:10443/asview)\n",
    "\n",
    "```{note}\n",
    "Stratus is hosted on NCAR internal networks and VPN or internal network access is required for access. \n",
    "```\n",
    "\n",
    "```{note}\n",
    "The Stratus Web UI requires an Access ID and Secret Key to browse. If you do not have an Access ID and Secret Key please follow the [access documentation](./how-to/Stratus/stratus-access) \n",
    "```"
   ]
  },
  {
   "cell_type": "markdown",
   "metadata": {},
   "source": [
    "### Virtual Machines (VMs)\n",
    "\n",
    "Virtual machines can be provided if containers aren't the best use case for the solution. Right now the process to get a VM is to submit a ticket with the NCAR/UCAR Service Desk [here](https://ithelp.ucar.edu/servicedesk/customer/portal/2/create/17). A link to the NCAR/UCAR service desk to request a VM can always be found on this documention page under the Resources tab at the top.\n",
    "\n",
    "In your request please provide the number of CPUs, amount of memory (GB), required disk size (GB), and the operating system you want to run. If you have any other special requests or requirements please provide them here. "
   ]
  },
  {
   "cell_type": "markdown",
   "metadata": {},
   "source": [
    "## Vision\n",
    "*Provide and operate an on-premise cloud offering for the scientific community to supplement traditional HPC services and public cloud offerings while utilizing 2i2c to host a JupyterHub instance in the public cloud.*"
   ]
  },
  {
   "cell_type": "markdown",
   "metadata": {},
   "source": [
    "### What is an on-premise cloud? \n",
    "NCAR | CISL runs Compute, Storage & Network hardware in robust Data Centers at multiple organizational facilities. An on-premise cloud is offering users the ability to utilize those highly available organizationally supported compute resources for approved use cases. This includes access to routable network space and UCAR Domain Name Systems (DNS). Security standards set by the organization are implemented and controlled by administrators to make sure internal policies are being adhered to. These resources would be provided to supplement computing needs that aren't fulfilled by the HPC offering, public cloud, or what is available to you locally. "
   ]
  }
 ],
 "metadata": {
  "kernelspec": {
   "display_name": "Python 3",
   "language": "python",
   "name": "python3"
  },
  "language_info": {
   "name": "python",
   "version": "3.10.12"
  },
  "orig_nbformat": 4
 },
 "nbformat": 4,
 "nbformat_minor": 2
}
