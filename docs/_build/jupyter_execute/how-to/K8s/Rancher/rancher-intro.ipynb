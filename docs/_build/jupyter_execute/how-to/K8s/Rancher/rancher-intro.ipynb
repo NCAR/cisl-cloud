{
 "cells": [
  {
   "attachments": {},
   "cell_type": "markdown",
   "metadata": {},
   "source": [
    "# Rancher\n",
    "\n",
    "[Rancher](https://www.rancher.com/) is an open source container management platform built for organizations that deploy containers in production. "
   ]
  },
  {
   "cell_type": "markdown",
   "metadata": {},
   "source": [
    "CISL operates a Rancher cluster to help manage k8s clusters. It is accessible via the link [here](https://rancher.k8s.ucar.edu/) or always via the Resources drop down tab at the top of this documentation site."
   ]
  },
  {
   "cell_type": "markdown",
   "metadata": {},
   "source": [
    "```{note}\n",
    "Access to the Rancher UI requires internal NCAR access either via VPN or an onsite network connection.\n",
    "```"
   ]
  },
  {
   "cell_type": "markdown",
   "metadata": {},
   "source": [
    "## Access\n",
    "\n",
    "```{note}\n",
    "Access provided to general users will always be limited with Role Based Access Controls (RBAC). They will not be able to perform any operations outside of the project and namespaces configured for their resources. \n",
    "```\n",
    "\n",
    "The [Rancher Login](https://rancher.k8s.ucar.edu/) page is the portal to enter and interact with the k8s environments.\n",
    "\n",
    "Authentication is being handled via CIT login and restricted access is given to members of the org. If you do not currently have access you can [request](https://jira.ucar.edu/secure/CreateIssueDetails!init.jspa?pid=18470&issuetype=10905) to join the team. Please provide valid justification for your use case. A member of the team will process the request and will be in contact to confirm or coordinate your access."
   ]
  }
 ],
 "metadata": {
  "language_info": {
   "name": "python"
  }
 },
 "nbformat": 4,
 "nbformat_minor": 2
}