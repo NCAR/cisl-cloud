{
 "cells": [
  {
   "cell_type": "markdown",
   "metadata": {},
   "source": [
    "# Host a web application"
   ]
  },
  {
   "cell_type": "markdown",
   "metadata": {},
   "source": [
    "Kubernetes (k8s) allows the hosting of multiple web applications with unique URLs all on the same cluster. K8s utilizes a service called an ingress to route requests directly to an application through a single access point. This document is going to go over the process to deploy a web application to the CISL k8s cluster.  "
   ]
  },
  {
   "cell_type": "markdown",
   "metadata": {},
   "source": [
    "```{note}\n",
    "This documentation assumes that you have a working containerized web application. You are able to run it on your personal computer and access via `http://localhost:{PORT}/`.\n",
    "```"
   ]
  },
  {
   "cell_type": "markdown",
   "metadata": {},
   "source": [
    "## `kubectl` and YAML"
   ]
  },
  {
   "cell_type": "markdown",
   "metadata": {},
   "source": [
    "`kubectl` can deploy k8s objects that are defined in .yaml (.yml) file(s). `kubectl` converts the YAML syntax into JSON when making requests to the k8s API so both formats can be used. For the examples provided in this documentation we will focus on YAML syntax as it's more human readable than JSON. The [Objects in Kubernetes](https://kubernetes.io/docs/concepts/overview/working-with-objects/) documentation goes in to much greater detail. This document will focus only on what is required to host a web application on the NCAR | CISL K8s cluster."
   ]
  },
  {
   "cell_type": "markdown",
   "metadata": {},
   "source": [
    "## Create a k8s .yml manifest"
   ]
  },
  {
   "cell_type": "markdown",
   "metadata": {},
   "source": [
    "3 different kinds of k8s objects need to be used in order to deploy a web application that is accessible publicly on your browser. A [Deployment](https://kubernetes.io/docs/concepts/workloads/controllers/deployment/), a [Service](https://kubernetes.io/docs/concepts/services-networking/service/), and an [Ingress](https://kubernetes.io/docs/concepts/services-networking/ingress/). The previous links will cover each one of these objects in much greater detail."
   ]
  },
  {
   "cell_type": "markdown",
   "metadata": {},
   "source": [
    "### Deployment"
   ]
  },
  {
   "cell_type": "markdown",
   "metadata": {},
   "source": [
    "A Deployment is where the state of [Pods](https://kubernetes.io/docs/concepts/workloads/pods/) are provided and maintained to the specifications declared in the object definition. The following example will touch on the fields needed in the `Deployment` section of the `.yml` file"
   ]
  },
  {
   "cell_type": "markdown",
   "metadata": {},
   "source": [
    "<img src=\"https://ncar.github.io/cisl-cloud/_static/k8s-deployment.png\" width=\"133%\">"
   ]
  },
  {
   "cell_type": "markdown",
   "metadata": {},
   "source": [
    "````{margin}\n",
    "```{dropdown} apiVersion\n",
    "Define the [Kubernetes API](https://kubernetes.io/docs/reference/kubernetes-api/) version to use for the object `kind:` declared. \n",
    "```\n",
    "```{dropdown} kind:\n",
    "Define the type of kubernetes object that is going to be declared.\n",
    "```\n",
    "```{dropdown} metadata:\n",
    "Define the object metadata such as the Deployment name, labels to apply, and the k8s [namespace](https://kubernetes.io/docs/concepts/overview/working-with-objects/namespaces/) to deploy to.\n",
    "```\n",
    "```{dropdown} spec:\n",
    "Define the resources for the k8s object.\n",
    "```\n",
    "```{dropdown} replicas:\n",
    "Define the number of containers to run.\n",
    "```\n",
    "```{dropdown} selector:\n",
    "Identify the set of objects to use in the deployment based on [labels](https://kubernetes.io/docs/concepts/overview/working-with-objects/labels/) set in metadata.\n",
    "```\n",
    "```{dropdown} template:\n",
    "Define the Pod specification. In a Deployment this is a nested version of the [Pod template](https://kubernetes.io/docs/concepts/workloads/pods/#pod-templates).\n",
    "```\n",
    "```{dropdown} labels:\n",
    "Define the labels to apply to the pods for use with the label selector.\n",
    "```\n",
    "```{dropdown} containers:\n",
    "Define what container resources to use in the Pod.\n",
    "```\n",
    "```{dropdown} image:\n",
    "Define the container image to deploy. By default this looks to [Docker Hub](https://hub.docker.com/)\n",
    "```\n",
    "```{dropdown} resources:\n",
    "Define the container resource requests and limits.\n",
    "```\n",
    "```{dropdown} ports:\n",
    "Define the ports that are exposed in the container and what ports to expose to k8s. \n",
    "```\n",
    "````"
   ]
  },
  {
   "cell_type": "markdown",
   "metadata": {},
   "source": [
    "There's a few important parts of the Deployment manifest to call out in more detail. "
   ]
  },
  {
   "cell_type": "markdown",
   "metadata": {},
   "source": [
    "### Service"
   ]
  },
  {
   "cell_type": "markdown",
   "metadata": {},
   "source": [
    "<img src=\"https://ncar.github.io/cisl-cloud/_static/k8s-service.png\" width=\"133%\">"
   ]
  },
  {
   "cell_type": "markdown",
   "metadata": {},
   "source": [
    "### Ingress"
   ]
  },
  {
   "cell_type": "markdown",
   "metadata": {},
   "source": [
    "<img src=\"https://ncar.github.io/cisl-cloud/_static/k8s-ingress.png\" width=\"133%\">"
   ]
  }
 ],
 "metadata": {
  "language_info": {
   "name": "python"
  }
 },
 "nbformat": 4,
 "nbformat_minor": 2
}