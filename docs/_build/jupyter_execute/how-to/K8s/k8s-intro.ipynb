{
 "cells": [
  {
   "attachments": {},
   "cell_type": "markdown",
   "metadata": {},
   "source": [
    "# Using the NCAR kubernetes (k8s) clusters"
   ]
  },
  {
   "attachments": {},
   "cell_type": "markdown",
   "metadata": {},
   "source": [
    "## Overview\n",
    "\n",
    "NCAR runs a central kubernetes (k8s) cluster and has [Rancher](./Rancher/rancher-intro) running for additional k8s cluster provisioning. It currently is available inside the NCAR network so you must either be ***onsite*** or connected to the ***VPN***."
   ]
  },
  {
   "attachments": {},
   "cell_type": "markdown",
   "metadata": {},
   "source": [
    "## Access\n",
    "The [Rancher Login](https://rancher.k8s.ucar.edu/) page is the portal to enter and interact with the k8s environments.\n",
    "\n",
    "Authentication is being handled via CIT login and restricted access is given to members of the org. If you do not currently have access you can [request](https://jira.ucar.edu/secure/CreateIssueDetails!init.jspa?pid=18470&issuetype=10905) to join the team. Please provide valid justification for your use case. A member of the team will process the request and will be in contact to confirm or coordinate your access."
   ]
  }
 ],
 "metadata": {
  "language_info": {
   "name": "python"
  }
 },
 "nbformat": 4,
 "nbformat_minor": 2
}