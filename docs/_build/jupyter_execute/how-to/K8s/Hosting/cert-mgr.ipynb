{
 "cells": [
  {
   "cell_type": "markdown",
   "metadata": {},
   "source": [
    "# Certificate Manager"
   ]
  },
  {
   "cell_type": "markdown",
   "metadata": {},
   "source": [
    "```{note}\n",
    "Secret values used in any of the Helm charts values files on our GitHub repository may be omitted for security reasons. Please audit the Helm charts before trying to install or upgrade to make sure all required information is present.\n",
    "```"
   ]
  },
  {
   "cell_type": "markdown",
   "metadata": {},
   "source": [
    "The Kubernetes cluster running all the different services has [cert-manager](https://cert-manager.io/) installed to handle assigning and renewing valid TLS certificates. TLS certificates are required to run HTTPS traffic and add the benefits of establishing trust for online interactions, encrypting data between clients and servers, and helps ensure the integrity of transmitted data. "
   ]
  },
  {
   "cell_type": "markdown",
   "metadata": {},
   "source": [
    "## Installing CRDs"
   ]
  },
  {
   "cell_type": "markdown",
   "metadata": {},
   "source": [
    "We installed the cert-manager CustomResourceDefinitions (CRD) with the Helm chart found at this [link](https://cert-manager.io/docs/installation/helm/). Once the CRD is installed we can configure the certificate issuers to use."
   ]
  },
  {
   "cell_type": "markdown",
   "metadata": {},
   "source": [
    "## Installing ACME issuer"
   ]
  },
  {
   "cell_type": "markdown",
   "metadata": {},
   "source": [
    "We utilize Helm once again to install a ClusterIssuer Kubernetes object for our ACME server to issue certificates. The Helm chart that is used to deploy the ACME issuer can be found on our GitHub repository at this [link](https://github.com/NCAR/cisl-cloud/blob/main/cluster/certmgr-helm.yaml). Once the ACME issuer is installed users can provide the Issuer name, in our case it's 'incommon', to assign and manage their applications certificates. "
   ]
  }
 ],
 "metadata": {
  "language_info": {
   "name": "python"
  }
 },
 "nbformat": 4,
 "nbformat_minor": 2
}