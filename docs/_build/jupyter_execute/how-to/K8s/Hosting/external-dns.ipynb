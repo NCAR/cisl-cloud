{
 "cells": [
  {
   "cell_type": "markdown",
   "metadata": {},
   "source": [
    "# ExternalDNS"
   ]
  },
  {
   "cell_type": "markdown",
   "metadata": {},
   "source": [
    "```{note}\n",
    "Secret values used in any of the Helm charts values files on our GitHub repository may be omitted for security reasons. Please audit the Helm charts before trying to install or upgrade to make sure all required information is present.\n",
    "```"
   ]
  },
  {
   "cell_type": "markdown",
   "metadata": {},
   "source": [
    "Our Kubernetes cluster utilizes the [ExternalDNS by Bitnami](https://bitnami.com/stack/external-dns/helm) Helm chart to create new DNS host records for Ingress objects assigned to applications. This allows users to provide hostnames in the `*.k8s.ucar.edu` domain in their Ingress configuration. ExternalDNS will then go ahead and create an associated A record in DNS so the hostname and subsequent URL are resolvable. This is coupled with [cert-manager](cert-mgr.ipynb) and the [Ingress Controller](ingress.ipynb) to provide a Fully Qualified Domain Name (FQDN) and URL that are reachable over HTTPS with valid TLS certs. "
   ]
  },
  {
   "cell_type": "markdown",
   "metadata": {},
   "source": [
    "We provide a custom values file to the Helm chart during installation. The custom values can be found on our GitHub repository at the following [link](https://github.com/NCAR/cisl-cloud/blob/main/cluster/external-dns-helm.yaml). Couple this with the Bitnami Helm chart installation documentation [here](https://bitnami.com/stack/external-dns/helm) to get this up and running on our cluster. "
   ]
  }
 ],
 "metadata": {
  "language_info": {
   "name": "python"
  }
 },
 "nbformat": 4,
 "nbformat_minor": 2
}