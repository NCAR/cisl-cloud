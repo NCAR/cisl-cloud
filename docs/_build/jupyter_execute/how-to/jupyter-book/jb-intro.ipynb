{
 "cells": [
  {
   "attachments": {},
   "cell_type": "markdown",
   "metadata": {},
   "source": [
    "# Jupyter Book"
   ]
  },
  {
   "cell_type": "markdown",
   "metadata": {},
   "source": [
    "Our documentation site is built with [Jupyter Book](https://jupyterbook.org/en/stable/intro.html), an open-source tool for building publication-quality books and documents from computational material.\n",
    "\n",
    "Jupyter Book allows users to\n",
    "\n",
    "* write their content in markdown files or Jupyter notebooks,\n",
    "* include computational elements (e.g., code cells) in either type,\n",
    "* include rich syntax such as citations, cross-references, and numbered equations, and\n",
    "* using a simple command, run the embedded code cells, cache the outputs and convert this content into:\n",
    "    * a web-based interactive book and\n",
    "    * a publication-quality PDF."
   ]
  },
  {
   "cell_type": "markdown",
   "metadata": {},
   "source": [
    "All content is currently hosted at [this GitHub repo link](https://github.com/NCAR/cisl-cloud/tree/main/docs). We deploy on GitHub pages and internally to K8s."
   ]
  }
 ],
 "metadata": {
  "language_info": {
   "name": "python"
  }
 },
 "nbformat": 4,
 "nbformat_minor": 2
}