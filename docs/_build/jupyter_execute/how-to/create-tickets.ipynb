{
 "cells": [
  {
   "cell_type": "markdown",
   "metadata": {},
   "source": [
    "# Create tickets"
   ]
  },
  {
   "cell_type": "markdown",
   "metadata": {},
   "source": [
    "The team utilizes Jira software to create tickets that then follow our [Kanban workflow](https://ncar.github.io/cisl-cloud/how-to/agile.html#kanban-board). There is a [`Report Issue`](https://jira.ucar.edu/secure/CreateIssueDetails!init.jspa?pid=18470&issuetype=10905) link on the top of this page that will take you to a page that looks like this:"
   ]
  },
  {
   "cell_type": "markdown",
   "metadata": {},
   "source": [
    "```{note}\n",
    "An Error may occur if you are not logged in or don't have the proper permissions. Click the link to login and you should be redirected back to the Create Issue page automatically. We try to allow any user the ability to create tickets but if you don't have proper permissions create a ticket [here](https://ithelp.ucar.edu/servicedesk/customer/portal/2/create/17) and a Jira administrator will grant access to the CCPP project.  \n",
    "```"
   ]
  },
  {
   "cell_type": "markdown",
   "metadata": {},
   "source": [
    "<img src=\"https://ncar.github.io/cisl-cloud/_static/create-issue.png\"/>"
   ]
  },
  {
   "cell_type": "markdown",
   "metadata": {},
   "source": [
    "````{margin}\n",
    "```{note}\n",
    "The Project and Issue Type are selected by default.\n",
    "```\n",
    "```{admonition} Summary\n",
    ":class: dropdown\n",
    "For the Summary field put in a short description of the issue you are having.\n",
    "```\n",
    "```{admonition} Reporter\n",
    ":class: dropdown\n",
    "The Reporter field is not filled automatically. Please search for and select your name.\n",
    "```\n",
    "```{admonition} Description\n",
    ":class: dropdown\n",
    "Describe your issue in detail here. Please include any error messages or information you think is relevant. \n",
    "```\n",
    "```{admonition} Priority\n",
    ":class: dropdown\n",
    "<img src=\"https://ncar.github.io/cisl-cloud/_static/jira-priority.png\"/> \n",
    "```\n",
    "````"
   ]
  }
 ],
 "metadata": {
  "language_info": {
   "name": "python"
  }
 },
 "nbformat": 4,
 "nbformat_minor": 2
}