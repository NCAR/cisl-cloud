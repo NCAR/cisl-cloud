{
 "cells": [
  {
   "cell_type": "markdown",
   "metadata": {},
   "source": [
    "# Setup Nvidia GPU for JupyterHub"
   ]
  },
  {
   "cell_type": "markdown",
   "metadata": {},
   "source": [
    "``` {note}\n",
    "This assumes that the Nvidia GPU Operator is installed and working on your k8s cluster. Please see the [Getting Started](https://docs.nvidia.com/datacenter/cloud-native/gpu-operator/latest/getting-started.html) documentation from Nvidia for more details on setting up the GPU Operator.    \n",
    "```"
   ]
  },
  {
   "cell_type": "markdown",
   "metadata": {},
   "source": [
    "In order to connect JupyterHub singleuser environments to GPUs the nvidia runtime class needs to be set as the default for the container. Changing the default runtime for the cluster will cause issues and can bring the whole cluster down by interrupting other pods like the CNIs (Container Network Interface). This can be accomplished by providing an [extra_pod_config](https://jupyterhub-kubespawner.readthedocs.io/en/latest/spawner.html#kubespawner.KubeSpawner.extra_pod_config) in the helm chart configuration for the GPU singleuser image. This isn't 100% clear in the documentation and where to place this isn't clear either. An example of what this looks like in the values used for the Helm install is as follows:"
   ]
  },
  {
   "cell_type": "markdown",
   "metadata": {},
   "source": [
    "```\n",
    "- display_name: NVIDIA Tesla T4, ~16 GB, ~4 CPUs\n",
    "  slug: gpu\n",
    "  description: \"Start a container on a dedicated node with a GPU\"\n",
    "  profile_options:\n",
    "    image:\n",
    "      display_name: Image\n",
    "      choices:\n",
    "        tensorflow:\n",
    "          display_name: Pangeo Tensorflow ML Notebook\n",
    "          slug: \"tensorflow\"\n",
    "          kubespawner_override:\n",
    "            image: \"pangeo/ml-notebook:2023.05.18\"\n",
    "        pytorch:\n",
    "          display_name: Pangeo PyTorch ML Notebook\n",
    "          default: true\n",
    "          slug: \"pytorch\"\n",
    "          kubespawner_override:\n",
    "            image: \"pangeo/pytorch-notebook:2023.05.18\"\n",
    "  kubespawner_override:\n",
    "    mem_limit: null\n",
    "    mem_guarantee: 14G\n",
    "    environment:\n",
    "      NVIDIA_DRIVER_CAPABILITIES: compute,utility\n",
    "    extra_pod_config:\n",
    "      runtimeClassName: \"nvidia\"\n",
    "    extra_resource_limits:\n",
    "      nvidia.com/gpu: \"1\"\n",
    "```"
   ]
  }
 ],
 "metadata": {
  "language_info": {
   "name": "python"
  }
 },
 "nbformat": 4,
 "nbformat_minor": 2
}