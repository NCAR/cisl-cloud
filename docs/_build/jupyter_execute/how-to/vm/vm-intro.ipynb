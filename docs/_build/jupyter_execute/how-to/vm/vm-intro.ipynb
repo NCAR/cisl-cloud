{
 "cells": [
  {
   "cell_type": "markdown",
   "metadata": {},
   "source": [
    "# Virtual Machines (VMs)"
   ]
  },
  {
   "cell_type": "markdown",
   "metadata": {},
   "source": [
    "Virtual machines can be provided if containers aren't the best use case for the solution. Right now the process to get a VM is to submit a ticket with the NCAR/UCAR Service Desk [here](https://ithelp.ucar.edu/servicedesk/customer/portal/2/create/17). In your request please provide the number of CPUs, amount of memory (GB), required disk size (GB), and the operating system you want to run. If you have any other special requests or requirements please provide them here. "
   ]
  }
 ],
 "metadata": {
  "language_info": {
   "name": "python"
  }
 },
 "nbformat": 4,
 "nbformat_minor": 2
}