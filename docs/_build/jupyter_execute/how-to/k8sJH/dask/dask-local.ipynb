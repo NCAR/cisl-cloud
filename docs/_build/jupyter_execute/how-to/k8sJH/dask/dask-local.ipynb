{
 "cells": [
  {
   "cell_type": "markdown",
   "metadata": {},
   "source": [
    "# Using LocalCluster with Dask"
   ]
  },
  {
   "cell_type": "markdown",
   "metadata": {},
   "source": [
    "In Python you can utilize dask to create a cluster for parallel processing that shares resources with the system the code is running on. [LocalCluster](https://docs.dask.org/en/stable/deploying-python.html#localcluster) is the best way to get started using Dask. It allows time to understand the different components involved in implementing parallel computing. Python's standard interpreter, CPython, is single threaded and only runs on a single CPU core. Your computer likely has multiple CPU cores available and tools like Dask LocalCluster can be used to take advantage of more CPU cores. By starting here you will understand when LocalCluster is no longer enough and more resources are required to scale your application or analysis. An example of how to accomplish this in your Python code can be seen below:"
   ]
  },
  {
   "cell_type": "markdown",
   "metadata": {},
   "source": [
    "```\n",
    "from dask.distributed import Client, LocalCluster\n",
    "    cluster = LocalCluster(\n",
    "        'cluster-name',\n",
    "        n_workers = 4\n",
    "    )\n",
    "    client = Client(cluster)\n",
    "    client\n",
    "```"
   ]
  },
  {
   "cell_type": "markdown",
   "metadata": {},
   "source": [
    "This will start 4 Dask workers and a scheduler on local resources. If you run this Python code on the NCAR JupyterHub instance you will see a Widget that you can expand and explore your cluster options. An example of this can be seen in the image below:"
   ]
  },
  {
   "cell_type": "markdown",
   "metadata": {},
   "source": [
    "<img src=\"https://ncar.github.io/cisl-cloud/_static/dask-local.png\"/>"
   ]
  },
  {
   "cell_type": "markdown",
   "metadata": {},
   "source": [
    "On the NCAR JupyterHub the dashboard links will take you to a Dask dashboard page. This should also work on your local machine as well. When run in virtual environments or containers considerations will need to be taken to ensure the dashboard port is exposed and proxied correctly.  "
   ]
  }
 ],
 "metadata": {
  "language_info": {
   "name": "python"
  }
 },
 "nbformat": 4,
 "nbformat_minor": 2
}