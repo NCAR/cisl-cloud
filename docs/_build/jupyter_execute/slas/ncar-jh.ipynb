{
 "cells": [
  {
   "cell_type": "markdown",
   "metadata": {},
   "source": [
    "# NCAR JupyterHub SLA"
   ]
  },
  {
   "cell_type": "markdown",
   "metadata": {},
   "source": [
    "Currently the NCAR JupyterHub is in the Pilot phase. None of the resources provided as part of the CISL cloud currently have any defined SLAs. There are no guarantees when it comes to persisting user data in the NCAR JupyterHub instance, uptime of the service, or set times to recovery in case of an outage. The services are built in a robust way and should not incur any of these issues, but since it is still in development unsuspected issues may arise when implementing or troubleshooting current and new services. A defined set of SLAs will be provided for the NCAR JupyterHub and any attached systems if the CISL cloud project is to be funded for a production service. "
   ]
  }
 ],
 "metadata": {
  "language_info": {
   "name": "python"
  }
 },
 "nbformat": 4,
 "nbformat_minor": 2
}