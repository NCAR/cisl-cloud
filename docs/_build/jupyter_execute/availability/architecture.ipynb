{
 "cells": [
  {
   "cell_type": "markdown",
   "metadata": {},
   "source": [
    "# Current Architecture Diagram"
   ]
  },
  {
   "cell_type": "markdown",
   "metadata": {},
   "source": [
    "<a href=\"https://ncar.github.io/cisl-cloud/_static/ccpp-diagram.png\"><img src=\"https://ncar.github.io/cisl-cloud/_static/ccpp-diagram.png\"/></a>"
   ]
  },
  {
   "cell_type": "markdown",
   "metadata": {},
   "source": [
    "# Architecture Explanation"
   ]
  },
  {
   "cell_type": "markdown",
   "metadata": {},
   "source": [
    "All of the CISL Cloud infrastructure is deployed inside the NCAR network and is only accessible while connected to the network. This includes the hardware and everything installed on it. Communication to external services goes through a firewall that controls what is permitted access and what is denied. "
   ]
  },
  {
   "cell_type": "markdown",
   "metadata": {},
   "source": [
    "## Kubernetes Install"
   ]
  },
  {
   "cell_type": "markdown",
   "metadata": {},
   "source": [
    "We have installed [Kubernetes (k8s)](https://kubernetes.io/) master nodes on virtual machines running Linux and worker nodes on bare metal servers running Linux. Currently we have 5 Supermicro servers with 2 Intel Xeon Gold 6326 processors with 16 cores each, 512 GB of RAM, and Nvidia A2 Tensor GPUs that have 1280 cores and 16 GB of memory. "
   ]
  },
  {
   "cell_type": "markdown",
   "metadata": {},
   "source": [
    "## Securely Exposing Services"
   ]
  },
  {
   "cell_type": "markdown",
   "metadata": {},
   "source": [
    "On the k8s cluster an [Nginx Ingress controller](https://docs.nginx.com/nginx-ingress-controller/) is configured to expose Services on the network. This is coupled with [ExternalDNS](https://bitnami.com/stack/external-dns/helm) in order to create DNS entries that resolve to FQDNs in order to browse to URLs of services deployed. In order to make sure the URLs exposed are secure we implemented [cert-manager](https://cert-manager.io/) to assign valid certificates to applications and perform lifecycle management on the issued certificates. This ensures all services are accessible only via HTTPS with valid certificates.   "
   ]
  },
  {
   "cell_type": "markdown",
   "metadata": {},
   "source": [
    "## Storage Options"
   ]
  },
  {
   "cell_type": "markdown",
   "metadata": {},
   "source": [
    "### Rook"
   ]
  },
  {
   "cell_type": "markdown",
   "metadata": {},
   "source": [
    "[Rook](https://rook.io/docs/rook/v1.11/Getting-Started/intro/) is used to provide storage orchestration to k8s workloads. Rook utilizes Ceph as a distributed storage system to provide file, block, and object storage capabilities to the k8s cluster and the underlying objects hosted. "
   ]
  },
  {
   "cell_type": "markdown",
   "metadata": {},
   "source": []
  }
 ],
 "metadata": {
  "language_info": {
   "name": "python"
  }
 },
 "nbformat": 4,
 "nbformat_minor": 2
}