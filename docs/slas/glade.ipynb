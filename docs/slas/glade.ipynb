{
 "cells": [
  {
   "attachments": {},
   "cell_type": "markdown",
   "metadata": {},
   "source": [
    "# GLADE SLA's\n",
    "GLADE is part of the Advanced Research Computing (ARC) group. Their [documentation](https://arc.ucar.edu/knowledge_base/68878466) provides the policies in place for GLADE. \n",
    "\n",
    "## GLADE Help\n",
    "Help with GLADE directly should be addressed by submitting a ticket to the [NCAR Research Computing help desk](https://rchelp.ucar.edu/).\n",
    "\n",
    "If there is an issue with accessing GLADE from the k8s JupyterHub please email [cisl-on-prem-cloud@ucar.edu](mailto:cisl-on-prem-cloud@ucar.edu) or open a ticket on the [CCPP jira project](https://jira.ucar.edu/secure/CreateIssue!default.jspa)"
   ]
  }
 ],
 "metadata": {
  "language_info": {
   "name": "python"
  },
  "orig_nbformat": 4
 },
 "nbformat": 4,
 "nbformat_minor": 2
}
