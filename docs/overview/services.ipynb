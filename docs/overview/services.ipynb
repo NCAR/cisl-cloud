{
 "cells": [
  {
   "attachments": {},
   "cell_type": "markdown",
   "metadata": {},
   "source": [
    "# Potential Services"
   ]
  },
  {
   "cell_type": "markdown",
   "metadata": {},
   "source": [
    "This is a list of additional services identified at the start of the project that users would benefit from that have not been deployed. Available offerings can be viewed at this [link to current services](../availability/services)"
   ]
  },
  {
   "cell_type": "markdown",
   "metadata": {},
   "source": [
    "## BinderHub\n",
    "```{dropdown} Details\n",
    "* Users get custom links to recreate environments on CISL on-premise or 2i2c JupyterHub. <br>\n",
    "* Provide a public or private Container Registry to host images created from GitHub repository. <br>\n",
    "```"
   ]
  },
  {
   "cell_type": "markdown",
   "metadata": {},
   "source": [
    "## Logging/Metrics\n",
    "```{dropdown} Details\n",
    "* Provide interactive dashboards for compute, storage, and networking resources. <br>\n",
    "* Log all user interactions with our services in order to provide utilization and usage numbers. <br>\n",
    "* Make a determination for on-premise service feasibility based on the information collected. <br>\n",
    "* Performance on the teams ability to meet Service Level Agreements (SLAs) will be recorded. \n",
    "```"
   ]
  },
  {
   "cell_type": "markdown",
   "metadata": {},
   "source": [
    "## Service Level Agreements (SLAs) \n",
    "```{dropdown} Details\n",
    "* Defines and documents the operating procedures and commitments between providers and users. <br>\n",
    "* SLAs will be defined and documented for each service so users and maintainers can operate with the same expectations. <br>\n",
    "```"
   ]
  },
  {
   "cell_type": "markdown",
   "metadata": {},
   "source": [
    "## Backups/Disaster Recovery (DR)\n",
    "```{dropdown} Details\n",
    "* Each supported service will have an associated and documented Backup and DR policy as part of the SLAs.\n",
    "```"
   ]
  }
 ],
 "metadata": {
  "language_info": {
   "name": "python"
  },
  "orig_nbformat": 4
 },
 "nbformat": 4,
 "nbformat_minor": 2
}
