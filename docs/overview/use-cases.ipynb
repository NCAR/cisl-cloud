{
 "cells": [
  {
   "cell_type": "markdown",
   "metadata": {},
   "source": [
    "# Use Cases"
   ]
  },
  {
   "cell_type": "markdown",
   "metadata": {},
   "source": [
    "## [JupyterHub](../how-to/k8sJH/k8sJH-intro)\n",
    "JupyterHub is running on a bare metal kubernetes (k8s) cluster deployed with Rancher RKE2. This instance has authentication for individual users where, once authenticated, the user is able to select from a few different sized environments, some offering GPU capabilities. A new instance is spun up with KubeSpawner from a base image. The base image contains a few common kernels and packages but users are able to customize their instance with the packages they require. Shared storage is provided with a unique directory for each user to keep their files. GLADE read-only access is also provided to each instance so datasets can be accessed from an internal nearby location. Dask service are provided in the form of dask distributed, dask-gateway, and dask-jobqueue for running against HPC resources. Web based visualization capabilities via JupyterHub are also provided but access to these websites will be limited to authorized users of the JupyterHub instance. Web based visualizations without authentication is possible via Kubernetes."
   ]
  },
  {
   "cell_type": "markdown",
   "metadata": {},
   "source": [
    "### [Dask on JupyterHub](../how-to/k8sJH/dask/dask-intro)\n",
    "* Dask dashboard can be used to view resource utilization and is automatically started via Bokeh once a Dask scheduler is created. \n",
    "* Dask Arrays can be used in place of NumPy for parallelized processing of larger-than-memory Arrays.\n",
    "* Dask DataFrames can be used in place of pandas for parallelized processing of larger-than-memory DataFrames.\n",
    "* Utilize Xarray open_mfdataset & parallel=True to open multiple files as a single Xarray dataset in parallel with Dask Delayed.\n",
    "* Dask Distributed can be utilized to create a local Dask Cluster or utilize HPC resources via dask-jobqueue.\n",
    "* Running Project Pythia cookbooks such as [this one](https://projectpythia.org/cesm-lens-aws-cookbook/README.html).\n",
    "* This [notebook](https://github.com/NCAR/iPOGS/blob/main/notebooks/AMOCsig2_0.1deg_RCP_loop_time.ipynb) utilizes Xarray, Dask Array and Distributed together to allow calculation of the Meridional Overturning Circulation for a series of high resolution projections of ocean state under a climate change scenarios."
   ]
  },
  {
   "cell_type": "markdown",
   "metadata": {},
   "source": [
    "### [GPUs on JupyterHub](../how-to/k8sJH/gpu/gpu-intro)\n",
    "* GPU enabled Jupyter notebook servers can be provided to users who want to take advantage of parallel processing on GPU cores.\n",
    "* Dask distributed will also be able to create workers with GPUs in order to utilize python modules like RAPIDS and CuPy. "
   ]
  },
  {
   "cell_type": "markdown",
   "metadata": {},
   "source": [
    "## Data Access"
   ]
  },
  {
   "cell_type": "markdown",
   "metadata": {},
   "source": [
    "### GLADE Access\n",
    "GLADE Access is provided to JupyterHub instances for users to read GLADE datasets in a close location. An NFS mount to other resources hosted on CISL on-prem cloud hardware is available as well. "
   ]
  },
  {
   "cell_type": "markdown",
   "metadata": {},
   "source": [
    "### [Object Storage](../how-to/Stratus/stratus-intro)\n",
    "CISL provides an Object Storage system named Stratus with an API available to access S3 buckets in the same fashion as AWS. STRATUS can be utilized to provide API access to required datasets. Administrators on our STRATUS implementation are responsible for user management and the creation and maintenance of new buckets. An elastic and flexible catalog for datasets will be implemented with preview or thumbnail methods to ensure access to the correct datasets. Uncoupling large datasets in to individual components will be part of the implementation process."
   ]
  },
  {
   "cell_type": "markdown",
   "metadata": {},
   "source": [
    "### Shared Storage\n",
    "Shared Storage can be provided to JupyterHub instances via the NFS protocol. Access to these mounts from other resources hosted on CISL on-prem cloud hardware may be made available as well."
   ]
  },
  {
   "cell_type": "markdown",
   "metadata": {},
   "source": [
    "### Local Transfers\n",
    "A method to allow for quick and easy data & output transfers to local systems will be provided with detailed instructions. Stratus can be utilized for this use case as well/ "
   ]
  },
  {
   "cell_type": "markdown",
   "metadata": {},
   "source": [
    "## [Web Visualization Hosting](../how-to/K8s/Hosting/web-intro)\n",
    "Real time interactive and customizable web visualizations can be hosted in various methods on CISL infrastructure. Applications such as Bokeh, Panel, Viola, etc. can host interactive visualizations from Jupyter Notebooks or Python applications. Users will be provided with a programmatic way to deploy these applications with public or private URLs in a stable highly available environment."
   ]
  },
  {
   "cell_type": "markdown",
   "metadata": {},
   "source": [
    "## File Sharing\n",
    "The CISL on-prem infrastructure provides a location that is easier to access and share information and files. There's a few methods to accomplish this currently, such as Stratus and additional mounts, but additional applications, such as NextCloud, could be deployed to setup file sharing services for teams and users. "
   ]
  },
  {
   "cell_type": "markdown",
   "metadata": {},
   "source": [
    "## Creating k8s clusters\n",
    "Rancher is part of the on-prem software stack and can be utilized to provision users their own k8s cluster for development or production use cases. Access to most storage resources can also be provided in these deployments."
   ]
  },
  {
   "cell_type": "markdown",
   "metadata": {},
   "source": [
    "## Hosting Containerized Applications\n",
    "Users are able to deploy their containerized applications in to the k8s cluster which provides a highly available and accessible hosting location. Smaller individual JupyterLab containers can be provisioned with the ability to host public facing web visualizations via notebooks and code running in the JupyterLab containers."
   ]
  },
  {
   "cell_type": "markdown",
   "metadata": {},
   "source": [
    "## Hosting Virtual Machines (VMs)\n",
    "If needed, VM's can also be provided either from pre configured templates or as bare instances and will be hosted either in a VMware cluster or the k8s cluster."
   ]
  },
  {
   "cell_type": "markdown",
   "metadata": {},
   "source": [
    "## Running Tutorials\n",
    "An on-premise cloud allows hosting user tutorials in an environment controlled by the organization. Access to systems is controlled by administrators and tutorial leaders in a programmatic way speeding up the on-boarding and off-boarding process. Golden images that allow an identical starting point for each tutorial would be hosted on shared storage. These images would be deployed and assigned to users in a programmatic way by administrators and tutorial leaders. Remote viewing access for users and administrators simultaneously would also create an environment where it was easier to help troubleshoot issues during the tutorials. If possible this would be best done on a Web UI as trying to use SSH and VNC may have firewall complications that a Web UI can alleviate."
   ]
  },
  {
   "cell_type": "markdown",
   "metadata": {},
   "source": [
    "## Continuous Integration (CI) Continuous Deployment (CD) Platform\n",
    "CI/CD tools like Jenkins and Argo CD can be hosted to run automated test suites on new code deployments. GitHub Actions can also be utilized for CI. "
   ]
  },
  {
   "cell_type": "markdown",
   "metadata": {},
   "source": [
    "## Development Environment\n",
    "Development and testing the migration of existing workflows to platform independent micro services in a low/no cost environment. "
   ]
  }
 ],
 "metadata": {
  "language_info": {
   "name": "python"
  },
  "orig_nbformat": 4
 },
 "nbformat": 4,
 "nbformat_minor": 2
}
