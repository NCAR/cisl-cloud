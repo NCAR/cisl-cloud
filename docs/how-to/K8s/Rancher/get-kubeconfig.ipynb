{
 "cells": [
  {
   "cell_type": "markdown",
   "metadata": {},
   "source": [
    "# Get a kubeconfig"
   ]
  },
  {
   "cell_type": "markdown",
   "metadata": {},
   "source": [
    "```{note}\n",
    "The following documentation assumes you have installed [`kubectl`](https://kubernetes.io/docs/tasks/tools/) for your OS. Follow the steps [here](https://kubernetes.io/docs/tasks/tools/) if you have not. \n",
    "```"
   ]
  },
  {
   "cell_type": "markdown",
   "metadata": {},
   "source": [
    "## What is a kubeconfig?"
   ]
  },
  {
   "cell_type": "markdown",
   "metadata": {},
   "source": [
    "In kubernetes (k8s) you access and interact with the k8s cluster by using a [kubeconfig](https://kubernetes.io/docs/concepts/configuration/organize-cluster-access-kubeconfig/). The link provides much more in depth information but in summary the kubeconfig is a yaml file that contains the server address, certificates, and secret information to securely authenticate to the cluster. In order to interact with a k8s cluster we need to obtain the kubeconfig for that cluster and either store it in a known location or specify the location of the file."
   ]
  },
  {
   "cell_type": "markdown",
   "metadata": {},
   "source": [
    "## Login to Rancher"
   ]
  },
  {
   "cell_type": "markdown",
   "metadata": {},
   "source": [
    "The link to NCARs [Rancher](https://rancher.k8s.ucar.edu/) instance is always at the top of this documentation under the Resources tab. Navigate to rancher, provide your CIT credentials, and select `Log in with ActiveDirectory`. \n",
    "\n",
    "```{note}\n",
    "In the username field please specify the domain before your username : ie. CIT\\<username>\n",
    "```"
   ]
  },
  {
   "cell_type": "markdown",
   "metadata": {},
   "source": [
    "## Navigate to Cluster"
   ]
  },
  {
   "cell_type": "markdown",
   "metadata": {},
   "source": [
    "```{note}\n",
    "As of the writing of this document there is only one cluster in Rancher. It will be used for this example but if there are more than one cluster in the future please make sure you select the cluster you are interested in. \n",
    "```"
   ]
  },
  {
   "cell_type": "markdown",
   "metadata": {},
   "source": [
    "Once you are the logged in to the Rancher UI you will see a list of clusters, or just one, on the center of the screen like in the image below. \n",
    "\n",
    "<img src=\"https://ncar.github.io/cisl-cloud/_static/rancher-clusters.png\"/>\n",
    "\n",
    "The cluster name is a link. Click on that to navigate to the Cluster Dashboard. Once on the Cluster Dashboard page there is a link to download the kubeconfig in the top right of the screen. The image below shows what the `Download KubeConfig` button looks like:\n",
    "\n",
    "<img src=\"https://ncar.github.io/cisl-cloud/_static/download-kubeconfig.png\"/>\n",
    "\n",
    "Click on that button and the cluster kubeconfig will be downloaded as <clustername>.yaml. Now you have a clusters kubeconfig and can use that to access the cluster from the command line. "
   ]
  }
 ],
 "metadata": {
  "language_info": {
   "name": "python"
  },
  "orig_nbformat": 4
 },
 "nbformat": 4,
 "nbformat_minor": 2
}
