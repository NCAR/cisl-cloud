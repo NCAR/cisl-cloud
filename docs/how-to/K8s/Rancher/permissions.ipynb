{
 "cells": [
  {
   "cell_type": "markdown",
   "metadata": {},
   "source": [
    "# Permissions"
   ]
  },
  {
   "cell_type": "markdown",
   "metadata": {},
   "source": [
    "Role Based Access Controls (RBAC) are implemented on rancher so non admin users are limited to what they can interact with. Currently users have the ability to do the following:"
   ]
  },
  {
   "cell_type": "markdown",
   "metadata": {},
   "source": [
    "## Create a namespace"
   ]
  },
  {
   "cell_type": "markdown",
   "metadata": {},
   "source": [
    "In k8s [namespaces](https://kubernetes.io/docs/concepts/overview/working-with-objects/namespaces/) provide a way to isolate resources within a single cluster. A more in depth explanation is provided via the link in the previous sentence but at the core namespaces allow cluster resources to be divided among multiple users while providing a certain level of isolation. The primary way to create a new namespace is via the [Rancher UI](create-namespace.ipynb)"
   ]
  },
  {
   "cell_type": "markdown",
   "metadata": {},
   "source": [
    "```{note}\n",
    "Namespace names have to be unique and names inside a namespace also have to be unique. Resource names can be duplicated across different namespaces. When creating a new namespace please use something unique like your SSO username.\n",
    "```"
   ]
  },
  {
   "cell_type": "markdown",
   "metadata": {},
   "source": [
    "## Deploy k8s objects to user created namespace"
   ]
  },
  {
   "cell_type": "markdown",
   "metadata": {},
   "source": [
    "Once a namespace has been created that is accessible you can create different k8s objects inside that namespace. There's a number of different [k8s objects ](https://kubernetes.io/docs/concepts/overview/working-with-objects/) and the link will provide much more detail than is provided here. Currently we provide documentation on how to deploy a web application with [Helm](../Hosting/web-helm) and [Argo CD](../Hosting/new-user-deployment)."
   ]
  }
 ],
 "metadata": {
  "language_info": {
   "name": "python"
  },
  "orig_nbformat": 4
 },
 "nbformat": 4,
 "nbformat_minor": 2
}
