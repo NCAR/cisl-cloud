{
 "cells": [
  {
   "cell_type": "markdown",
   "metadata": {},
   "source": [
    "# Deploy your application"
   ]
  },
  {
   "cell_type": "markdown",
   "metadata": {},
   "source": [
    "Right now we are still determining the best way to allow users to deploy their applications. If you have a containerized version of your application and want to host it on the CISL cloud currently the best way to accomplish this is by [submitting a ticket](../../create-tickets) to the CISL Cloud Pilot team. We have a few methods identified on deploying with [kubectl](../Hosting/web-kubectl) and with [Helm](../Hosting/web-helm) but as of right now they require a few permissions that only administrators of the cloud have. This will change and a user friendly method to deploy these applications will be identified and documented for the user base."
   ]
  }
 ],
 "metadata": {
  "language_info": {
   "name": "python"
  },
  "orig_nbformat": 4
 },
 "nbformat": 4,
 "nbformat_minor": 2
}
