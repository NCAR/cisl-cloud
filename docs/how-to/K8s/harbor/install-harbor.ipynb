{
 "cells": [
  {
   "cell_type": "markdown",
   "metadata": {},
   "source": [
    "# Install Harbor"
   ]
  },
  {
   "cell_type": "markdown",
   "metadata": {},
   "source": [
    "```{note}\n",
    "Before you begin please make sure you have a namespace to deploy Harbor to. If there is not an existing namespace that makes sense to deploy to please create one for Harbor. \n",
    "```"
   ]
  },
  {
   "cell_type": "markdown",
   "metadata": {},
   "source": [
    "We install Harbor with Helm and the installation is based off the [Harbor Installation Documentation](https://goharbor.io/docs/2.9.0/install-config/harbor-ha-helm/). We provide a customized values file with the Helm install command that is stored in our GitHub repository [here](https://github.com/NCAR/cisl-cloud/blob/main/cluster/harbor-helm/harbor-helm.yml). "
   ]
  },
  {
   "cell_type": "markdown",
   "metadata": {},
   "source": [
    "```{note}\n",
    "Before installing Harbor there are a few lines in the values files that need to be confirmed for the installation. These lines are: \n",
    "* 20 (certSource:) \n",
    "* 29 (secretName:)  \n",
    "* 34 (notarySecretName:)  \n",
    "* 37 (core:) \n",
    "* 38 (notary:) \n",
    "* 128 (externalURL:) \n",
    "* 363 (harborAdminPassword:)\n",
    "```"
   ]
  },
  {
   "cell_type": "markdown",
   "metadata": {},
   "source": [
    "## Create certificates "
   ]
  },
  {
   "cell_type": "markdown",
   "metadata": {},
   "source": [
    "We utilize [cert-manager](../Hosting/cert-mgr) to create TLS certificates for the services deployed. If Harbor has not been deployed new certificates need to be created and applied for the Harbor instance as well as [Notary](https://github.com/notaryproject/notary) which is used to sign the artifacts. Examples of what the kubernetes manifests look like for these certificate requests can be seen in our GitHub repo at this [Harbor link](https://github.com/NCAR/cisl-cloud/blob/main/cluster/harbor-helm/hub-crt.yml) or the [Notary Link](https://github.com/NCAR/cisl-cloud/blob/main/cluster/harbor-helm/hub-notary-crt.yml)"
   ]
  },
  {
   "cell_type": "markdown",
   "metadata": {},
   "source": [
    "## Install Harbor with Helm"
   ]
  },
  {
   "cell_type": "markdown",
   "metadata": {},
   "source": [
    "Now that we've confirmed the Helm chart values for Harbor and created valid certificates for Harbor and Notary we can install Harbor with Helm. First we have to make sure that the Harbor Helm repo is included in Helm with the following command: "
   ]
  },
  {
   "cell_type": "markdown",
   "metadata": {},
   "source": [
    "`helm repo add harbor https://helm.goharbor.io`"
   ]
  },
  {
   "cell_type": "markdown",
   "metadata": {},
   "source": [
    "Once the Harbor Helm repository has been added we can go ahead and install Harbor. An example command of how this is accomplished can be seen below:"
   ]
  },
  {
   "cell_type": "markdown",
   "metadata": {},
   "source": [
    "`helm install harbor harbor/harbor --version 1.12.4 -f values.yaml --debug -n <namespace>`"
   ]
  },
  {
   "cell_type": "markdown",
   "metadata": {},
   "source": [
    "## Expanding the PVC"
   ]
  },
  {
   "cell_type": "markdown",
   "metadata": {},
   "source": [
    "Our Harbor instance utilizes a PVC backed by Rook & CEPH to provide storage for the images pushed to the registry. Currently the PVC is 150GB in size. If this needs to expand administrators can increase the PVC size by following this [link to PV resizing directions](https://kubernetes.io/docs/concepts/storage/persistent-volumes/#expanding-persistent-volumes-claims)"
   ]
  }
 ],
 "metadata": {
  "language_info": {
   "name": "python"
  },
  "orig_nbformat": 4
 },
 "nbformat": 4,
 "nbformat_minor": 2
}
