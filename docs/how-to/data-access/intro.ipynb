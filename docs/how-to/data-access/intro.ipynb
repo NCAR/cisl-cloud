{
 "cells": [
  {
   "cell_type": "markdown",
   "metadata": {},
   "source": [
    "# Data Access"
   ]
  },
  {
   "cell_type": "markdown",
   "metadata": {},
   "source": [
    "The next pages will go over some different data access methods and examples. If you have an example or method that you are interested in that is not present already please submit a ticket using the `REPORT ISSUE` link on the top of this navbar that contains information on what you are looking for."
   ]
  }
 ],
 "metadata": {
  "language_info": {
   "name": "python"
  }
 },
 "nbformat": 4,
 "nbformat_minor": 2
}
