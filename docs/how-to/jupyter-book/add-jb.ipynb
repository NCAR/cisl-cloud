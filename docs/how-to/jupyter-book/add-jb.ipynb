{
 "cells": [
  {
   "cell_type": "markdown",
   "metadata": {},
   "source": [
    "# Add content"
   ]
  },
  {
   "cell_type": "markdown",
   "metadata": {},
   "source": [
    "As the project expands there is a need to expand the documentation with it. This page will go over how to add content to this documentation site and publish those changes."
   ]
  },
  {
   "cell_type": "markdown",
   "metadata": {},
   "source": [
    "## Clone GitHub Repo\n",
    "\n",
    "The GitHub repository is where all content is stored, tracked, and updated. Any updates to the documentation site start by creating a copy of the code locally and changing in to the docs directory."
   ]
  },
  {
   "cell_type": "markdown",
   "metadata": {},
   "source": [
    "```\n",
    "git clone https://github.com/NCAR/cisl-cloud.git\n",
    "cd docs/\n",
    "```\n",
    "```{note}\n",
    "Currently this repository is private. Access to clone and push changes is restricted to team members only.\n",
    "```"
   ]
  },
  {
   "cell_type": "markdown",
   "metadata": {},
   "source": [
    "## Add new notebooks\n",
    "\n",
    "Create new notebooks that contain the content that needs to be shared with the user base. Right now there are a few different folders to store these documents. Here is a breakdown of what folders are and the content they host:"
   ]
  },
  {
   "cell_type": "markdown",
   "metadata": {},
   "source": [
    "```\n",
    "_static/            # Place any images, custom css, or javascript here\n",
    "_templates/         # Custom HTML pages to overwrite the templates used by Project Pythia\n",
    "availability/       # Content related to available services and hardware \n",
    "how-to/             # All How-To do content\n",
    "    2i2cJH/         # Any information relating to use of the 2i2c hosted JupyterHub\n",
    "    jupyter-book/   # Details about this documentation website and how to maintain\n",
    "    K8s/            # General kubernetes information\n",
    "    k8sJH/          # Information relating directly to the use of the NCAR JupyterHub running on k8s\n",
    "    Stratus/        # How-to utilize Stratus for object storage\n",
    "    vm/             # Brief intro to VMs and how to get one\n",
    "images/             # Only used for the navbar icon and favicon.\n",
    "overview/           # General information about the project and services\n",
    "slas/               # Service Level Agreement policies\n",
    "```"
   ]
  },
  {
   "cell_type": "markdown",
   "metadata": {},
   "source": [
    "```{note}\n",
    "Place any images used in notebooks directly in the `_static/` directory and reference them using a URL like `https://ncar.github.io/cisl-cloud/_static/my-new-image.png`. Images placed in the `images` directory are not copied correctly. \n",
    "```"
   ]
  },
  {
   "cell_type": "markdown",
   "metadata": {},
   "source": [
    "When adding content please place the files in a directory that makes sense. If one does not exist please create a directory for it that is descriptive for others. \n",
    "```{note}\n",
    "Any new additions should also be reflected by updating the directory layout above.\n",
    "```"
   ]
  },
  {
   "cell_type": "markdown",
   "metadata": {},
   "source": [
    "## Update _toc.yml"
   ]
  },
  {
   "cell_type": "markdown",
   "metadata": {},
   "source": [
    "```{note}\n",
    "The [JupyterBook Documentation](https://jupyterbook.org/customize/toc.html) is a good reference for the table of contents structure.\n",
    "```"
   ]
  },
  {
   "cell_type": "markdown",
   "metadata": {},
   "source": [
    "Just adding content is not enough to actually publish it on the site. Any new additions need to be reflected in the `_toc.yml` (Table of Contents) file. Below is a short example of the `_toc.yml` file that covers the applicable layouts:"
   ]
  },
  {
   "cell_type": "markdown",
   "metadata": {},
   "source": [
    "```\n",
    "format: jb-book\n",
    "root: index\n",
    "parts:\n",
    "  - chapters:\n",
    "    - file: overview/about\n",
    "    - file: overview/use-cases\n",
    "    - file: overview/goals\n",
    "  - caption: How-Tos \n",
    "    chapters:\n",
    "      - title: Agile Interaction\n",
    "        file: how-to/agile\n",
    "      - title: Jupyter Book\n",
    "        file: how-to/jupyter-book/jb-intro\n",
    "        sections:\n",
    "          - file: how-to/jupyter-book/create-jb\n",
    "```"
   ]
  },
  {
   "cell_type": "markdown",
   "metadata": {},
   "source": [
    "The top line defines the `format` that Jupyter Book should expect from the table of contents. `jb-book` specifies that Jupyter Book should expect `chapters` and `parts` in the rest of the file. \n",
    "\n",
    "The second line defines the homepage or `root` file that should be loaded. For this documentation the index.ipynb file is specified to be the `root`.\n",
    "\n",
    "```{note}\n",
    "File extensions are not required when specifying any of the files to load. For this reason be careful not to duplicate filenames with different file extensions.\n",
    "```\n",
    "\n",
    "The final main section of the yaml file we are using is for `parts`. This is where all the different content is laid out and organized. There's a few different ways to outline all of this, as shown in the above layout, and we will cover each one. \n",
    "\n",
    "The most straightforward way to display content is by pairing the `chapters` entry with the `file` entry.  "
   ]
  },
  {
   "cell_type": "markdown",
   "metadata": {},
   "source": [
    "## Build and test updates"
   ]
  },
  {
   "cell_type": "markdown",
   "metadata": {},
   "source": [
    "Once all the changes are in place it's time to build the new book and test it locally. This procedure is already outlined at this [link to building HTML files](https://ncar.github.io/cisl-cloud/how-to/jupyter-book/create-jb.html#build-the-html-files). Please use that documentation to build, test, push, and deploy the changes made to the documentation."
   ]
  }
 ],
 "metadata": {
  "language_info": {
   "name": "python"
  },
  "orig_nbformat": 4
 },
 "nbformat": 4,
 "nbformat_minor": 2
}
