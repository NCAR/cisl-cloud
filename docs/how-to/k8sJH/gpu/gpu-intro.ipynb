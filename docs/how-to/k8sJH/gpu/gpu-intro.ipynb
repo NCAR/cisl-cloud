{
 "cells": [
  {
   "cell_type": "markdown",
   "metadata": {},
   "source": [
    "# Using GPUs"
   ]
  },
  {
   "cell_type": "markdown",
   "metadata": {},
   "source": [
    "The JupyterHubs offered have GPUs available to provide more processing cores for an expansion of parallel processing capabilities. The NCAR JupyterHub has Nvidia A2 Tensor GPUs while the 2i2c JupyterHub utilizes AWS nodes with Nvidia Tesla T4 GPUs. The GPUs can be utilized by selecting a GPU image from the Server Options like in the image seen below:"
   ]
  },
  {
   "cell_type": "markdown",
   "metadata": {},
   "source": [
    "<img src=\"https://ncar.github.io/cisl-cloud/_static/server-opts.png\"/>"
   ]
  },
  {
   "cell_type": "markdown",
   "metadata": {},
   "source": [
    "We currently offer a PyTorch & Tensorflow Jupyter image. Allowing multiple users to access GPU resources at the same time is currently being handled with NVIDIA time slicing. The NVIDIA documentation on this feature at this [link](https://docs.nvidia.com/datacenter/cloud-native/gpu-operator/latest/gpu-sharing.html) provides more detail on the exact mechanism on how this is accomplished. The GPU virtualization layer divides the available GPU resources, including processing cores, memory, and other hardware components, into time slices or time intervals. Each time slice represents a portion of the GPU's processing power and memory. The GPU hypervisor manages the allocation of these time slices to different applications or users. It keeps track of which applications or users have active GPU tasks and assigns time slices to them in a fair and efficient manner. This allows multiple applications or users to share a single GPU, making more efficient use of the hardware and ensuring fair access to GPU resources."
   ]
  },
  {
   "cell_type": "markdown",
   "metadata": {},
   "source": [
    "## Packages used in Tensorflow image"
   ]
  },
  {
   "cell_type": "markdown",
   "metadata": {},
   "source": [
    "The living list of packages can be found directly at this [link to the GitHub repository](https://github.com/NCAR/cisl-cloud/blob/main/configs/jupyter/gpu-tf-notebook/cisl-gpu-base.yaml)\n",
    "\n",
    "While the GitHub repository is still private a static list of packages can be viewed below."
   ]
  },
  {
   "cell_type": "markdown",
   "metadata": {},
   "source": [
    "```{dropdown} PyTorch package list\n",
    "  - flax\n",
    "  - jax\n",
    "  - keras-cv\n",
    "  - catboost\n",
    "  - pyvista[all,trame]\n",
    "  - pyvista-xarray\n",
    "  - cupy\n",
    "  - rapids\n",
    "  - torchaudio\n",
    "  - torchvision\n",
    "  - argopy=0.1.14 \n",
    "  - beautifulsoup4=4.12.2=pyha770c72_0\n",
    "  - bokeh=3.1.1=pyhd8ed1ab_0\n",
    "  - boto3=1.28.2=pyhd8ed1ab_0\n",
    "  - ca-certificates=2023.7.22=hbcca054_0\n",
    "  - cdsapi=0.6.1=pyhd8ed1ab_0\n",
    "  - celluloid=0.2.0=pyhd8ed1ab_0\n",
    "  - certifi=2023.7.22=pyhd8ed1ab_0\n",
    "  - cfgrib=0.9.10.4=pyhd8ed1ab_0\n",
    "  - cmocean=3.0.3=pyhd8ed1ab_0\n",
    "  - cryptography=41.0.7\n",
    "  - dask\n",
    "  - dask-gateway=2023.1.1=pyh8af1aa0_0\n",
    "  - dask-jobqueue=0.8.2=pyhd8ed1ab_0\n",
    "  - dask-ml=2023.3.24=pyhd8ed1ab_1\n",
    "  - datashader=0.15.1=pyhd8ed1ab_0\n",
    "  - descartes=1.1.0=py_4\n",
    "  - docopt=0.6.2=py_1\n",
    "  - erddapy=2.2.0=pyhd8ed1ab_0\n",
    "  - esmpy=8.4.2=pyhc1e730c_1\n",
    "  - flox=0.7.2=pyhd8ed1ab_0\n",
    "  - folium=0.14.0=pyhd8ed1ab_0\n",
    "  - geocat-comp=2023.06.1=pyha770c72_0\n",
    "  - geopy=2.4.0\n",
    "  - geoviews=1.10.0=pyhd8ed1ab_0\n",
    "  - ghp-import=2.1.0=pyhd8ed1ab_0\n",
    "  - globus-cli=3.15.0=pyhd8ed1ab_0\n",
    "  - globus-sdk=3.21.0=pyhd8ed1ab_0\n",
    "  - h5netcdf=1.2.0=pyhd8ed1ab_0\n",
    "  - holoviews=1.18.1=pyhd8ed1ab_0\n",
    "  - hvplot=0.8.4=pyhd8ed1ab_1\n",
    "  - intake=0.7.0=pyhd8ed1ab_0\n",
    "  - intake-esm=2023.7.7=pyhd8ed1ab_0\n",
    "  - intake-thredds=2022.8.19=pyhd8ed1ab_0\n",
    "  - intake-xarray=0.7.0=pyhd8ed1ab_0\n",
    "  - ipykernel=6.24.0=pyh71e2992_0\n",
    "  - ipympl=0.9.3=pyhd8ed1ab_0\n",
    "  - ipywidgets-bokeh=1.5.0\n",
    "  - iris=3.6.1=pyha770c72_0\n",
    "  - jupyter_bokeh=3.0.7\n",
    "  - jupyter-book=0.15.1=pyhd8ed1ab_0\n",
    "  - jupyter-panel-proxy=0.1.0\n",
    "  - metpy=1.5.1=pyhd8ed1ab_0\n",
    "  - nbgitpuller=1.1.1\n",
    "  - nbstripout=0.6.1=pyhd8ed1ab_0\n",
    "  - nc-time-axis=1.4.1=pyhd8ed1ab_0\n",
    "  - numcodecs=0.11.0=py310heca2aa9_1\n",
    "  - numpy\n",
    "  - pandas\n",
    "  - panel=1.2.3=pyhd8ed1ab_0\n",
    "  - papermill=2.3.4=pyhd8ed1ab_0\n",
    "  - pop-tools=2023.6.0=pyhd8ed1ab_0\n",
    "  - pyarrow==14.0.1=py310hf9e7431_1_cpu\n",
    "  - pydap=3.4.0=pyhd8ed1ab_0\n",
    "  - pylint=2.17.4=pyhd8ed1ab_0\n",
    "  - pynco=1.1.0=pyhd8ed1ab_1\n",
    "  - pystac=1.9.0=pyhd8ed1ab_0\n",
    "  - pystac-client=0.7.5=pyhd8ed1ab_0\n",
    "  - python\n",
    "  - python-graphviz=0.20.1=pyh22cad53_0\n",
    "  - python-wget=3.2=py_0\n",
    "  - seaborn=0.12.2=hd8ed1ab_0\n",
    "  - seawater=3.3.4=py_1\n",
    "  - siphon=0.9=pyhd8ed1ab_2\n",
    "  - tobac=1.4.2=pyhd8ed1ab_0\n",
    "  - widgetsnbextension=4.0.8=pyhd8ed1ab_0\n",
    "  - xarray=2023.6.0=pyhd8ed1ab_0\n",
    "  - xesmf=0.7.1=pyhd8ed1ab_0\n",
    "  - xgcm=0.8.1=pyhd8ed1ab_0\n",
    "  - xrft=1.0.1=pyhd8ed1ab_0\n",
    "  - zarr=2.15.0=pyhd8ed1ab_0\n",
    "```"
   ]
  },
  {
   "cell_type": "markdown",
   "metadata": {},
   "source": [
    "## Packages used in the PyTorch image"
   ]
  },
  {
   "cell_type": "markdown",
   "metadata": {},
   "source": [
    "The living list of packages can be found directly at this [link to the GitHub repository](https://github.com/NCAR/cisl-cloud/blob/main/configs/jupyter/gpu-pyt-notebook/cisl-gpu-base.yaml)\n",
    "\n",
    "While the GitHub repository is still private a static list of packages can be viewed below."
   ]
  },
  {
   "cell_type": "markdown",
   "metadata": {},
   "source": [
    "```{dropdown} Tensorflow package list\n",
    "  - gpytorch\n",
    "  - pytorch\n",
    "  - torchvision\n",
    "  - catboost\n",
    "  - pyvista[all,trame]\n",
    "  - pyvista-xarray\n",
    "  - cupy\n",
    "  - rapids\n",
    "  - argopy=0.1.14 \n",
    "  - beautifulsoup4=4.12.2=pyha770c72_0\n",
    "  - bokeh=3.1.1=pyhd8ed1ab_0\n",
    "  - boto3=1.28.2=pyhd8ed1ab_0\n",
    "  - ca-certificates=2023.7.22=hbcca054_0\n",
    "  - cdsapi=0.6.1=pyhd8ed1ab_0\n",
    "  - celluloid=0.2.0=pyhd8ed1ab_0\n",
    "  - certifi=2023.7.22=pyhd8ed1ab_0\n",
    "  - cfgrib=0.9.10.4=pyhd8ed1ab_0\n",
    "  - cmocean=3.0.3=pyhd8ed1ab_0\n",
    "  - cryptography=41.0.7\n",
    "  - dask\n",
    "  - dask-gateway=2023.1.1=pyh8af1aa0_0\n",
    "  - dask-jobqueue=0.8.2=pyhd8ed1ab_0\n",
    "  - dask-ml=2023.3.24=pyhd8ed1ab_1\n",
    "  - datashader=0.15.1=pyhd8ed1ab_0\n",
    "  - descartes=1.1.0=py_4\n",
    "  - docopt=0.6.2=py_1\n",
    "  - erddapy=2.2.0=pyhd8ed1ab_0\n",
    "  - esmpy=8.4.2=pyhc1e730c_1\n",
    "  - flox=0.7.2=pyhd8ed1ab_0\n",
    "  - folium=0.14.0=pyhd8ed1ab_0\n",
    "  - geocat-comp=2023.06.1=pyha770c72_0\n",
    "  - geopy=2.4.0\n",
    "  - geoviews=1.10.0=pyhd8ed1ab_0\n",
    "  - ghp-import=2.1.0=pyhd8ed1ab_0\n",
    "  - globus-cli=3.15.0=pyhd8ed1ab_0\n",
    "  - globus-sdk=3.21.0=pyhd8ed1ab_0\n",
    "  - h5netcdf=1.2.0=pyhd8ed1ab_0\n",
    "  - holoviews=1.18.1=pyhd8ed1ab_0\n",
    "  - hvplot=0.8.4=pyhd8ed1ab_1\n",
    "  - intake=0.7.0=pyhd8ed1ab_0\n",
    "  - intake-esm=2023.7.7=pyhd8ed1ab_0\n",
    "  - intake-thredds=2022.8.19=pyhd8ed1ab_0\n",
    "  - intake-xarray=0.7.0=pyhd8ed1ab_0\n",
    "  - ipykernel=6.24.0=pyh71e2992_0\n",
    "  - ipympl=0.9.3=pyhd8ed1ab_0\n",
    "  - ipywidgets-bokeh=1.5.0\n",
    "  - iris=3.6.1=pyha770c72_0\n",
    "  - jupyter_bokeh=3.0.7\n",
    "  - jupyter-book=0.15.1=pyhd8ed1ab_0\n",
    "  - jupyter-panel-proxy=0.1.0\n",
    "  - metpy=1.5.1=pyhd8ed1ab_0\n",
    "  - nbgitpuller=1.1.1\n",
    "  - nbstripout=0.6.1=pyhd8ed1ab_0\n",
    "  - nc-time-axis=1.4.1=pyhd8ed1ab_0\n",
    "  - numcodecs=0.11.0=py310heca2aa9_1\n",
    "  - numpy\n",
    "  - pandas\n",
    "  - panel=1.2.3=pyhd8ed1ab_0\n",
    "  - papermill=2.3.4=pyhd8ed1ab_0\n",
    "  - pop-tools=2023.6.0=pyhd8ed1ab_0\n",
    "  - pydap=3.4.0=pyhd8ed1ab_0\n",
    "  - pylint=2.17.4=pyhd8ed1ab_0\n",
    "  - pynco=1.1.0=pyhd8ed1ab_1\n",
    "  - pystac=1.9.0=pyhd8ed1ab_0\n",
    "  - pystac-client=0.7.5=pyhd8ed1ab_0\n",
    "  - python\n",
    "  - python-graphviz=0.20.1=pyh22cad53_0\n",
    "  - python-wget=3.2=py_0\n",
    "  - seaborn=0.12.2=hd8ed1ab_0\n",
    "  - seawater=3.3.4=py_1\n",
    "  - siphon=0.9=pyhd8ed1ab_2\n",
    "  - tobac=1.4.2=pyhd8ed1ab_0\n",
    "  - widgetsnbextension=4.0.8=pyhd8ed1ab_0\n",
    "  - xarray=2023.6.0=pyhd8ed1ab_0\n",
    "  - xesmf=0.7.1=pyhd8ed1ab_0\n",
    "  - xgcm=0.8.1=pyhd8ed1ab_0\n",
    "  - xrft=1.0.1=pyhd8ed1ab_0\n",
    "  - zarr=2.15.0=pyhd8ed1ab_0\n",
    "```"
   ]
  }
 ],
 "metadata": {
  "language_info": {
   "name": "python"
  },
  "orig_nbformat": 4
 },
 "nbformat": 4,
 "nbformat_minor": 2
}
