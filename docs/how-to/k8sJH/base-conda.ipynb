{
 "cells": [
  {
   "cell_type": "markdown",
   "metadata": {},
   "source": [
    "# Base Conda Environments"
   ]
  },
  {
   "cell_type": "markdown",
   "metadata": {
    "vscode": {
     "languageId": "plaintext"
    }
   },
   "source": [
    "## cisl-cloud-base"
   ]
  },
  {
   "cell_type": "markdown",
   "metadata": {},
   "source": [
    "The NCAR JupyterHub has a custom conda environment, cisl-cloud-base, as the default base environment. This environment has been put together based on input from users, referencing other production Jupyter images, and requirements that were set to deliver to users. "
   ]
  },
  {
   "cell_type": "markdown",
   "metadata": {},
   "source": [
    "```{note}\n",
    "This is just a default environment that provides common packages to try and enable users to get started quickly. Custom environments are supported and documentation on how to implement them can be found [here](./customize/env)\n",
    "```"
   ]
  },
  {
   "cell_type": "markdown",
   "metadata": {},
   "source": [
    "### List of Packages used"
   ]
  },
  {
   "cell_type": "markdown",
   "metadata": {},
   "source": [
    "The living list of packages can be found directly at this [link to the GitHub repository](https://github.com/NCAR/cisl-cloud/blob/main/configs/jupyter/base-notebook/environment.yml)"
   ]
  },
  {
   "cell_type": "markdown",
   "metadata": {},
   "source": [
    "## NPL"
   ]
  },
  {
   "cell_type": "markdown",
   "metadata": {},
   "source": [
    "We also include the NCAR Python Library (NPL) conda environment and Python Kernel to users. This is a copy of the packages utilized for NPL that is hosted on HPC. We did have to upgrade a few specific versions to address vulnerabilities. For the most part versions will match what is used on HPC JupyterHub."
   ]
  },
  {
   "cell_type": "code",
   "execution_count": null,
   "metadata": {
    "vscode": {
     "languageId": "plaintext"
    }
   },
   "outputs": [],
   "source": [
    "### List of Packages used"
   ]
  },
  {
   "cell_type": "markdown",
   "metadata": {},
   "source": [
    "The living list of packages can be found directly at this [link to the GitHub repository](https://github.com/NCAR/cisl-cloud/blob/main/configs/jupyter/base-notebook/npl-2023b.yml)"
   ]
  },
  {
   "cell_type": "markdown",
   "metadata": {},
   "source": [
    "## r-4.3"
   ]
  },
  {
   "cell_type": "markdown",
   "metadata": {},
   "source": [
    "We provide a base R environment with a packages installed based off what is provided to users on HPC JupyterHub."
   ]
  },
  {
   "cell_type": "markdown",
   "metadata": {},
   "source": [
    "### List of Packages used"
   ]
  },
  {
   "cell_type": "markdown",
   "metadata": {},
   "source": [
    "The living list of packages can be found directly at this [link to the GitHub repository](https://github.com/NCAR/cisl-cloud/blob/main/configs/jupyter/base-notebook/r-4.3.yml)"
   ]
  }
 ],
 "metadata": {
  "language_info": {
   "name": "python"
  },
  "orig_nbformat": 4
 },
 "nbformat": 4,
 "nbformat_minor": 2
}
