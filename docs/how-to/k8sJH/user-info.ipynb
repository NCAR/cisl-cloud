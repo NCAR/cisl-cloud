{
 "cells": [
  {
   "attachments": {},
   "cell_type": "markdown",
   "metadata": {},
   "source": [
    "# User Information"
   ]
  },
  {
   "attachments": {},
   "cell_type": "markdown",
   "metadata": {},
   "source": [
    "Once logged in to the JupyterHub there are a few details that will make it easier to navigate and understand how to utilize what is offered. "
   ]
  },
  {
   "attachments": {},
   "cell_type": "markdown",
   "metadata": {},
   "source": [
    "## Server Options\n",
    "\n",
    "Once logged in the first page displayed is titled `Server Options` and is also known as the spawn page. It's from here where the desired environment is selected and spun up for the user. There's a number of different options for different resources available. Right now this menu is still in development but currently looks like the following:\n",
    "\n",
    "<img src=\"https://ncar.github.io/cisl-cloud/_static/jhub-spawn.png\"/>\n",
    "\n",
    "``` {note}\n",
    "In order to have the conda environments you install persist you have to utilize the Images that begin with NCAR. The images that begin with Pangeo will not persist. We utilize the Pangeo Image to test functionality for this Pilot and will remove them when the NCAR images have been tested further.\n",
    "```\n",
    "\n",
    "The Test NCAR Harbor image is built and maintained by the CCPP team. It is currently still in development and testing. The goal is to make this the primary image for the environment. The following discussion will be based on what is offered in the Test NCAR Custom image. "
   ]
  },
  {
   "attachments": {},
   "cell_type": "markdown",
   "metadata": {},
   "source": [
    "## User Environment\n",
    "\n",
    "* The following is based on what is offered as part of the Test NCAR Harbor image\n",
    "\n",
    "Once logged in the default start up page for everyone will look like this:\n",
    "\n",
    "<img src=\"https://ncar.github.io/cisl-cloud/_static/jhub-main.png\"/>\n"
   ]
  }
 ],
 "metadata": {
  "language_info": {
   "name": "python"
  },
  "orig_nbformat": 4
 },
 "nbformat": 4,
 "nbformat_minor": 2
}
