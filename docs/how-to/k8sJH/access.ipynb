{
 "cells": [
  {
   "attachments": {},
   "cell_type": "markdown",
   "metadata": {},
   "source": [
    "# Requesting Access"
   ]
  },
  {
   "cell_type": "markdown",
   "metadata": {},
   "source": [
    "```{note}\n",
    "If you have access to the NSF NCAR K8s JupyterHub you also have access to the 2i2c JupyterHub hosted on AWS.\n",
    "```"
   ]
  },
  {
   "cell_type": "markdown",
   "metadata": {},
   "source": [
    "Access is controlled via GitHub teams currently. In order to gain access to the NCAR JupyterHub instance you will need to request to join the team [here](https://github.com/orgs/NCAR/teams/2i2c-cloud-users). In the upper right of the team list there is a button to `Request to join` that can be seen in the image below: "
   ]
  },
  {
   "cell_type": "markdown",
   "metadata": {},
   "source": [
    "<img src=\"https://ncar.github.io/cisl-cloud/_static/gh-team-join.png\" width=\"133%\">"
   ]
  },
  {
   "cell_type": "markdown",
   "metadata": {},
   "source": [
    "```{note}\n",
    "If you are not part of the NCAR Organization on GitHub teams approval may be delayed. \n",
    "```"
   ]
  },
  {
   "cell_type": "markdown",
   "metadata": {},
   "source": [
    "Once you request to join the team an email will be sent to owners and maintainers of the team notifying them of your request. After verifying that it's appropriate for you to join you will be added to the team and have access to your own environment on the NCAR JupyterHub."
   ]
  },
  {
   "cell_type": "markdown",
   "metadata": {},
   "source": [
    "```{note}\n",
    "We will try to verify your request as soon as possible. During normal business hours this should be accomplished within 24 hours. If it's over a weekend or holiday please allow time for the team to review the request as it's outside typical working times. \n",
    "```"
   ]
  }
 ],
 "metadata": {
  "language_info": {
   "name": "python"
  },
  "orig_nbformat": 4
 },
 "nbformat": 4,
 "nbformat_minor": 2
}
