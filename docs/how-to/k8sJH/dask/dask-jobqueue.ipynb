{
 "cells": [
  {
   "cell_type": "markdown",
   "metadata": {},
   "source": [
    "# Using Dask-Jobqueue to deploy Dask on HPC job queue systems"
   ]
  },
  {
   "cell_type": "markdown",
   "metadata": {},
   "source": [
    "[Dask-Jobqueue](https://jobqueue.dask.org/en/latest/) is a Python module that enables an easy way to deploy Dask clusters on HPC job queueing systems like PBS, Slurm, MOAB, SGE, LSF, and HTCondor. An example on how to use `dask_jobqueue` to provision a Dask cluster on a PBS scheduler can be seen below:"
   ]
  },
  {
   "cell_type": "markdown",
   "metadata": {},
   "source": [
    "```\n",
    "from dask_jobqueue import PBSCluster\n",
    "from distributed import Client\n",
    "cluster = PBSCluster(\n",
    "    job_name = 'my-job-name',\n",
    "    cores = 1,\n",
    "    memory = '10GiB',\n",
    "    processes = 1,\n",
    "    local_directory = '/scratch',\n",
    "    queue='queue-name',\n",
    "    interface = 'ib0'\n",
    ")\n",
    "client = Client(cluster)\n",
    "```"
   ]
  },
  {
   "cell_type": "markdown",
   "metadata": {},
   "source": [
    "The Dask-Jobqueue documentation [here](https://jobqueue.dask.org/en/latest/configuration-setup.html) provides a much greater in depth explanation of each of these values and how to customize them appropriately. There is also a YouTube video on the CISL YouTube channel called \"Using Dask on HPC Systems\" that is very informative. The beginning of part 2 goes over dask_jobqueue on NCAR HPC resources and can be viewed [here](https://www.youtube.com/watch?v=E4utSzWgJEo) \n"
   ]
  }
 ],
 "metadata": {
  "language_info": {
   "name": "python"
  },
  "orig_nbformat": 4
 },
 "nbformat": 4,
 "nbformat_minor": 2
}
