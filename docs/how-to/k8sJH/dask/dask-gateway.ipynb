{
 "cells": [
  {
   "cell_type": "markdown",
   "metadata": {},
   "source": [
    "# Using GatewayCluster with Dask"
   ]
  },
  {
   "cell_type": "markdown",
   "metadata": {},
   "source": [
    "```{note}\n",
    "Dask Gateway is currently not working properly. We are actively investigating the issue. You will be able to create a Dask cluster via Gateway, but when trying to connect the Distributed Client it will timeout. Until the issue is resolved please use [LocalCluster](dask-local) \n",
    "```"
   ]
  },
  {
   "cell_type": "markdown",
   "metadata": {},
   "source": [
    "When `LocalCluster` is no longer sufficient and you are maxing out local resources it's time to scale your application and create a separate Dask cluster with it's own dedicated resources. In the NCAR JupyterHub `dask_gateway` is utilized to provision a Dask [GatewayCluster](https://gateway.dask.org/api-client.html#gatewaycluster) via Python. An example of how to launch Dask Gateway in Python can be seen below."
   ]
  },
  {
   "cell_type": "markdown",
   "metadata": {},
   "source": [
    "```\n",
    "from dask.distributed import Client\n",
    "from dask_gateway import Gateway\n",
    "\n",
    "\n",
    "gateway = Gateway()  # connect to Gateway\n",
    "\n",
    "cluster = gateway.new_cluster()  # create cluster\n",
    "cluster.scale(...)  # scale cluster\n",
    "\n",
    "client = Client(cluster)  # connect Client to Cluster\n",
    "```"
   ]
  }
 ],
 "metadata": {
  "language_info": {
   "name": "python"
  },
  "orig_nbformat": 4
 },
 "nbformat": 4,
 "nbformat_minor": 2
}
