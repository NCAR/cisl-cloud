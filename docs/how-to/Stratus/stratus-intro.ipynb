{
 "cells": [
  {
   "cell_type": "markdown",
   "metadata": {},
   "source": [
    "# Introduction to Stratus"
   ]
  },
  {
   "cell_type": "markdown",
   "metadata": {},
   "source": [
    "The [Stratus](https://arc.ucar.edu/knowledge_base/70549594) object storage system is for long term data storage and is provided by the [Advanced Research Computing](https://arc.ucar.edu/) division of NCAR | CISL"
   ]
  },
  {
   "cell_type": "markdown",
   "metadata": {},
   "source": [
    "We currently have a general purpose bucket for all users of the CISL cloud named `cisl-cloud-users`. All object names need to be unique so please take that in to consideration when naming objects."
   ]
  },
  {
   "cell_type": "markdown",
   "metadata": {},
   "source": [
    "```{note}\n",
    "Users do not have permissions to create new buckets. If your project or work requires a dedicated bucket to be configured please use this [link to submit a ticket](https://jira.ucar.edu/secure/CreateIssueDetails!init.jspa?pid=18470&issuetype=10903&customfield_10281=CCPP-108). \n",
    "```"
   ]
  },
  {
   "cell_type": "markdown",
   "metadata": {},
   "source": [
    "## [Web UI](https://stratus-admin.ucar.edu:10443/asview)\n",
    "\n",
    "```{note}\n",
    "Access to the Web UI requires an Access ID and Secret Key. If you do not already have access please follow this [documentation](./stratus-access).\n",
    "```"
   ]
  },
  {
   "cell_type": "markdown",
   "metadata": {},
   "source": [
    "The functionality that general users have in the Web UI is very limited. You most likely won't see anything of value in the Web UI and instead using the JupyterHub extension or an S3 client, like boto3 or isd_s3, is the better method for interacting with buckets and objects on Stratus. Examples on how to use Python, or the JupyterHub extension, are included in this documentation on the next few pages."
   ]
  }
 ],
 "metadata": {
  "language_info": {
   "name": "python"
  },
  "orig_nbformat": 4
 },
 "nbformat": 4,
 "nbformat_minor": 2
}
