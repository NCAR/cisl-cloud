{
 "cells": [
  {
   "cell_type": "markdown",
   "metadata": {},
   "source": [
    "# SLA's"
   ]
  },
  {
   "cell_type": "markdown",
   "metadata": {},
   "source": [
    "This Service Level Agreement (SLA) defines the relationship between the CISL Cloud Pilot team who provides the on-premise cloud infrastructure and their customers which include UCAR\n",
    "Employees, Visitors, and external collaborators authorized to use the on-premise cloud resources. NSF NCAR | CISL runs Compute, Storage & Network hardware in robust Data Centers at multiple organizational facilities. The on-premise cloud offers users the ability to utilize those highly available, organizationally supported, compute resources for approved use cases. This includes access to routable network space and UCAR Domain Name Systems (DNS). These resources provide a supplement to computing needs that aren’t fulfilled by the HPC offering, public cloud, or what is available locally."
   ]
  },
  {
   "cell_type": "markdown",
   "metadata": {},
   "source": [
    "**Primary Services:** Kubernetes Cluster, Argo CD, Harbor, & JupyterHub/Binder\n",
    "\n",
    "**Service Dependencies:** Server nodes, Networking, GLADE mount\n",
    "\n",
    "**Audience:** Service Technical Staff, System Administrators, On & Off Site Personnel, and Authorized Affiliates\n",
    "\n",
    "**Recognized Customers:** On & Off Site Personnel, and Authorized Affiliates"
   ]
  },
  {
   "cell_type": "markdown",
   "metadata": {},
   "source": [
    "The service is designed to be available 24/7, but support will only be given during normal business hours for now. "
   ]
  },
  {
   "cell_type": "markdown",
   "metadata": {},
   "source": [
    "## Response Level and Service Levels"
   ]
  },
  {
   "cell_type": "markdown",
   "metadata": {},
   "source": [
    "### Definitions"
   ]
  },
  {
   "cell_type": "markdown",
   "metadata": {},
   "source": [
    "Critical:  Complete loss of a critical service or functionality due to failure of a device, network or other issue; or intermittent service disruptions that severely degrade the productivity of the user community. No workaround is available that will restore service reliably within one (1) hour. This may include a site wide security incident.\n",
    "\n",
    "Urgent: Partial or reduced availability of, or accessibility to, a critical service with a significant impact on productivity of the user community; also complete or intermittent failures of a non-critical service that also has a significant impact on productivity of users. In some cases, service or functionality may be restored reliably by activation of a backup or workaround.\n",
    "\n",
    "Regular: Basic functionality is present. There is a failure of extended functionality, but a workaround is available. Any requests for new functionality, features, or upgrades."
   ]
  },
  {
   "cell_type": "markdown",
   "metadata": {},
   "source": [
    "### Agreements"
   ]
  },
  {
   "cell_type": "markdown",
   "metadata": {},
   "source": [
    "```{note}\n",
    "There is currently no After Hours support. All Response types that occur after hours will be addressed at the start of business.\n",
    "``` "
   ]
  },
  {
   "cell_type": "markdown",
   "metadata": {},
   "source": [
    "| Response Level | Business Hours <br> 8:00 - 17:00 M-F | After Hours |\n",
    "|---|---|---|\n",
    "| Critical | 2 hours | Start of Business |\n",
    "| Urgent | 4 hours | Start of Business |\n",
    "| Regular | Reviewed | Reviewed | "
   ]
  },
  {
   "cell_type": "markdown",
   "metadata": {},
   "source": [
    "## Backup & Disaster Recovery Policy"
   ]
  },
  {
   "cell_type": "markdown",
   "metadata": {},
   "source": [
    "Infrastructure as Code is utilized to maintain all the applications hosted on the On-Premise cloud. Applications will not be backed up and instead will be redeployed from code repositories. Argo CD handles the deployment of all applications and is backed up to allow restoration of all projects. "
   ]
  },
  {
   "cell_type": "markdown",
   "metadata": {},
   "source": [
    "Projects in Argo CD will be backed up when changes are made. These backups can be used to restore configured projects in the event of data loss."
   ]
  },
  {
   "cell_type": "markdown",
   "metadata": {},
   "source": [
    "Images stored in Harbor will be backed up to object storage and can be restored from those backups. "
   ]
  },
  {
   "cell_type": "markdown",
   "metadata": {},
   "source": [
    "## Change Management"
   ]
  },
  {
   "cell_type": "markdown",
   "metadata": {},
   "source": [
    "Any changes need to be requested via a Jira ticket. There's information describing this process at this [link for ticket creation](../how-to/create-tickets). The teams Product Owner will review all new tickets and prioritize them accordingly. "
   ]
  },
  {
   "cell_type": "markdown",
   "metadata": {},
   "source": [
    "Critical and Urgent issues will be addressed within the agreements defined above. Regular requests will typically be addressed during the teams bi-weekly standup meetings."
   ]
  },
  {
   "cell_type": "markdown",
   "metadata": {},
   "source": [
    "## Contact Information"
   ]
  },
  {
   "cell_type": "markdown",
   "metadata": {},
   "source": [
    "**Business Hours:** 8:00 - 17:00 MST Monday - Friday\n",
    "\n",
    "**Primary Contact:** [Nick Cote](mailto:ncote@ucar.edu)\n",
    "\n",
    "**Secondary Contact:** [Jira Request](https://jira.ucar.edu/secure/CreateIssueDetails!init.jspa?pid=18470&amp;issuetype=10903&amp;summary=User%20Request:)\n",
    "\n",
    "**Off Hours Contact:** [Nick Cote](mailto:ncote@ucar.edu) & [Jira Request](https://jira.ucar.edu/secure/CreateIssueDetails!init.jspa?pid=18470&amp;issuetype=10903&amp;summary=User%20Request:)"
   ]
  },
  {
   "cell_type": "markdown",
   "metadata": {},
   "source": [
    "## Monitoring & Reporting"
   ]
  },
  {
   "cell_type": "markdown",
   "metadata": {},
   "source": [
    "The infrastructure utilizes Prometheus, Grafana, and Loki to monitor, collect logs, and alert the team to any issues that occur to the system. "
   ]
  }
 ],
 "metadata": {
  "language_info": {
   "name": "python"
  },
  "orig_nbformat": 4
 },
 "nbformat": 4,
 "nbformat_minor": 2
}
