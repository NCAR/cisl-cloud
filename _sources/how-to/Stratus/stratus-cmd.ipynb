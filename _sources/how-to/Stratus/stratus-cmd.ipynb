{
 "cells": [
  {
   "cell_type": "markdown",
   "metadata": {},
   "source": [
    "# Python Examples"
   ]
  },
  {
   "cell_type": "markdown",
   "metadata": {},
   "source": [
    "The following are some example Python functions for interacting with Stratus"
   ]
  },
  {
   "cell_type": "markdown",
   "metadata": {},
   "source": [
    "```{note}\n",
    "These functions use the Python package `os` to get your Stratus Access ID and Secret Key. Please export the following variables.\n",
    "\n",
    "`export AWS_ACCESS_KEY_ID=\"youraccessidhere\"`\n",
    "\n",
    "`export AWS_SECRET_ACCESS_KEY=\"yousecretkeyhere\"`\n",
    "```"
   ]
  },
  {
   "cell_type": "markdown",
   "metadata": {},
   "source": [
    "## Import required python modules"
   ]
  },
  {
   "cell_type": "code",
   "execution_count": null,
   "metadata": {},
   "outputs": [],
   "source": [
    "# os is used to get local environment variables \n",
    "import os\n",
    "# boto3 is the python package used to interact with S3\n",
    "import boto3\n",
    "import botocore\n",
    "# This requests package is imported to disable certificate access warnings. \n",
    "# SSL certificates can be provided and this would not be required.\n",
    "import requests.packages.urllib3\n",
    "# We aren't verifying certs to start so this line is disable warnings\n",
    "requests.packages.urllib3.disable_warnings()"
   ]
  },
  {
   "cell_type": "markdown",
   "metadata": {},
   "source": [
    "## Stratus S3 Client"
   ]
  },
  {
   "cell_type": "code",
   "execution_count": null,
   "metadata": {},
   "outputs": [],
   "source": [
    "# Define the Stratus S3 client to be used in other operations\n",
    "def stratus_s3_client():\n",
    "    # Define the API endpoint for stratus\n",
    "    endpoint = \"https://stratus.ucar.edu/\"\n",
    "    # Create a boto3 sessions\n",
    "    session = boto3.session.Session()\n",
    "    # Get the API keys required from OS environmental variables\n",
    "    # Set these yourself locally so keys are not exposed in plain text in code\n",
    "    access_key = os.environ.get(\"AWS_ACCESS_KEY_ID\")\n",
    "    secret_key = os.environ.get(\"AWS_SECRET_ACCESS_KEY\")\n",
    "    # Create the S3 client based on the variables we set and provided\n",
    "    s3_client = session.client(\n",
    "        service_name='s3', \n",
    "        endpoint_url=endpoint, \n",
    "        aws_access_key_id=access_key,\n",
    "        aws_secret_access_key=secret_key,\n",
    "        verify=False)\n",
    "    # Return the client so that it can be used in other functions\n",
    "    return s3_client"
   ]
  },
  {
   "cell_type": "markdown",
   "metadata": {},
   "source": [
    "## Stratus S3 Resource"
   ]
  },
  {
   "cell_type": "code",
   "execution_count": null,
   "metadata": {},
   "outputs": [],
   "source": [
    "# Define the Stratus S3 resource to be used in other operations    \n",
    "def stratus_s3_resource():\n",
    "    # Define the API endpoint for stratus\n",
    "    endpoint = \"https://stratus.ucar.edu/\"\n",
    "    # Create a boto3 sessions\n",
    "    session = boto3.session.Session()\n",
    "    # Get the API keys required from OS environmental variables\n",
    "    # Set these yourself locally so keys are not exposed in plain text in code\n",
    "    access_key = os.environ.get(\"AWS_ACCESS_KEY_ID\")\n",
    "    secret_key = os.environ.get(\"AWS_SECRET_ACCESS_KEY\")\n",
    "    # Create the S3 resource based on the variables we set and provided\n",
    "    s3_resource = session.resource(\n",
    "        service_name='s3', \n",
    "        endpoint_url=endpoint, \n",
    "        aws_access_key_id=access_key,\n",
    "        aws_secret_access_key=secret_key,\n",
    "        verify=False)\n",
    "    # Return the client so that it can be used in other functions\n",
    "    return s3_resource"
   ]
  },
  {
   "cell_type": "markdown",
   "metadata": {},
   "source": [
    "## Create a bucket"
   ]
  },
  {
   "cell_type": "code",
   "execution_count": null,
   "metadata": {},
   "outputs": [],
   "source": [
    "# Define a function to create a new S3 bucket with a name set by the bucket_name argument\n",
    "def create_bucket(bucket_name):\n",
    "    # Use the S3 client already defined to make the call\n",
    "    s3_client = stratus_s3_client()\n",
    "    # Call the create_bucket endpoint and provide the bucket_name specified by the user\n",
    "    s3_client.create_bucket(Bucket=bucket_name)"
   ]
  },
  {
   "cell_type": "markdown",
   "metadata": {},
   "source": [
    "## List all buckets"
   ]
  },
  {
   "cell_type": "code",
   "execution_count": null,
   "metadata": {},
   "outputs": [],
   "source": [
    "# Define a function to list all buckets in the space\n",
    "def list_all_buckets():\n",
    "    # Use the S3 client already defined to make the call\n",
    "    s3_client = stratus_s3_client()\n",
    "    # Get a response from the list_buckets endpoint\n",
    "    response = s3_client.list_buckets()\n",
    "    # Iterate through the Buckets in the response to print all the bucket names\n",
    "    for bucket in response['Buckets']:\n",
    "        print(bucket['Name'])"
   ]
  },
  {
   "cell_type": "markdown",
   "metadata": {},
   "source": [
    "## List all object in a bucket"
   ]
  },
  {
   "cell_type": "code",
   "execution_count": null,
   "metadata": {},
   "outputs": [],
   "source": [
    "# Define a function to list all the objects stored in a bucket\n",
    "def list_bucket_objs(bucket):\n",
    "    # Use the S3 resource already defined to make the call\n",
    "    s3_resource = stratus_s3_resource()\n",
    "    # Get the individual bucket resources for the bucket name provided in the function \n",
    "    bucket = s3_resource.Bucket(bucket)\n",
    "    # Iterate through the response to show all objects contained within the bucket\n",
    "    for obj in bucket.objects.all():\n",
    "        print(obj.key)"
   ]
  },
  {
   "cell_type": "markdown",
   "metadata": {},
   "source": [
    "## Upload a file"
   ]
  },
  {
   "cell_type": "markdown",
   "metadata": {},
   "source": [
    "```{note}\n",
    "Please check and make sure the file being uploaded has a unique and descriptive filename that won't conflict with any existing data. \n",
    "```"
   ]
  },
  {
   "cell_type": "code",
   "execution_count": null,
   "metadata": {},
   "outputs": [],
   "source": [
    "# Define a function to upload a file/object to a bucket, specify the filename to upload and the bucket name to be placed in\n",
    "def upload_file(filename, bucketname):\n",
    "    # Use the S3 client already defined to make the call\n",
    "    s3_client = stratus_s3_client()\n",
    "    # Use the upload_file endpoint to upload our filename to the specified bucket and keep the filename the same\n",
    "    s3_client.upload_file(filename, bucketname, filename)\n",
    "    print('Done!')"
   ]
  },
  {
   "cell_type": "markdown",
   "metadata": {},
   "source": [
    "## Download a file"
   ]
  },
  {
   "cell_type": "code",
   "execution_count": null,
   "metadata": {},
   "outputs": [],
   "source": [
    "# Define a function to download a file/object to a bucket\n",
    "def download_file(filename, bucketname):\n",
    "    # Use the S3 client already defined to make the call\n",
    "    s3_client = stratus_s3_client()\n",
    "    # Open a local file with the same filename as the one we are downloading\n",
    "    with open(filename, 'wb') as data:\n",
    "        # Write the file to our open local file which is the python variable 'data'\n",
    "        s3_client.download_fileobj(bucketname, filename, data)"
   ]
  }
 ],
 "metadata": {
  "language_info": {
   "name": "python"
  },
  "orig_nbformat": 4
 },
 "nbformat": 4,
 "nbformat_minor": 2
}
