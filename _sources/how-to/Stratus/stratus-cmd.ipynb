{
 "cells": [
  {
   "cell_type": "markdown",
   "metadata": {},
   "source": [
    "# Python Examples"
   ]
  },
  {
   "cell_type": "markdown",
   "metadata": {},
   "source": [
    "The following are some example Python functions for interacting with Stratus"
   ]
  },
  {
   "cell_type": "markdown",
   "metadata": {},
   "source": [
    "## isd_s3"
   ]
  },
  {
   "cell_type": "markdown",
   "metadata": {},
   "source": [
    "The NCAR ISD S3 Object Storage utility is a python module that was designed and developed by the Information Systems Division (ISD) within CISL at NCAR."
   ]
  },
  {
   "cell_type": "markdown",
   "metadata": {},
   "source": [
    "Source Code: [https://github.com/NCAR/isd-s3](https://github.com/NCAR/isd-s3)"
   ]
  },
  {
   "cell_type": "markdown",
   "metadata": {},
   "source": [
    "```{note}\n",
    "Only a few high level examples are outlined in this document. There are more functions available under the Session class that can be found at this [link to the isd_s3.py code](https://github.com/NCAR/isd-s3/blob/main/isd_s3/isd_s3.py).\n",
    "```"
   ]
  },
  {
   "cell_type": "markdown",
   "metadata": {},
   "source": [
    "### Credentials"
   ]
  },
  {
   "cell_type": "markdown",
   "metadata": {},
   "source": [
    "By default, isd-s3 looks for an Access ID and Secret Key inside the `~/.aws/credentials` file. Before trying to use isd-s3 please place S3 credentials in to this file. Below is an example of what that would look like."
   ]
  },
  {
   "cell_type": "markdown",
   "metadata": {},
   "source": [
    "```\n",
    "[myprofile]\n",
    "aws_access_key_id     = yourotheraccessidhere\n",
    "aws_secret_access_key = yourothersecretkeyhere\n",
    "[default]\n",
    "aws_access_key_id = youraccessidhere\n",
    "aws_secret_access_key = yoursecretkeyhere\n",
    "```"
   ]
  },
  {
   "cell_type": "markdown",
   "metadata": {},
   "source": [
    "```{note}\n",
    "If you want to use a different file for credentials update the following environment variable : `AWS_SHARED_CREDENTIALS_FILE `.\n",
    "If you want to change the profile to use, [default] is the default, update the following environment variable : `AWS_PROFILE `.\n",
    "```"
   ]
  },
  {
   "cell_type": "markdown",
   "metadata": {},
   "source": [
    "### Create a Session"
   ]
  },
  {
   "cell_type": "code",
   "execution_count": null,
   "metadata": {},
   "outputs": [],
   "source": [
    "from isd_s3 import isd_s3\n",
    "session = isd_s3.Session()"
   ]
  },
  {
   "cell_type": "markdown",
   "metadata": {},
   "source": [
    "### List all buckets"
   ]
  },
  {
   "cell_type": "code",
   "execution_count": null,
   "metadata": {},
   "outputs": [],
   "source": [
    "session.list_buckets()"
   ]
  },
  {
   "cell_type": "markdown",
   "metadata": {},
   "source": [
    "Returns a list of dictionary arrays. "
   ]
  },
  {
   "cell_type": "markdown",
   "metadata": {},
   "source": [
    "### List all objects in a bucket"
   ]
  },
  {
   "cell_type": "code",
   "execution_count": null,
   "metadata": {},
   "outputs": [],
   "source": [
    "session.list_objects('cisl-cloud-users')"
   ]
  },
  {
   "cell_type": "markdown",
   "metadata": {},
   "source": [
    "Returns a list of dictionary arrays. "
   ]
  },
  {
   "cell_type": "markdown",
   "metadata": {},
   "source": [
    "### Upload an Object"
   ]
  },
  {
   "cell_type": "code",
   "execution_count": null,
   "metadata": {},
   "outputs": [],
   "source": [
    "# The first value in the function is the local file path. The second value is the Objects key, or unique name/identifier, in the bucket provided\n",
    "session.upload_object('temp_stats_1-4-24.png','ncote/temp_stats_1-4-24.png',metadata={'created_by':'ncote@ucar.edu'},bucket='cisl-cloud-users')"
   ]
  },
  {
   "cell_type": "markdown",
   "metadata": {},
   "source": [
    "### Download an Object"
   ]
  },
  {
   "cell_type": "code",
   "execution_count": null,
   "metadata": {},
   "outputs": [],
   "source": [
    "session.get_object('ncote/tmax.day.eval.NAM-44i.raw_TS.png',bucket='cisl-cloud-users')"
   ]
  },
  {
   "cell_type": "markdown",
   "metadata": {},
   "source": [
    "Returns a Key Value pair like `{'result': 'successful'}`"
   ]
  },
  {
   "cell_type": "markdown",
   "metadata": {},
   "source": [
    "## boto3"
   ]
  },
  {
   "cell_type": "markdown",
   "metadata": {},
   "source": [
    "### Credentials"
   ]
  },
  {
   "cell_type": "markdown",
   "metadata": {},
   "source": [
    "These functions use the Python package `os` to get your Stratus Access ID and Secret Key. Please export the following variables.\n",
    "\n",
    "`export AWS_ACCESS_KEY_ID=\"youraccessidhere\"`\n",
    "\n",
    "`export AWS_SECRET_ACCESS_KEY=\"yousecretkeyhere\"`"
   ]
  },
  {
   "cell_type": "markdown",
   "metadata": {},
   "source": [
    "### Import required python modules"
   ]
  },
  {
   "cell_type": "code",
   "execution_count": null,
   "metadata": {},
   "outputs": [],
   "source": [
    "# os is used to get local environment variables \n",
    "import os\n",
    "# boto3 is the python package used to interact with S3\n",
    "import boto3\n",
    "import botocore\n",
    "# This requests package is imported to disable certificate access warnings. \n",
    "# SSL certificates can be provided and this would not be required.\n",
    "import requests.packages.urllib3\n",
    "# We aren't verifying certs to start so this line is disable warnings\n",
    "requests.packages.urllib3.disable_warnings()"
   ]
  },
  {
   "cell_type": "markdown",
   "metadata": {},
   "source": [
    "### Stratus S3 Client"
   ]
  },
  {
   "cell_type": "code",
   "execution_count": null,
   "metadata": {},
   "outputs": [],
   "source": [
    "# Define the Stratus S3 client to be used in other operations\n",
    "def stratus_s3_client():\n",
    "    # Define the API endpoint for stratus\n",
    "    endpoint = \"https://stratus.ucar.edu/\"\n",
    "    # Create a boto3 sessions\n",
    "    session = boto3.session.Session()\n",
    "    # Get the API keys required from OS environmental variables\n",
    "    # Set these yourself locally so keys are not exposed in plain text in code\n",
    "    access_key = os.environ.get(\"AWS_ACCESS_KEY_ID\")\n",
    "    secret_key = os.environ.get(\"AWS_SECRET_ACCESS_KEY\")\n",
    "    # Create the S3 client based on the variables we set and provided\n",
    "    s3_client = session.client(\n",
    "        service_name='s3', \n",
    "        endpoint_url=endpoint, \n",
    "        aws_access_key_id=access_key,\n",
    "        aws_secret_access_key=secret_key,\n",
    "        verify=False)\n",
    "    # Return the client so that it can be used in other functions\n",
    "    return s3_client"
   ]
  },
  {
   "cell_type": "markdown",
   "metadata": {},
   "source": [
    "### Stratus S3 Resource"
   ]
  },
  {
   "cell_type": "code",
   "execution_count": null,
   "metadata": {},
   "outputs": [],
   "source": [
    "# Define the Stratus S3 resource to be used in other operations    \n",
    "def stratus_s3_resource():\n",
    "    # Define the API endpoint for stratus\n",
    "    endpoint = \"https://stratus.ucar.edu/\"\n",
    "    # Create a boto3 sessions\n",
    "    session = boto3.session.Session()\n",
    "    # Get the API keys required from OS environmental variables\n",
    "    # Set these yourself locally so keys are not exposed in plain text in code\n",
    "    access_key = os.environ.get(\"AWS_ACCESS_KEY_ID\")\n",
    "    secret_key = os.environ.get(\"AWS_SECRET_ACCESS_KEY\")\n",
    "    # Create the S3 resource based on the variables we set and provided\n",
    "    s3_resource = session.resource(\n",
    "        service_name='s3', \n",
    "        endpoint_url=endpoint, \n",
    "        aws_access_key_id=access_key,\n",
    "        aws_secret_access_key=secret_key,\n",
    "        verify=False)\n",
    "    # Return the client so that it can be used in other functions\n",
    "    return s3_resource"
   ]
  },
  {
   "cell_type": "markdown",
   "metadata": {},
   "source": [
    "### Create a bucket"
   ]
  },
  {
   "cell_type": "markdown",
   "metadata": {},
   "source": [
    "```{note}\n",
    "Only administrators will be able to create new buckets. If you need a new bucket created with privileges for your account please follow this [link to create a ticket](../create-tickets). \n",
    "```"
   ]
  },
  {
   "cell_type": "code",
   "execution_count": null,
   "metadata": {},
   "outputs": [],
   "source": [
    "# Define a function to create a new S3 bucket with a name set by the bucket_name argument\n",
    "def create_bucket(bucket_name):\n",
    "    # Use the S3 client already defined to make the call\n",
    "    s3_client = stratus_s3_client()\n",
    "    # Call the create_bucket endpoint and provide the bucket_name specified by the user\n",
    "    s3_client.create_bucket(Bucket=bucket_name)"
   ]
  },
  {
   "cell_type": "markdown",
   "metadata": {},
   "source": [
    "### List all buckets"
   ]
  },
  {
   "cell_type": "code",
   "execution_count": null,
   "metadata": {},
   "outputs": [],
   "source": [
    "# Define a function to list all buckets in the space\n",
    "def list_all_buckets():\n",
    "    # Use the S3 client already defined to make the call\n",
    "    s3_client = stratus_s3_client()\n",
    "    # Get a response from the list_buckets endpoint\n",
    "    response = s3_client.list_buckets()\n",
    "    # Iterate through the Buckets in the response to print all the bucket names\n",
    "    for bucket in response['Buckets']:\n",
    "        print(bucket['Name'])"
   ]
  },
  {
   "cell_type": "markdown",
   "metadata": {},
   "source": [
    "### List all object in a bucket"
   ]
  },
  {
   "cell_type": "code",
   "execution_count": null,
   "metadata": {},
   "outputs": [],
   "source": [
    "# Define a function to list all the objects stored in a bucket\n",
    "def list_bucket_objs(bucket):\n",
    "    # Use the S3 resource already defined to make the call\n",
    "    s3_resource = stratus_s3_resource()\n",
    "    # Get the individual bucket resources for the bucket name provided in the function \n",
    "    bucket = s3_resource.Bucket(bucket)\n",
    "    # Iterate through the response to show all objects contained within the bucket\n",
    "    for obj in bucket.objects.all():\n",
    "        print(obj.key)"
   ]
  },
  {
   "cell_type": "markdown",
   "metadata": {},
   "source": [
    "### Upload a file"
   ]
  },
  {
   "cell_type": "markdown",
   "metadata": {},
   "source": [
    "```{note}\n",
    "Please check and make sure the file being uploaded has a unique and descriptive filename that won't conflict with any existing data. \n",
    "```"
   ]
  },
  {
   "cell_type": "code",
   "execution_count": null,
   "metadata": {},
   "outputs": [],
   "source": [
    "# Define a function to upload a file/object to a bucket, specify the filename to upload and the bucket name to be placed in\n",
    "def upload_file(filename, bucketname):\n",
    "    # Use the S3 client already defined to make the call\n",
    "    s3_client = stratus_s3_client()\n",
    "    # Use the upload_file endpoint to upload our filename to the specified bucket and keep the filename the same\n",
    "    s3_client.upload_file(filename, bucketname, filename)\n",
    "    print('Done!')"
   ]
  },
  {
   "cell_type": "markdown",
   "metadata": {},
   "source": [
    "### Download a file"
   ]
  },
  {
   "cell_type": "code",
   "execution_count": null,
   "metadata": {},
   "outputs": [],
   "source": [
    "# Define a function to download a file/object to a bucket\n",
    "def download_file(filename, bucketname):\n",
    "    # Use the S3 client already defined to make the call\n",
    "    s3_client = stratus_s3_client()\n",
    "    # Open a local file with the same filename as the one we are downloading\n",
    "    with open(filename, 'wb') as data:\n",
    "        # Write the file to our open local file which is the python variable 'data'\n",
    "        s3_client.download_fileobj(bucketname, filename, data)"
   ]
  }
 ],
 "metadata": {
  "language_info": {
   "name": "python"
  },
  "orig_nbformat": 4
 },
 "nbformat": 4,
 "nbformat_minor": 2
}
