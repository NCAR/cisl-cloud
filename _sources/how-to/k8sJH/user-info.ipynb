{
 "cells": [
  {
   "attachments": {},
   "cell_type": "markdown",
   "metadata": {},
   "source": [
    "# Initial Login"
   ]
  },
  {
   "attachments": {},
   "cell_type": "markdown",
   "metadata": {},
   "source": [
    "Once logged in to the JupyterHub there are a few details that will make it easier to navigate and understand how to utilize what is offered. "
   ]
  },
  {
   "attachments": {},
   "cell_type": "markdown",
   "metadata": {},
   "source": [
    "## Server Options\n",
    "\n",
    "Once logged in the first page displayed is titled `Server Options` and is also known as the spawn page. It's from here where the desired environment is selected and spun up for the user. There's a CPU Notebook, with 3 different resource sizes, and 2 GPU Notebook environments available.\n",
    "\n",
    "<img src=\"https://ncar.github.io/cisl-cloud/_static/K8sJHub/server-opts.png\"/>\n",
    "\n",
    "The NSF NCAR images are built and maintained by the CCPP team. Please report any issues you find in them using the `REPORT ISSUE` link found at the top of this documentation."
   ]
  },
  {
   "attachments": {},
   "cell_type": "markdown",
   "metadata": {},
   "source": [
    "## User Environment\n",
    "\n",
    "Once logged in the default start up page for everyone looks like this:\n",
    "\n",
    "<img src=\"https://ncar.github.io/cisl-cloud/_static/K8sJHub/jhub-main.png\"/>\n"
   ]
  },
  {
   "cell_type": "markdown",
   "metadata": {},
   "source": []
  }
 ],
 "metadata": {
  "language_info": {
   "name": "python"
  },
  "orig_nbformat": 4
 },
 "nbformat": 4,
 "nbformat_minor": 2
}
