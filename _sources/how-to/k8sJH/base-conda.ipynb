{
 "cells": [
  {
   "cell_type": "markdown",
   "metadata": {},
   "source": [
    "# Base Conda Environment"
   ]
  },
  {
   "cell_type": "markdown",
   "metadata": {},
   "source": [
    "The NCAR JupyterHub has a custom conda environment as the default base environment. This environment has been put together based on input from users, referencing other production Jupyter images, and requirements that were set to deliver to users. "
   ]
  },
  {
   "cell_type": "markdown",
   "metadata": {},
   "source": [
    "```{note}\n",
    "This is just a default environment that provides common packages to try and enable users to get started quickly. Custom environments are supported and documentation on how to implement them can be found [here](./customize/env)\n",
    "```"
   ]
  },
  {
   "cell_type": "markdown",
   "metadata": {},
   "source": [
    "## List of Packages used"
   ]
  },
  {
   "cell_type": "markdown",
   "metadata": {},
   "source": [
    "The living list of packages can be found directly on the GitHub repository [here](https://github.com/NCAR/cisl-cloud/blob/main/configs/jupyter/base-notebook/environment.yml)"
   ]
  },
  {
   "cell_type": "markdown",
   "metadata": {},
   "source": [
    "```\n",
    "name: cisl-cloud-base\n",
    "channels:\n",
    "  - conda-forge\n",
    "dependencies:\n",
    "  - argopy\n",
    "  - beautifulsoup4\n",
    "  - boto3\n",
    "  - bottleneck\n",
    "  - ca-certificates\n",
    "  - cartopy \n",
    "  - cdsapi\n",
    "  - celluloid\n",
    "  - cfgrib\n",
    "  - cf-units\n",
    "  - click\n",
    "  - cmocean\n",
    "  - dask>=2023.4.0\n",
    "  - dask-gateway\n",
    "  - dask-jobqueue>=0.8.1\n",
    "  - datashader\n",
    "  - descartes\n",
    "  - docopt\n",
    "  - earthaccess\n",
    "  - erddapy\n",
    "  - esmpy\n",
    "  - flox\n",
    "  - fiona\n",
    "  - gdal\n",
    "  - geocat-comp\n",
    "  - geocat-viz\n",
    "  - geocube\n",
    "  - geopandas\n",
    "  - geopy\n",
    "  - geoviews-core\n",
    "  - ghp-import\n",
    "  - globus-cli\n",
    "  - gsw\n",
    "  - h5netcdf\n",
    "  - h5py\n",
    "  - holoviews\n",
    "  - hvplot\n",
    "  - intake>=0.6.8\n",
    "  - intake-esm>=2020.8.15\n",
    "  - intake-xarray\n",
    "  - ipykernel>=6.21.2\n",
    "  - ipympl\n",
    "  - ipywidgets-bokeh\n",
    "  - jupyterhub\n",
    "  - jupyterlab==3.6.3\n",
    "  - jupyter_bokeh\n",
    "  - jupyter-panel-proxy\n",
    "  - jupyter-resource-usage\n",
    "  - ldcpy\n",
    "  - matplotlib\n",
    "  - metpy\n",
    "  - mpi4py\n",
    "  - nb_conda_kernels\n",
    "  - nbstripout\n",
    "  - nc-time-axis\n",
    "  - netcdf4\n",
    "  - nodejs>=18.0\n",
    "  - notebook\n",
    "  - numba\n",
    "  - numcodecs\n",
    "  - numexpr\n",
    "  - numpy\n",
    "  - ocgis\n",
    "  - pandas\n",
    "  - panel\n",
    "  - papermill\n",
    "  - pillow\n",
    "  - pop-tools\n",
    "  - pydap\n",
    "  - pygrib\n",
    "  - pyhdf\n",
    "  - pylint\n",
    "  - pynco\n",
    "  - pyngl\n",
    "  - pystac\n",
    "  - pystac-client\n",
    "  - pytables\n",
    "  - pyqt\n",
    "  - pytables\n",
    "  - python-awips\n",
    "  - python-graphviz\n",
    "  - python-wget\n",
    "  - rasterio\n",
    "  - rechunker\n",
    "  - rio-cogeo\n",
    "  - rioxarray\n",
    "  - satpy\n",
    "  - scikit-image\n",
    "  - scikit-learn\n",
    "  - scipy\n",
    "  - seaborn\n",
    "  - seawater\n",
    "  - shapely\n",
    "  - statsmodels\n",
    "  - stackstac\n",
    "  - tobac\n",
    "  - widgetsnbextension\n",
    "  - wrf-python\n",
    "  - xarray>=2023.4.2\n",
    "  - xesmf\n",
    "  - xgcm\n",
    "  - xrft\n",
    "  - zarr\n",
    "```"
   ]
  }
 ],
 "metadata": {
  "language_info": {
   "name": "python"
  },
  "orig_nbformat": 4
 },
 "nbformat": 4,
 "nbformat_minor": 2
}
