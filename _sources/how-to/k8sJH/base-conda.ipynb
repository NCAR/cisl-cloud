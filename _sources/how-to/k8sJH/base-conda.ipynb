{
 "cells": [
  {
   "cell_type": "markdown",
   "metadata": {},
   "source": [
    "# Base Conda Environments"
   ]
  },
  {
   "cell_type": "markdown",
   "metadata": {
    "vscode": {
     "languageId": "plaintext"
    }
   },
   "source": [
    "## cisl-cloud-base"
   ]
  },
  {
   "cell_type": "markdown",
   "metadata": {},
   "source": [
    "The NCAR JupyterHub has a custom conda environment, cisl-cloud-base, as the default base environment. This environment has been put together based on input from users, referencing other production Jupyter images, and requirements that were set to deliver to users. "
   ]
  },
  {
   "cell_type": "markdown",
   "metadata": {},
   "source": [
    "```{note}\n",
    "This is just a default environment that provides common packages to try and enable users to get started quickly. Custom environments are supported and documentation on how to implement them can be found [here](./customize/env)\n",
    "```"
   ]
  },
  {
   "cell_type": "markdown",
   "metadata": {},
   "source": [
    "### List of Packages used"
   ]
  },
  {
   "cell_type": "markdown",
   "metadata": {},
   "source": [
    "The living list of packages can be found directly at this [link to the GitHub repository](https://github.com/NCAR/cisl-cloud/blob/main/configs/jupyter/base-notebook/environment.yml)\n",
    "\n",
    "While the GitHub repository is still private a static list of packages can be viewed below."
   ]
  },
  {
   "cell_type": "markdown",
   "metadata": {},
   "source": [
    "```{dropdown} cisl-cloud-base package list\n",
    "  - argopy=0.1.14 \n",
    "  - arm_pyart=1.15.0=py310h1fa729e_0\n",
    "  - astropy=5.3.1=py310h278f3c1_0\n",
    "  - beautifulsoup4=4.12.2=pyha770c72_0\n",
    "  - bokeh=3.1.1=pyhd8ed1ab_0\n",
    "  - boto3=1.28.2=pyhd8ed1ab_0\n",
    "  - bottleneck=1.3.7=py310h0a54255_0\n",
    "  - ca-certificates=2023.7.22=hbcca054_0\n",
    "  - cartopy=0.22.0=py310hcc13569_1\n",
    "  - cdsapi=0.6.1=pyhd8ed1ab_0\n",
    "  - celluloid=0.2.0=pyhd8ed1ab_0\n",
    "  - certifi=2023.7.22=pyhd8ed1ab_0\n",
    "  - cf-units=3.2.0=py310h278f3c1_0\n",
    "  - cfgrib=0.9.10.4=pyhd8ed1ab_0\n",
    "  - click=8.1.4=unix_pyh707e725_0\n",
    "  - cmocean=3.0.3=pyhd8ed1ab_0\n",
    "  - dask=2023.7.0=pyhd8ed1ab_0\n",
    "  - dask-gateway=2023.1.1=pyh8af1aa0_0\n",
    "  - dask-jobqueue=0.8.2=pyhd8ed1ab_0\n",
    "  - dask-ml=2023.3.24=pyhd8ed1ab_1\n",
    "  - datashader=0.15.1=pyhd8ed1ab_0\n",
    "  - descartes=1.1.0=py_4\n",
    "  - docopt=0.6.2=py_1\n",
    "  - erddapy=2.2.0=pyhd8ed1ab_0\n",
    "  - esmpy=8.4.2=pyhc1e730c_1\n",
    "  - fiona=1.9.4=py310h111440e_0\n",
    "  - flox=0.7.2=pyhd8ed1ab_0\n",
    "  - folium=0.14.0=pyhd8ed1ab_0\n",
    "  - gdal=3.7.3=py310h5c4b078_5\n",
    "  - geocat-comp=2023.06.1=pyha770c72_0\n",
    "  - geocat-viz=2023.07.0=pyhd8ed1ab_0\n",
    "  - geocube=0.4.2=pyhd8ed1ab_1\n",
    "  - geopandas=0.14.1\n",
    "  - geopy=2.4.0\n",
    "  - geoviews=1.10.0=pyhd8ed1ab_0\n",
    "  - ghp-import=2.1.0=pyhd8ed1ab_0\n",
    "  - globus-cli=3.15.0=pyhd8ed1ab_0\n",
    "  - globus-sdk=3.21.0=pyhd8ed1ab_0\n",
    "  - gsw=3.6.17=py310h278f3c1_0\n",
    "  - h5netcdf=1.2.0=pyhd8ed1ab_0\n",
    "  - h5py=3.10.0=nompi_py310ha2ad45a_100\n",
    "  - holoviews=1.18.1=pyhd8ed1ab_0\n",
    "  - hvplot=0.8.4=pyhd8ed1ab_1\n",
    "  - intake=0.7.0=pyhd8ed1ab_0\n",
    "  - intake-esm=2023.7.7=pyhd8ed1ab_0\n",
    "  - intake-thredds=2022.8.19=pyhd8ed1ab_0\n",
    "  - intake-xarray=0.7.0=pyhd8ed1ab_0\n",
    "  - ipympl=0.9.3=pyhd8ed1ab_0\n",
    "  - ipykernel=6.24.0=pyh71e2992_0\n",
    "  - ipywidgets-bokeh=1.5.0\n",
    "  - iris=3.6.1=pyha770c72_0\n",
    "  - jupyter_bokeh=3.0.7\n",
    "  - jupyter-book=0.15.1=pyhd8ed1ab_0\n",
    "  - jupyter-panel-proxy=0.1.0\n",
    "  - ldcpy=0.17=py310h5764c6d_1\n",
    "  - libblas=3.9.0=17_linux64_blis\n",
    "  - matplotlib=3.7.2=py310hff52083_0\n",
    "  - metpy=1.5.1=pyhd8ed1ab_0\n",
    "  - mpi4py=3.1.4=py310h37cc914_0\n",
    "  - nbstripout=0.6.1=pyhd8ed1ab_0\n",
    "  - nc-time-axis=1.4.1=pyhd8ed1ab_0\n",
    "  - netcdf4=1.6.4=nompi_py310hba70d50_103\n",
    "  - numba=0.57.1=py310h0f6aa51_0\n",
    "  - numcodecs=0.11.0=py310heca2aa9_1\n",
    "  - numexpr=2.8.4=py310h690d005_100\n",
    "  - numpy=1.24.4=py310ha4c1d20_0\n",
    "  - ocgis=2.1.1=py_1\n",
    "  - pandas=2.0.3=py310h7cbd5c2_1\n",
    "  - panel=1.2.3=pyhd8ed1ab_0\n",
    "  - papermill=2.3.4=pyhd8ed1ab_0\n",
    "  - pillow=10.0.1=py310h01dd4db_2\n",
    "  - pop-tools=2023.6.0=pyhd8ed1ab_0\n",
    "  - pyarrow=14.0.1=py310hf9e7431_1_cpu\n",
    "  - pydap=3.4.0=pyhd8ed1ab_0\n",
    "  - pygraphviz=1.11=py310h91ff30a_0\n",
    "  - pygrib=2.1.4=py310hdcc264a_7\n",
    "  - pyhdf=0.11.3=py310h3532cbf_0\n",
    "  - pylint=2.17.4=pyhd8ed1ab_0\n",
    "  - pynco=1.1.0=pyhd8ed1ab_1\n",
    "  - pyspharm=1.0.9=py310h19f2f35_1008\n",
    "  - pystac=1.9.0=pyhd8ed1ab_0\n",
    "  - pystac-client=0.7.5=pyhd8ed1ab_0\n",
    "  - pytables=3.9.1=py310h374b01c_0\n",
    "  - pyqt=5.15.7=py310hab646b1_3\n",
    "  - python=3.10.12=hd12c33a_0_cpython\n",
    "  - python-graphviz=0.20.1=pyh22cad53_0\n",
    "  - python-wget=3.2=py_0\n",
    "  - rasterio=1.3.9=py310h6a913dc_0\n",
    "  - rechunker=0.5.2=pyhd8ed1ab_1\n",
    "  - rio-cogeo=5.0.0=pyhd8ed1ab_0\n",
    "  - rioxarray=0.15.0=pyhd8ed1ab_0\n",
    "  - satpy=0.44.0=pyhd8ed1ab_0\n",
    "  - scikit-image=0.21.0=py310hc6cd4ac_0\n",
    "  - scikit-learn=1.3.0=py310hf7d194e_0\n",
    "  - scipy=1.11.1=py310ha4c1d20_0\n",
    "  - seaborn=0.12.2=hd8ed1ab_0\n",
    "  - seawater=3.3.4=py_1\n",
    "  - shapely=2.0.2=py310h7dcad9a_0\n",
    "  - siphon=0.9=pyhd8ed1ab_2\n",
    "  - statsmodels=0.14.0=py310h278f3c1_1\n",
    "  - tobac=1.4.2=pyhd8ed1ab_0\n",
    "  - widgetsnbextension=4.0.8=pyhd8ed1ab_0\n",
    "  - windspharm=1.7.0=py310hff52083_1004\n",
    "  - wrf-python=1.3.4.1=py310h3254323_3\n",
    "  - xarray=2023.6.0=pyhd8ed1ab_0\n",
    "  - xesmf=0.7.1=pyhd8ed1ab_0\n",
    "  - xgcm=0.8.1=pyhd8ed1ab_0\n",
    "  - xrft=1.0.1=pyhd8ed1ab_0\n",
    "  - zarr=2.15.0=pyhd8ed1ab_0\n",
    "```"
   ]
  },
  {
   "cell_type": "markdown",
   "metadata": {},
   "source": [
    "## NPL"
   ]
  },
  {
   "cell_type": "markdown",
   "metadata": {},
   "source": [
    "We also include the NCAR Python Library (NPL) conda environment and Python Kernel to users. This is a copy of the packages utilized for NPL that is hosted on HPC. We did have to upgrade a few specific versions to address vulnerabilities. For the most part versions will match what is used on HPC JupyterHub."
   ]
  },
  {
   "cell_type": "markdown",
   "metadata": {
    "vscode": {
     "languageId": "plaintext"
    }
   },
   "source": [
    "### List of Packages used"
   ]
  },
  {
   "cell_type": "markdown",
   "metadata": {},
   "source": [
    "The living list of packages can be found directly at this [link to the GitHub repository](https://github.com/NCAR/cisl-cloud/blob/main/configs/jupyter/base-notebook/npl-2023b.yml)\n",
    "\n",
    "While the GitHub repository is still private a static list of packages can be viewed below."
   ]
  },
  {
   "cell_type": "markdown",
   "metadata": {},
   "source": [
    "```{dropdown} npl-2023b package list\n",
    "  - arm_pyart=1.15.0=py310h1fa729e_0\n",
    "  - astropy=5.3.1=py310h278f3c1_0\n",
    "  - bokeh=3.1.1=pyhd8ed1ab_0\n",
    "  - boto3=1.28.2=pyhd8ed1ab_0\n",
    "  - bottleneck=1.3.7=py310h0a54255_0\n",
    "  - ca-certificates=2023.7.22=hbcca054_0\n",
    "  - cartopy=0.22.0=py310hcc13569_1\n",
    "  - cdsapi=0.6.1=pyhd8ed1ab_0\n",
    "  - celluloid=0.2.0=pyhd8ed1ab_0\n",
    "  - certifi=2023.7.22=pyhd8ed1ab_0\n",
    "  - cf-units=3.2.0=py310h278f3c1_0\n",
    "  - cfgrib=0.9.10.4=pyhd8ed1ab_0\n",
    "  - click=8.1.4=unix_pyh707e725_0\n",
    "  - cmocean=3.0.3=pyhd8ed1ab_0\n",
    "  - dask-jobqueue=0.8.2=pyhd8ed1ab_0\n",
    "  - dask-labextension=6.1.0=pyhd8ed1ab_0\n",
    "  - dask-mpi=2022.4.0=pyh458ca06_2\n",
    "  - dask=2023.7.0=pyhd8ed1ab_0\n",
    "  - datashader=0.15.1=pyhd8ed1ab_0\n",
    "  - descartes=1.1.0=py_4\n",
    "  - docopt=0.6.2=py_1\n",
    "  - eccodes=2.32.1=h35c6de3_0\n",
    "  - esmpy=8.4.2=pyhc1e730c_1\n",
    "  - fiona=1.9.4=py310h111440e_0\n",
    "  - flox=0.7.2=pyhd8ed1ab_0\n",
    "  - folium=0.14.0=pyhd8ed1ab_0\n",
    "  - gdal=3.7.3=py310h5c4b078_5\n",
    "  - geocat-comp=2023.06.1=pyha770c72_0\n",
    "  - geocat-viz=2023.07.0=pyhd8ed1ab_0\n",
    "  - geoviews=1.10.0=pyhd8ed1ab_0\n",
    "  - ghp-import=2.1.0=pyhd8ed1ab_0\n",
    "  - globus-cli=3.15.0=pyhd8ed1ab_0\n",
    "  - gsw=3.6.17=py310h278f3c1_0\n",
    "  - h5netcdf=1.2.0=pyhd8ed1ab_0\n",
    "  - h5py=3.10.0=nompi_py310ha2ad45a_100\n",
    "  - hvplot=0.8.4=pyhd8ed1ab_1\n",
    "  - intake-esm=2023.7.7=pyhd8ed1ab_0\n",
    "  - intake-xarray=0.7.0=pyhd8ed1ab_0\n",
    "  - intake=0.7.0=pyhd8ed1ab_0\n",
    "  - ipykernel=6.24.0=pyh71e2992_0\n",
    "  - ipympl=0.9.3=pyhd8ed1ab_0\n",
    "  - ipywidgets=8.0.7=pyhd8ed1ab_0\n",
    "  - iris=3.6.1=pyha770c72_0\n",
    "  - jupyter-book=0.15.1=pyhd8ed1ab_0\n",
    "  - jupyter-server-proxy=4.0.0=pyhd8ed1ab_0\n",
    "  - jupyterlab=4.0.2=pyhd8ed1ab_0\n",
    "  - ldcpy=0.17=py310h5764c6d_1\n",
    "  - libblas=3.9.0=17_linux64_blis\n",
    "  - matplotlib=3.7.2=py310hff52083_0\n",
    "  - mpi4py=3.1.4=py310h37cc914_0\n",
    "  - nc-time-axis=1.4.1=pyhd8ed1ab_0\n",
    "  - ncar-jobqueue=2021.4.14=pyh44b312d_0\n",
    "  - netcdf4=1.6.4=nompi_py310hba70d50_103\n",
    "  - numba=0.57.1=py310h0f6aa51_0\n",
    "  - numcodecs=0.11.0=py310heca2aa9_1\n",
    "  - numexpr=2.8.4=py310h690d005_100\n",
    "  - numpy=1.24.4=py310ha4c1d20_0\n",
    "  - ocgis=2.1.1=py_1\n",
    "  - openssl=3.1.4=hd590300_0\n",
    "  - pandas=2.0.3=py310h7cbd5c2_1\n",
    "  - papermill=2.3.4=pyhd8ed1ab_0\n",
    "  - pillow=10.0.1=py310h01dd4db_2\n",
    "  - pop-tools=2023.6.0=pyhd8ed1ab_0\n",
    "  - pyarrow=14.0.1=py310hf9e7431_1_cpu\n",
    "  - pydap=3.4.0=pyhd8ed1ab_0\n",
    "  - pygraphviz=1.11=py310h91ff30a_0\n",
    "  - pygrib=2.1.4=py310hdcc264a_7\n",
    "  - pyhdf=0.11.3=py310h3532cbf_0\n",
    "  - pylint=2.17.4=pyhd8ed1ab_0\n",
    "  - pynco=1.1.0=pyhd8ed1ab_1\n",
    "  - pyqt=5.15.7=py310hab646b1_3\n",
    "  - pyspharm=1.0.9=py310h19f2f35_1008\n",
    "  - pytables=3.9.1=py310h374b01c_0\n",
    "  - python-graphviz=0.20.1=pyh22cad53_0\n",
    "  - python-wget=3.2=py_0\n",
    "  - python=3.10.12=hd12c33a_0_cpython\n",
    "  - scikit-image=0.21.0=py310hc6cd4ac_0\n",
    "  - scikit-learn=1.3.0=py310hf7d194e_0\n",
    "  - scipy=1.11.1=py310ha4c1d20_0\n",
    "  - seaborn=0.12.2=hd8ed1ab_0\n",
    "  - seawater=3.3.4=py_1\n",
    "  - shapely=2.0.2=py310h7dcad9a_0\n",
    "  - statsmodels=0.14.0=py310h278f3c1_1\n",
    "  - tobac=1.4.2=pyhd8ed1ab_0\n",
    "  - widgetsnbextension=4.0.8=pyhd8ed1ab_0\n",
    "  - windspharm=1.7.0=py310hff52083_1004\n",
    "  - wrf-python=1.3.4.1=py310h3254323_3\n",
    "  - xarray=2023.6.0=pyhd8ed1ab_0\n",
    "  - xesmf=0.7.1=pyhd8ed1ab_0\n",
    "  - xgcm=0.8.1=pyhd8ed1ab_0\n",
    "  - xrft=1.0.1=pyhd8ed1ab_0\n",
    "  - zarr=2.15.0=pyhd8ed1ab_0\n",
    "  ```"
   ]
  },
  {
   "cell_type": "markdown",
   "metadata": {},
   "source": [
    "## r-4.3"
   ]
  },
  {
   "cell_type": "markdown",
   "metadata": {},
   "source": [
    "We provide a base R environment with a packages installed based off what is provided to users on HPC JupyterHub."
   ]
  },
  {
   "cell_type": "markdown",
   "metadata": {},
   "source": [
    "### List of Packages used"
   ]
  },
  {
   "cell_type": "markdown",
   "metadata": {},
   "source": [
    "The living list of packages can be found directly at this [link to the GitHub repository](https://github.com/NCAR/cisl-cloud/blob/main/configs/jupyter/base-notebook/r-4.3.yml)\n",
    "\n",
    "While the GitHub repository is still private a static list of packages can be viewed below."
   ]
  },
  {
   "cell_type": "markdown",
   "metadata": {},
   "source": [
    "```{dropdown} r-4.3 package list\n",
    "  - r=4.3=r43hd8ed1ab_1007\n",
    "  - r-irkernel=1.3.2=r43h785f33e_1\n",
    "  - ca-certificates=2023.7.22=hbcca054_0\n",
    "  - openssl=3.1.4=hd590300_0\n",
    "  - r-terra=1.7_55=r43h25a7ac2_0\n",
    "  - r-rgdal=1.6_7=r43haac4566_0\n",
    "  - r-rnetcdf=2.6_2=r43h3183d2a_4\n",
    "  - r-ggplot2=3.4.4=r43hc72bb7e_0\n",
    "  - r-lubridate=1.9.3=r43h57805ef_0\n",
    "  - r-randomforest=4.7_1.1=r43h61816a4_2\n",
    "  - r-rgooglemaps=1.5.1=r43hc72bb7e_0\n",
    "  - r-lava=1.7.3=r43hc72bb7e_0\n",
    "  - r-beanplot=1.3.1=r43ha770c72_2\n",
    "  - r-cdft=1.2=r43hc72bb7e_2\n",
    "  - r-corrplot=0.92=r43hc72bb7e_2\n",
    "  - r-dt=0.28=r43hc72bb7e_1\n",
    "  - r-ellipse=0.5.0=r43hc72bb7e_0\n",
    "  - r-energy=1.7_11=r43ha503ecb_1\n",
    "  - r-fields=15.2=r43h61816a4_0\n",
    "  - r-fitdistrplus=1.1_11=r43hc72bb7e_1\n",
    "  - r-moments=0.14.1=r43hc72bb7e_2\n",
    "  - r-pcict=0.5_4.4=r43h57805ef_1\n",
    "  - r-proj=0.4.0=r43h57805ef_2\n",
    "  - r-prroc=1.3.1=r43hc72bb7e_1005\n",
    "  - r-pscl=1.5.5.1=r43hd590300_1\n",
    "  - r-qgraph=1.9.8=r43ha503ecb_0\n",
    "  - r-quantreg=5.97=r43hd9ac46e_0\n",
    "  - r-roxygen2=7.2.3=r43ha503ecb_1\n",
    "  - r-udunits2=0.13.2.1=r43h57805ef_3\n",
    "  - r-zoo=1.8_12=r43h57805ef_1\n",
    "  - r-clipr=0.8.0=r43hc72bb7e_2\n",
    "  - r-readr=2.1.4=r43ha503ecb_1\n",
    "  - r-curl=5.1.0=r43hf9611b0_0\n",
    "  - r-lmoments=1.3_1=r43h7ce84a7_5\n",
    "  - r-statmod=1.5.0=r43hd8f1df9_1\n",
    "  - r-zip=2.3.0=r43h57805ef_1\n",
    "  - r-distillery=1.2_1=r43h785f33e_2\n",
    "  - r-nloptr=2.0.3=r43hcf54a89_2\n",
    "  - r-extremes=2.1_3=r43h1df0287_1\n",
    "  - r-climate4r.climdex=0.2.3=r43ha770c72_0\n",
    "  - r-climate4r.datasets=0.0.1=r43ha770c72_2\n",
    "  - r-climate4r.indices=0.3.1=r43ha770c72_0\n",
    "  - r-s2dv=2.0.0=r43hc72bb7e_0\n",
    "  - jupyter_client=8.6.0=pyhd8ed1ab_0\n",
    "  - r-dataretrieval=2.7.14=r43h785f33e_0\n",
    "```"
   ]
  }
 ],
 "metadata": {
  "language_info": {
   "name": "python"
  },
  "orig_nbformat": 4
 },
 "nbformat": 4,
 "nbformat_minor": 2
}
