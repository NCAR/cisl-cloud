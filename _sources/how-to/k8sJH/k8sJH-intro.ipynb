{
 "cells": [
  {
   "attachments": {},
   "cell_type": "markdown",
   "metadata": {},
   "source": [
    "# Using the NCAR K8s JupyterHub"
   ]
  },
  {
   "attachments": {},
   "cell_type": "markdown",
   "metadata": {},
   "source": [
    "## Overview\n",
    "\n",
    "NCAR runs a JupyterHub instance that's hosted on a Kubernetes (K8s) cluster. "
   ]
  },
  {
   "cell_type": "markdown",
   "metadata": {},
   "source": [
    "```{note}\n",
    "The K8s JupyterHub is available inside the NCAR network only so you must either be ***onsite*** or connected to the ***VPN***.\n",
    "```"
   ]
  },
  {
   "cell_type": "markdown",
   "metadata": {},
   "source": [
    "<span class=\"d-flex justify-content-center py-4\">\n",
    "    <a href=\"https://jupyter.k8s.ucar.edu/\">\n",
    "        <figure>\n",
    "            <img src=\"https://ncar.github.io/cisl-cloud/_static/jhub-logo.png\">\n",
    "            <figcaption style=\"text-align:center\">K8s JupyterHub</figcaption>\n",
    "        </figure>\n",
    "    </a>\n",
    "</span>"
   ]
  },
  {
   "attachments": {},
   "cell_type": "markdown",
   "metadata": {},
   "source": [
    "## Access\n",
    "The [JupyterHub Login](https://jupyter.k8s.ucar.edu/) page is the portal to enter and spin up a personal and persistent Jupyter environment. \n",
    "\n",
    "Authentication is being handled via GitHub and access is given to members of the following NCAR [team](https://github.com/orgs/NCAR/teams/2i2c-cloud-users). If you do not currently have access you can request to join the GitHub team. Please provide valid justification for your use case. A member of the team will process the request and will be in contact to confirm or coordinate your access."
   ]
  }
 ],
 "metadata": {
  "language_info": {
   "name": "python"
  },
  "orig_nbformat": 4
 },
 "nbformat": 4,
 "nbformat_minor": 2
}
