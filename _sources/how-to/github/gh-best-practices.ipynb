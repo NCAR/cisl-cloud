{
 "cells": [
  {
   "cell_type": "markdown",
   "metadata": {},
   "source": [
    "# GitHub Actions Best Practices"
   ]
  },
  {
   "cell_type": "markdown",
   "metadata": {},
   "source": [
    "These are all covered in more detail on the GitHub documentation. For more information, see [Security hardening for GitHub Actions](https://docs.github.com/en/actions/security-for-github-actions/security-guides/security-hardening-for-github-actions)."
   ]
  },
  {
   "cell_type": "markdown",
   "metadata": {},
   "source": [
    "## Branch protection"
   ]
  },
  {
   "cell_type": "markdown",
   "metadata": {},
   "source": [
    "In the repository settings tab branch protection rules can be added by selecting the Branches link under Code and automation. These rules can be set to prevent the code in the repository from being manipulated by anyone who does not have approved access. \n",
    "\n",
    "For more information on creating rulesets, see [About rulesets](https://docs.github.com/en/repositories/configuring-branches-and-merges-in-your-repository/managing-rulesets/about-rulesets)\n",
    "\n",
    "For more information on creating classic protected branches, see [About protected branches](https://docs.github.com/en/repositories/configuring-branches-and-merges-in-your-repository/managing-protected-branches/about-protected-branches)\n"
   ]
  },
  {
   "cell_type": "markdown",
   "metadata": {},
   "source": [
    "## CODEOWNERS"
   ]
  },
  {
   "cell_type": "markdown",
   "metadata": {},
   "source": [
    "A `CODEOWNERS` file defines designated reviewers and approvers for specific code once the file has been added to the `.github` directory."
   ]
  },
  {
   "cell_type": "markdown",
   "metadata": {},
   "source": [
    "## Repository Action Settings"
   ]
  },
  {
   "cell_type": "markdown",
   "metadata": {},
   "source": [
    "There are a number of action and workflow permissions that are controlled in the repository Settings tab. Browse to the Settings page for the repository, select Actions to open a dropdown, and click General to open the Actions permissions settings.\n",
    "\n",
    "Allow only the actions that are required for your workflows and save them.\n",
    "\n",
    "Ensure that Require approval for all outside collaborators is selected for the Fork pull request workflows from outside collaborators is selected and saved. \n",
    "\n",
    "Workflow permissions set the default permissions granted to the GITHUB_TOKEN used in workflows and should match the minimum requirements for your workflows. The GITHUB_TOKEN permissions required should be included in your workflow to provide more granularity. Details on how to implement that can be found below.  "
   ]
  },
  {
   "cell_type": "markdown",
   "metadata": {},
   "source": [
    "## Limit GitHub Token Permissions"
   ]
  },
  {
   "cell_type": "markdown",
   "metadata": {},
   "source": [
    "`GITHUB_TOKEN` permissions can be included in your workflow file to provide the specific level of privileges needed for the GitHub Action run. Set this to the least privileged access required for the workflow by including the following in the workflow YAML\n",
    "\n",
    "```yaml\n",
    "permissions:\n",
    "  contents: read\n",
    "```"
   ]
  },
  {
   "cell_type": "markdown",
   "metadata": {},
   "source": [
    "## Harden Runners"
   ]
  },
  {
   "cell_type": "markdown",
   "metadata": {},
   "source": [
    "Jobs should be audited to determine egress traffic, ensuring source code isn't tampered with, run without privilege escalation, and setup to alert when the baselines are not adhered to. "
   ]
  },
  {
   "cell_type": "markdown",
   "metadata": {},
   "source": [
    "## Use SHA for Actions versions"
   ]
  },
  {
   "cell_type": "markdown",
   "metadata": {},
   "source": [
    "Prebuilt third-party GitHub Actions can be compromised as well. New Actions versions are built in to existing tags. Something marked as v3, for example, could receive a compromised patch and anything in an Action workflow using that v3 tag would be now running a compromised Action. Instead of using the simple tag a SHA tag can be used instead to pin workflows to Actions versions that are known to be secure. "
   ]
  },
  {
   "cell_type": "markdown",
   "metadata": {},
   "source": [
    "## Configure Repository Security"
   ]
  },
  {
   "cell_type": "markdown",
   "metadata": {},
   "source": [
    "Security at the repository level is customizable in the repositories settings tab under Code security. \n",
    "\n",
    "GitHub provides a bot to check the dependencies in a repository and will provide alerts when it detects known vulnerable packages in the code. \n",
    "\n",
    "Code scanning can also be configured to look through code and alert on coding errors or common vulnerabilities. \n",
    "\n",
    "A Secret scanner should also be enabled with push protection. This ensures that supported secret information is blocked from being added to the repository directly.  "
   ]
  },
  {
   "cell_type": "markdown",
   "metadata": {},
   "source": [
    "## Use security tools in CI/CD workflows"
   ]
  },
  {
   "cell_type": "markdown",
   "metadata": {},
   "source": [
    "Security tools can be included directly in CI/CD workflows to ensure potential issues or vulnerabilities are detected early. "
   ]
  },
  {
   "cell_type": "markdown",
   "metadata": {},
   "source": [
    "## Secrets"
   ]
  },
  {
   "cell_type": "markdown",
   "metadata": {},
   "source": [
    "GitHub Actions secrets should be rotated regularly. \n",
    "\n",
    "Don't use structured data, such as yaml, xml, or JSON for secrets.\n",
    "\n",
    "As mentioned the Secret scanner should also be enabled with push protection. This ensures that supported secret information is blocked from being added to the repository directly.  "
   ]
  }
 ],
 "metadata": {
  "kernelspec": {
   "display_name": "Python 3",
   "language": "python",
   "name": "python3"
  },
  "language_info": {
   "name": "python",
   "version": "3.10.12"
  }
 },
 "nbformat": 4,
 "nbformat_minor": 2
}
