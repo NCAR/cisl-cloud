{
 "cells": [
  {
   "cell_type": "markdown",
   "metadata": {},
   "source": [
    "# NSF NCAR Research Data Archive"
   ]
  },
  {
   "cell_type": "markdown",
   "metadata": {},
   "source": [
    "The NSF NCAR [Research Data Archive](https://rda.ucar.edu/) (RDA) is a collection of large and diverse data sets. It is managed by the Data Engineering and Curation Section (DECS) of the [Computational and Information Systems Laboratory](https://www2.cisl.ucar.edu/) (CISL) at the [National Center for Atmospheric Research](https://ncar.ucar.edu/) (NCAR). For more in depth information about what RDA is and has to offer please follow this [link to the main RDA website](https://rda.ucar.edu/)."
   ]
  },
  {
   "cell_type": "markdown",
   "metadata": {},
   "source": [
    "## Examples"
   ]
  },
  {
   "cell_type": "markdown",
   "metadata": {},
   "source": [
    "We provide a few different examples on how to access and manipulate data sets hosted on RDA over the next couple pages. These are meant to be a high level reference on how to get started with accessing RDA data from different locations, in different formats, and how to filter it down to only the information that's important to you. "
   ]
  },
  {
   "cell_type": "markdown",
   "metadata": {},
   "source": [
    "```{note}\n",
    "There is a download button at the top right of each page that contains a `.ipynb` extension. Use this to copy the notebook to a place that's interesting to you and run through the notebooks yourself. Eventually we will include links that will launch them directly in to the K8s JupyterHub or via the K8s BinderHub.\n",
    "```"
   ]
  }
 ],
 "metadata": {
  "language_info": {
   "name": "python"
  }
 },
 "nbformat": 4,
 "nbformat_minor": 2
}
