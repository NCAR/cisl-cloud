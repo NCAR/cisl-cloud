{
 "cells": [
  {
   "cell_type": "markdown",
   "metadata": {},
   "source": [
    "# Create tickets"
   ]
  },
  {
   "cell_type": "markdown",
   "metadata": {},
   "source": [
    "The team utilizes Jira software to create tickets that then follow our [Kanban workflow](https://ncar.github.io/cisl-cloud/how-to/agile.html#kanban-board). "
   ]
  },
  {
   "cell_type": "markdown",
   "metadata": {},
   "source": [
    "```{note}\n",
    "An Error may occur if you are not logged in or don't have the proper permissions. Click the link to login and you should be redirected back to the Create Issue page automatically. We try to allow any user the ability to create tickets but if you don't have proper permissions create a ticket [here](https://ithelp.ucar.edu/servicedesk/customer/portal/2/create/17) and a Jira administrator will grant access to the CCPP project.  \n",
    "```"
   ]
  },
  {
   "cell_type": "markdown",
   "metadata": {},
   "source": [
    "## Request New Services"
   ]
  },
  {
   "cell_type": "markdown",
   "metadata": {},
   "source": [
    "If you have a request for a new service, or want to deploy a new application, there is a <a href=\"https://jira.ucar.edu/secure/CreateIssueDetails!init.jspa?pid=18470&issuetype=10903&customfield_10281=CCPP-108\">link for New Request</a> on the top of this page that will take you to a page that looks like this:"
   ]
  },
  {
   "cell_type": "markdown",
   "metadata": {},
   "source": [
    "<img src=\"https://ncar.github.io/cisl-cloud/_static/tickets/user-request.png\"/>"
   ]
  },
  {
   "cell_type": "markdown",
   "metadata": {},
   "source": [
    "````{margin}\n",
    "```{note}\n",
    "The Project and Issue Type are selected by default.\n",
    "```\n",
    "```{dropdown} Summary\n",
    "For the Summary field put in a short description of the issue you are having.\n",
    "```\n",
    "```{dropdown} Reporter\n",
    "The Reporter field is not filled automatically. Please search for and select your name.\n",
    "```\n",
    "```{dropdown} Description\n",
    "Describe your issue in detail here. Please include any error messages or information you think is relevant. \n",
    "```\n",
    "```{dropdown} Attachment\n",
    "Please use this field to upload any relevant images or files. Instead of pasting lines of logs directly in to the description upload a text file here and reference it. \n",
    "```\n",
    "```{dropdown} Assignee\n",
    "This is set to Automatic by default. Please leave it and the teams Product Owner will make sure it is assigned accordingly.  \n",
    "```\n",
    "```{dropdown} Epic Link\n",
    "By default this is User Requests. Please leave it. \n",
    "```\n",
    "````"
   ]
  },
  {
   "cell_type": "markdown",
   "metadata": {},
   "source": [
    "When you select the `Create` button you will be redirected to the `Issues` page with your new ticket being display. It is now in the team backlog. You will get an email, it will also be sent to the [Product Owner](https://ncar.github.io/cisl-cloud/how-to/agile.html#via-the-agile-product-owner-po) for the team, that confirms your ticket has been created with the content supplied. This will also contain a link to your issue that hopefully makes it easier to check in and get updates. "
   ]
  },
  {
   "cell_type": "markdown",
   "metadata": {},
   "source": [
    "## Report an Issue"
   ]
  },
  {
   "cell_type": "markdown",
   "metadata": {},
   "source": [
    "There is a [link to Report Issue](https://jira.ucar.edu/secure/CreateIssueDetails!init.jspa?pid=18470&issuetype=10905) on the top of this page that will take you to a page that looks like this:"
   ]
  },
  {
   "cell_type": "markdown",
   "metadata": {},
   "source": [
    "<img src=\"https://ncar.github.io/cisl-cloud/_static/create-issue.png\"/>"
   ]
  },
  {
   "cell_type": "markdown",
   "metadata": {},
   "source": [
    "````{margin}\n",
    "```{note}\n",
    "The Project and Issue Type are selected by default.\n",
    "```\n",
    "```{dropdown} Summary\n",
    "For the Summary field put in a short description of the issue you are having.\n",
    "```\n",
    "```{dropdown} Reporter\n",
    "The Reporter field is not filled automatically. Please search for and select your name.\n",
    "```\n",
    "```{dropdown} Description\n",
    "Describe your issue in detail here. Please include any error messages or information you think is relevant. \n",
    "```\n",
    "```{dropdown} Attachment\n",
    "Please use this field to upload any relevant images or files. Instead of pasting lines of logs directly in to the description upload a text file here and reference it. \n",
    "```\n",
    "````"
   ]
  },
  {
   "cell_type": "markdown",
   "metadata": {},
   "source": [
    "When you select the `Create` button you will be redirected to the `Issues` page with your new ticket being display. It is now in the team backlog. You will get an email, it will also be sent to the [Product Owner](https://ncar.github.io/cisl-cloud/how-to/agile.html#via-the-agile-product-owner-po) for the team, that confirms your ticket has been created with the content supplied. This will also contain a link to your issue that hopefully makes it easier to check in and get updates. "
   ]
  }
 ],
 "metadata": {
  "language_info": {
   "name": "python"
  },
  "orig_nbformat": 4
 },
 "nbformat": 4,
 "nbformat_minor": 2
}
