{
 "cells": [
  {
   "cell_type": "markdown",
   "metadata": {},
   "source": [
    "# Deploy your application"
   ]
  },
  {
   "cell_type": "markdown",
   "metadata": {},
   "source": [
    "If you have a containerized version of your application and want to host it on the CISL cloud currently the best way to accomplish this is by [submitting a ticket](../../create-tickets) to the CISL Cloud Pilot team. We have a few methods identified on deploying with [kubectl](../Hosting/web-kubectl), with [Helm](../Hosting/web-helm) and with [Argo CD](../argocd/argo-user) but as of right now they require a few permissions that only administrators of the cloud have. Argo CD provides a Continuous Deployment mechanism that can update your application when you push changes to a Git repository. It is covered in more detail on the next page."
   ]
  }
 ],
 "metadata": {
  "language_info": {
   "name": "python"
  },
  "orig_nbformat": 4
 },
 "nbformat": 4,
 "nbformat_minor": 2
}
