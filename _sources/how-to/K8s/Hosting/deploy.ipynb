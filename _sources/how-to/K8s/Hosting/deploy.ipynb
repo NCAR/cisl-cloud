{
 "cells": [
  {
   "cell_type": "markdown",
   "metadata": {},
   "source": [
    "# Deploy your application"
   ]
  },
  {
   "cell_type": "markdown",
   "metadata": {},
   "source": [
    "```{note}\n",
    "FQDN's, and URL's, are required to be in the `*.k8s.ucar.edu` domain. Currently access to this domain, and the applications hosted in it, is restricted to UCAR internal networks and VPN connections. We are working to have an option for publicly accessible URL's.\n",
    "```"
   ]
  },
  {
   "cell_type": "markdown",
   "metadata": {},
   "source": [
    "## Helm Charts & Argo CD"
   ]
  },
  {
   "cell_type": "markdown",
   "metadata": {},
   "source": [
    "Using custom [Helm charts](https://helm.sh/docs/topics/charts/) to manage and deploy applications on the on-prem cloud is the preferred method today. One of the Microservices provided as part of the on-prem cloud is [Argo CD](https://argo-cd.readthedocs.io/). Argo can be configured by a on-prem cloud Administrator to deploy, and automatically update, a Helm chart stored in a Git repository. We provide 3 different Helm templates as examples of places to start. "
   ]
  },
  {
   "cell_type": "markdown",
   "metadata": {},
   "source": [
    "* [Standalone Container(s)](https://github.com/NicholasCote/web-app-helm)\n",
    "* [Containers with Auto-scaling](https://github.com/NicholasCote/web-app-helm-auto-scale)\n",
    "* [Container with a Dask Cluster](https://github.com/NicholasCote/web-app-dask-helm)\n",
    "* [Container with GLADE volume mounts](https://github.com/NicholasCote/web-app-vols-helm)"
   ]
  },
  {
   "cell_type": "markdown",
   "metadata": {},
   "source": [
    "If you have a containerized version of your application and want to host it on the CISL cloud currently the best way to get started is by using this [link to submit a ticket](../../create-tickets) to the CISL Cloud Pilot team. A member of the team can help make sure your Helm chart and application are configured and deployed successfully. "
   ]
  },
  {
   "cell_type": "markdown",
   "metadata": {},
   "source": [
    "### Test & Production"
   ]
  },
  {
   "cell_type": "markdown",
   "metadata": {},
   "source": [
    "When automatically making changes to an application it's always best practice to test changes in a controlled environment before pushing those changes to a production instance. It's recommended to create a test branch of your repository, with a test Helm chart & FQDN, and add that to Argo CD along with your main branch. You can then push changes to the test branch, confirm functionality on your hosted test instance, and, if everything is working, merge those changes to your main branch."
   ]
  },
  {
   "cell_type": "markdown",
   "metadata": {},
   "source": [
    "## GitHub Actions"
   ]
  },
  {
   "cell_type": "markdown",
   "metadata": {},
   "source": [
    "[GitHub Actions](https://docs.github.com/en/actions) can be utilized to streamline the CI/CD pipeline for your application. For example, a [workflow](https://docs.github.com/en/actions/using-workflows/about-workflows) can be created that has [jobs](https://docs.github.com/en/actions/using-jobs/using-jobs-in-a-workflow) to build your container image, push it to a container registry, update your applications Helm chart with the new image details, and Argo CD will then automatically see the changes."
   ]
  },
  {
   "cell_type": "markdown",
   "metadata": {},
   "source": [
    "```{warning}\n",
    "When tagging your container images avoid using the `:latest` tag. There's a number of different reasons for this but for CI/CD a primary one is that `:latest` never changes inside your applications Helm chart. If nothing changes there's nothing to synchronize and your application will not update. \n",
    "```"
   ]
  }
 ],
 "metadata": {
  "language_info": {
   "name": "python"
  },
  "orig_nbformat": 4
 },
 "nbformat": 4,
 "nbformat_minor": 2
}
