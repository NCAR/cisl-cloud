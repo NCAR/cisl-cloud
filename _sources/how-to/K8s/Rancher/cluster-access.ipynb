{
 "cells": [
  {
   "cell_type": "markdown",
   "metadata": {},
   "source": [
    "# Accessing a k8s Cluster"
   ]
  },
  {
   "cell_type": "markdown",
   "metadata": {},
   "source": [
    "After obtaining a kubeconfig for a cluster it's time to get setup and access that cluster. This is done mostly via the command line using the [`kubectl`](https://kubernetes.io/docs/reference/generated/kubectl/kubectl-commands) commands."
   ]
  },
  {
   "cell_type": "markdown",
   "metadata": {},
   "source": [
    "## Specify Kubeconfig"
   ]
  },
  {
   "cell_type": "markdown",
   "metadata": {},
   "source": [
    "There's a few different ways that a kubeconfig can be specified. The k8s documentation [here](https://kubernetes.io/docs/concepts/configuration/organize-cluster-access-kubeconfig/) goes in to more detail on those methods. "
   ]
  },
  {
   "cell_type": "markdown",
   "metadata": {},
   "source": [
    "```{note}\n",
    "Access to k8s resources is also controlled via kubeconfigs. In the examples below you may not have the applicable permissions to view the resources specified. If you get a response that contains `Error from server (Forbidden)` you are communicating with the cluster, but you do not have permission to view the requested resources. \n",
    "```"
   ]
  },
  {
   "cell_type": "markdown",
   "metadata": {},
   "source": [
    "### Default kubeconfig"
   ]
  },
  {
   "cell_type": "markdown",
   "metadata": {},
   "source": [
    "By default `kubectl` commands look to the `~/.kube/config.yml` file. If you do not specify a kubeconfig to use explicitly `kubectl` by is configured to use this file by default. You can use any kubeconfig files to overwrite this file and then you don't have to specify what file to use, this is not recommended. Instead you should use one of the methods below  "
   ]
  },
  {
   "cell_type": "markdown",
   "metadata": {},
   "source": [
    "### Specify inline"
   ]
  },
  {
   "cell_type": "markdown",
   "metadata": {},
   "source": [
    "When you run any `kubectl` commands you can specify the kubeconfig to use inline by adding the `--kubeconfig` flag like in the following example:\n",
    "\n",
    "`kubectl get nodes --kubeconfig ~/Downloads/siodine.yml`"
   ]
  },
  {
   "cell_type": "markdown",
   "metadata": {},
   "source": [
    "### Export to `KUBECONFIG` variable"
   ]
  },
  {
   "cell_type": "markdown",
   "metadata": {},
   "source": [
    "Another method to specify the kubeconfig is to specify the file location in an environment variable, specifically `KUBECONFIG`. The following example shows how to export the variable (Unix) from the command line: "
   ]
  },
  {
   "cell_type": "markdown",
   "metadata": {},
   "source": [
    "```\n",
    "export KUBECONFIG=/home/user/Downloads/siodine.yml\n",
    "kubectl get nodes\n",
    "```"
   ]
  },
  {
   "cell_type": "markdown",
   "metadata": {},
   "source": [
    "```{note}\n",
    "The export command does not persist after a reboot. If you want the export to persist it should be added to the ~/.bashrc file or the equivalent for your environment. Remember to also run `source ~/.bashrc`, or your environment equivalent, after to apply any changes. If you are unsure how to create persistent variables for your operating system please search the web on how to accomplish this. \n",
    "```"
   ]
  }
 ],
 "metadata": {
  "language_info": {
   "name": "python"
  },
  "orig_nbformat": 4
 },
 "nbformat": 4,
 "nbformat_minor": 2
}
