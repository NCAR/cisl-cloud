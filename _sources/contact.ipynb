{
 "cells": [
  {
   "attachments": {},
   "cell_type": "markdown",
   "metadata": {},
   "source": [
    "# Contact Information"
   ]
  },
  {
   "cell_type": "markdown",
   "metadata": {},
   "source": [
    "## New feature requests\n",
    "\n",
    "Any new feature request should be submitted via a [Jira Ticket](https://jira.ucar.edu/secure/CreateIssueDetails!init.jspa?pid=18470&issuetype=10903&summary=User%20Request:). It will then follow our [Kanban workflow](../how-to/agile.ipynb). For information on how to properly fill out these tickets please look at the [Create Tickets](https://ncar.github.io/cisl-cloud/how-to/create-tickets.html)"
   ]
  },
  {
   "cell_type": "markdown",
   "metadata": {},
   "source": [
    "## Report an Issue\n",
    "\n",
    "### With Services\n",
    "There is a `REPORT ISSUE` link at the top of this documentation page to create a Jira bug ticket for this project. If there's an issue with currently offered services please submit an issue with the link at the top, or this one [here](https://jira.ucar.edu/secure/CreateIssueDetails!init.jspa?pid=18470&issuetype=10905). The new ticket will then follow our [Kanban workflow](./how-to/agile). For information on how to properly fill out these tickets please look at the [Create Tickets](./how-to/create-tickets)"
   ]
  },
  {
   "cell_type": "markdown",
   "metadata": {},
   "source": [
    "### With Documentation"
   ]
  },
  {
   "cell_type": "markdown",
   "metadata": {},
   "source": [
    "If you notice an issue with the Documentation, content is missing, something isn't clear, or another reason you can submit an issue directly to GitHub on that page. At the top of the documentation there is a GitHub icon, and if you hover over it a link to `Open Issue` pops up. Click on this and it will take you GitHub and specify there's an issue on the page you navigated from. Please be as descriptive as possible in your issue content. An example of the GitHub icon and `Open Issue` that opens on hover can be seen in the image below:"
   ]
  },
  {
   "cell_type": "markdown",
   "metadata": {},
   "source": [
    "<img src=\"https://ncar.github.io/cisl-cloud/_static/open-issue-gh.png\"/>"
   ]
  },
  {
   "cell_type": "markdown",
   "metadata": {},
   "source": [
    "## Technical Product Owner\n",
    "\n",
    "The Product Owner (PO), currently ***[Nick Cote](mailto:ncote@ucar.edu)***, is available via email or Google Chat to discuss any other needs you may have. Interacting with key stakeholders is the primary focus of the PO. They are more than happy to work with you as the primary interface for the technical team. "
   ]
  },
  {
   "cell_type": "markdown",
   "metadata": {},
   "source": [
    "## Team Email address\n",
    "You can email all members of the team via ***[cisl-on-prem-cloud@ucar.edu](mailto:cisl-on-prem-cloud@ucar.edu)***"
   ]
  },
  {
   "cell_type": "markdown",
   "metadata": {},
   "source": [
    "## [GitHub](https://github.com/NCAR/cisl-cloud/)\n",
    "\n",
    "We have a ***private*** GitHub repository to host all of the configuration files and documentation outlined here. It is part of our internal continuous improvement process. It will be eventually opened up for more collaborative efforts."
   ]
  }
 ],
 "metadata": {
  "language_info": {
   "name": "python"
  },
  "orig_nbformat": 4
 },
 "nbformat": 4,
 "nbformat_minor": 2
}
