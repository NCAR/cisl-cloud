{
 "cells": [
  {
   "attachments": {},
   "cell_type": "markdown",
   "metadata": {},
   "source": [
    "# User Information"
   ]
  },
  {
   "attachments": {},
   "cell_type": "markdown",
   "metadata": {},
   "source": [
    "Once logged in to the JupyterHub there are a few details that will make it easier to navigate and understand how to utilize what is offered. "
   ]
  },
  {
   "attachments": {},
   "cell_type": "markdown",
   "metadata": {},
   "source": [
    "## Server Options\n",
    "\n",
    "Once logged in the first page displayed is titled `Server Options` and is also known as the spawn page. It's from here where the desired environment is selected and spun up for the user. There's a number of different options for different resources available. Right now this menu is still in development but currently looks like the following:\n",
    "\n",
    "<img src=\"https://ncar.github.io/cisl-cloud/_static/2i2c/2i2c-serv-opts.png\"/>"
   ]
  },
  {
   "attachments": {},
   "cell_type": "markdown",
   "metadata": {},
   "source": [
    "### CPU only options\n",
    "The small, medium, and large sizes currently utilize the Pangeo [pangeo-notebook](https://github.com/pangeo-data/pangeo-docker-images/tree/master/pangeo-notebook) docker image. Each of the sizes contain a handful of specific resource allocations. Please pick the image that best fits your analysis requirements. There is a cost associated with increasing the resources used and users should do their own due diligence to make sure they select enough resources to perform the work required, but not so many that costs are incurred for resources that were never used. "
   ]
  },
  {
   "cell_type": "markdown",
   "metadata": {},
   "source": [
    "### CPU & GPU options\n",
    "The NVIDIA Tesla option provides GPU resources. There are two images to choose from under this option. Both images are from Pangeo. One is the Pangeo PyTorch ML image and relevant code for that image can be found on the Pangeo GitHub repository [here](https://github.com/pangeo-data/pangeo-docker-images/tree/master/pytorch-notebook). The other image is the Pangeo Tensorflow ML Notebook and relevant code for that image can be found on the Pangeo GitHub repository [here](https://github.com/pangeo-data/pangeo-docker-images/tree/master/ml-notebook). "
   ]
  }
 ],
 "metadata": {
  "language_info": {
   "name": "python"
  },
  "orig_nbformat": 4
 },
 "nbformat": 4,
 "nbformat_minor": 2
}
