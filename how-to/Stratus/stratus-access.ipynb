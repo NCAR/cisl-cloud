{
 "cells": [
  {
   "cell_type": "markdown",
   "metadata": {},
   "source": [
    "# Access"
   ]
  },
  {
   "cell_type": "markdown",
   "metadata": {},
   "source": [
    "Access to the CISL Cloud Stratus buckets require a ticket to opened with the team [here](https://jira.ucar.edu/secure/CreateIssueDetails!init.jspa?pid=18470&issuetype=10903). A member of the team will pick up the request in a timely manner. You will receive two emails from `[ActiveScale SM][stratus.ucar.edu]`. One will contain an Access ID (Key), and the other a Secret Key. You need these to access the Stratus UI, API, and to utilize the Jupyter S3 Object Browser Extension. \n",
    "\n",
    "```{warning}\n",
    "Never store credentials in plain text. Do not place these keys in any code repositories. If they happen to get exposed accidentally please open a ticket [here](https://jira.ucar.edu/secure/CreateIssueDetails!init.jspa?pid=18470&issuetype=10903) with the Summary `Stratus Keys Compromised`\n",
    "```"
   ]
  }
 ],
 "metadata": {
  "language_info": {
   "name": "python"
  },
  "orig_nbformat": 4
 },
 "nbformat": 4,
 "nbformat_minor": 2
}
