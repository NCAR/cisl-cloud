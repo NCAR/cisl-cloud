{
 "cells": [
  {
   "cell_type": "markdown",
   "metadata": {},
   "source": [
    "# GLADE"
   ]
  },
  {
   "cell_type": "markdown",
   "metadata": {},
   "source": [
    "CISL's [Advanced Research Computing](https://arc.ucar.edu/) (ARC) division provides a high-performance GPFS centralized file service known as GLADE. The On-Prem K8s cluster has read-only access to 2 directories on GLADE that contain the majority of data sets accessed by users in `/glade/collections` and `/glade/campaign`."
   ]
  },
  {
   "cell_type": "markdown",
   "metadata": {},
   "source": [
    "## JupyterHub"
   ]
  },
  {
   "cell_type": "markdown",
   "metadata": {},
   "source": [
    "Use the paths `/glade/collections` and `/glade/campaign` to access GLADE. It is the same on both the HPC JupyterHub and the K8s JupyterHub."
   ]
  },
  {
   "cell_type": "markdown",
   "metadata": {},
   "source": [
    "## Web Applications"
   ]
  },
  {
   "cell_type": "markdown",
   "metadata": {},
   "source": [
    "Containers running on the CISL on-prem cloud can utilize [K8s Volumes](https://kubernetes.io/docs/concepts/storage/volumes/) to mount GLADE directories read-only inside their applications. An example Helm chart for this kind of application can be found at this [link to a template for an application with added volumes](https://github.com/NicholasCote/web-app-vols-helm)."
   ]
  }
 ],
 "metadata": {
  "language_info": {
   "name": "python"
  }
 },
 "nbformat": 4,
 "nbformat_minor": 2
}
