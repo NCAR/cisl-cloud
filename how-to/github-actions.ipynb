{
 "cells": [
  {
   "cell_type": "markdown",
   "metadata": {},
   "source": [
    "# GitHub Actions"
   ]
  },
  {
   "cell_type": "markdown",
   "metadata": {},
   "source": [
    "[GitHub Actions](https://docs.github.com/en/actions) is a powerful automation platform that can be used to implement Continuous Integration (CI) and Continuous Deployment (CD) workflows within your GitHub repository."
   ]
  },
  {
   "cell_type": "markdown",
   "metadata": {},
   "source": [
    "```{note}\n",
    "The following assumes that you have a GitHub repository created, and you are working inside that repository, for implementing GitHub Actions. \n",
    "```"
   ]
  },
  {
   "cell_type": "markdown",
   "metadata": {},
   "source": [
    "## Creating Workflows"
   ]
  },
  {
   "cell_type": "markdown",
   "metadata": {},
   "source": [
    "A [GitHub Actions workflow](https://docs.github.com/en/actions/using-workflows/about-workflows) is a customizable collection of one or more jobs that are defined in a YAML file. In order to recognize these different workflows GitHub actions looks to a specific directory in the base directory of repositories. To get started let's create this directory in the root directory of our repository with the following command :   "
   ]
  },
  {
   "cell_type": "markdown",
   "metadata": {},
   "source": [
    "`mkdir -p .github/workflows`"
   ]
  },
  {
   "cell_type": "markdown",
   "metadata": {},
   "source": [
    "All our workflows YAML definition files will be placed in here. There is no limit to how many different workflows we can define but there is a limit, that depends on your particular GitHub plan, on how many jobs can be run simultaneously. A workflow has to contain a few basic components. An event to trigger the workflow, and one or more jobs to run when the workflow is triggered. "
   ]
  },
  {
   "cell_type": "markdown",
   "metadata": {},
   "source": [
    "## Build Docker image"
   ]
  },
  {
   "cell_type": "markdown",
   "metadata": {},
   "source": [
    "GitHub actions can be utilized to build Docker images whenever new code is pushed to a specific directory and then push that image to a container registry like Docker Hub.\n",
    "\n",
    "This example workflow utilizes a few different github actions to build a docker image and push it to a container registry. Each step is explained in detail via inline comments. "
   ]
  },
  {
   "cell_type": "markdown",
   "metadata": {},
   "source": [
    "```{note}\n",
    "The workflow examples include a job that reads secret information stored in the GitHub repository. Here is a [link to information on using secrets in GitHub Actions](https://docs.github.com/en/actions/security-guides/using-secrets-in-github-actions).\n",
    "```"
   ]
  },
  {
   "cell_type": "markdown",
   "metadata": {},
   "source": [
    "### Example ***.github/workflows/build-push-docker.yaml***"
   ]
  },
  {
   "cell_type": "markdown",
   "metadata": {},
   "source": [
    "```\n",
    "# This workflow builds docker images and pushes them to a Docker Hub Repository\n",
    "\n",
    "# Set the workflow name\n",
    "name: Build & Push Docker Image\n",
    "\n",
    "# Define the trigger that starts the action\n",
    "# For this workflow the trigger is on a push that changes anything in the web-app/ path\n",
    "on:\n",
    "  push:\n",
    "    paths:\n",
    "      - web-app/**\n",
    "\n",
    "# Define the actions that are going to take place as part of this workflow    \n",
    "jobs:\n",
    "  # Name the job(s)\n",
    "  build-push-docker-image:\n",
    "    # Define where the job should run in this case it will be run on the latest ubuntu image\n",
    "    runs-on: ubuntu-latest\n",
    "    # Set the steps to take in order\n",
    "    steps:\n",
    "      # Step 1 is to checkout the github repo used to build the Dockerfile\n",
    "      - name: Check out the repo\n",
    "        uses: actions/checkout@v3\n",
    "      # Step 2 is to login to docker hub so the image can be pushed\n",
    "      - name: Login to Docker Hub\n",
    "        uses: docker/login-action@v2\n",
    "        # GitHub secrets are used to provide login information to docker hub\n",
    "        with:\n",
    "          username: ${{ secrets.DOCKERHUB_USERNAME }}\n",
    "          password: ${{ secrets.DOCKERHUB_TOKEN  }}\n",
    "      # Pull relevant metadata out of the docker image used\n",
    "      - name: Extract metadata for Docker\n",
    "        id: meta\n",
    "        uses: docker/metadata-action@v4\n",
    "        with:\n",
    "          images: ncote/web-app\n",
    "      # Get the date to apply to image tag\n",
    "      - name: Get current date\n",
    "        id: date\n",
    "        run: echo \"date=$(date +'%Y-%m-%d.%H')\" >> $GITHUB_OUTPUT\n",
    "      # Build and push the docker image\n",
    "      - name: Build and push Docker image\n",
    "        uses: docker/build-push-action@v4\n",
    "        with:\n",
    "          # Provide the current directory as build context \n",
    "          context: .\n",
    "          # Specify where the Dockerfile is located in relation to the repo base path\n",
    "          file: Dockerfile\n",
    "          # Enable the push to docker hub\n",
    "          push: true\n",
    "          # Provide the tags to apply to the image, this example uses the date and time for an image tag \n",
    "          tags: |\n",
    "            ncote/web-app:${{ steps.date.outputs.date }}\n",
    "          # Apply labels as defined in the Docker image metadata\n",
    "          labels: ${{ steps.meta.outputs.labels }}\n",
    "```"
   ]
  },
  {
   "cell_type": "markdown",
   "metadata": {},
   "source": [
    "## Update Helm Chart"
   ]
  },
  {
   "cell_type": "markdown",
   "metadata": {},
   "source": [
    "The CISL Cloud utilizes Argo CD to sync an applications Helm chart hosted in a code repository whenever changes are made. Once the Helm chart has been initially deployed, a GitHub job can be setup to update the Helm chart to include the newest image build and tag for your application. This enables CICD so that when changes are made to the source code GitHub actions builds a new image with the changes. It then updates the Helm chart, and subsequently Argo CD, with that new image and automatically has updated your K8s hosted application. "
   ]
  },
  {
   "cell_type": "markdown",
   "metadata": {},
   "source": [
    "### Example ***.github/workflows/web-app-cisl-cicd.yaml***"
   ]
  },
  {
   "cell_type": "markdown",
   "metadata": {},
   "source": [
    "```\n",
    "# This workflow builds docker images and pushes them to a Docker Hub Repository\n",
    "\n",
    "# Set the workflow name\n",
    "name: CISL Cloud CICD Workflow\n",
    "\n",
    "# Define the trigger that starts the action\n",
    "# For this workflow the trigger is a push that changes anything in the web-app/ path on the repositories main branch\n",
    "on:\n",
    "  push:\n",
    "    paths:\n",
    "      - web-app/**\n",
    "    branches:\n",
    "      - main\n",
    "\n",
    "# Define the actions that are going to take place as part of this workflow    \n",
    "jobs:\n",
    "  # Name the job(s)\n",
    "  web-app-cicd:\n",
    "    # Define where the job should run. \n",
    "    # This example runs on a GitHub hosted system using the latest ubuntu as the OS\n",
    "    runs-on: ubuntu-latest\n",
    "    # Set the steps to take in order\n",
    "    steps:\n",
    "      # Step 1 is to checkout the github repo used to build the Dockerfile\n",
    "      - name: Checkout the repo \n",
    "        uses: actions/checkout@v3\n",
    "      # Step 2 is to login to docker hub so the image can be pushed\n",
    "      - name: Login to Docker Hub\n",
    "        uses: docker/login-action@v2\n",
    "        # GitHub secrets are used to provide login information to docker hub\n",
    "        with:\n",
    "          username: ${{ secrets.DOCKERHUB_USERNAME }}\n",
    "          password: ${{ secrets.DOCKERHUB_TOKEN  }}\n",
    "      # Step 3 gets the current date and time down to the minute\n",
    "      # This is used as the tag for our docker images to have versioning\n",
    "      # Note: Avoid using latest as your tag because it never changes\n",
    "      - name: Get current date\n",
    "        id: date\n",
    "        run: echo \"date=$(date +'%Y-%m-%d.%H.%M')\" >> $GITHUB_OUTPUT\n",
    "      # Step 4 builds and pushes a container image based on the Dockerfile in the base directory \n",
    "      - name: Build and push Docker image\n",
    "        uses: docker/build-push-action@v4\n",
    "        with:\n",
    "          # Provide the current directory as build context \n",
    "          context: .\n",
    "          # Specify where the Dockerfile is located in relation to the repo base path\n",
    "          file: Dockerfile\n",
    "          # Enable the push to docker hub\n",
    "          push: true\n",
    "          # Provide the tags to apply to the image \n",
    "          # This example uses the current date and time, down to the minute, as the image tag \n",
    "          tags: |\n",
    "            ncote/web-app-image:${{ steps.date.outputs.date }}\n",
    "      # Step 5 uses sed to replace the image: line, in the Charts/helm-chart/values.yaml file, with the new image used\n",
    "      # Note that sed is finicky and should be tested to work properly with your Helm chart configuration\n",
    "      - name: Update Helm values.yaml\n",
    "        run: |\n",
    "          sed -i \"/web-app-image/ c\\    image: ncote/web-app-image:${{ steps.date.outputs.date }}\" Charts/helm-chart/values.yaml\n",
    "      # Step 6 uses sed to replace the appVersion line, in the Charts/helm-chart/Chart.yaml file, with the new version (current date and time)\n",
    "      - name: Update Helm Chart.yaml\n",
    "        run: |\n",
    "          sed -i \"/appVersion:/ c\\appVersion: ${{ steps.date.outputs.date }}\" Charts/helm-chart/Chart.yaml\n",
    "      # Step 7 runs a python script that updates the Semantic version in Charts/helm-chart/Chart.yaml by 1\n",
    "      - name: Run python script to update minor version by 1\n",
    "        run: python scripts/update_ver.py\n",
    "      # Step 8 pushes the Helm chart changes to GitHub, triggering a sync with Argo CD, and ultimately updating the application\n",
    "      # Argo CD runs a scan against a configured repository every 3 minutes. Wait times to see changes updated should be 3 minutes or less\n",
    "      - name: Push changes to GitHub\n",
    "        run: |\n",
    "          git config --global user.email \"$GITHUB_ACTOR@users.noreply.github.com\"\n",
    "          git config --global user.name \"$GITHUB_ACTOR\"\n",
    "          git commit -a -m \"Update Helm chart via GH Actions\"\n",
    "          git push\n",
    "```"
   ]
  },
  {
   "cell_type": "markdown",
   "metadata": {},
   "source": [
    "The example runs `scripts/update_ver.py` to update only the Semantic Minor version. It could be altered to change the Major and Patch versions as well. Below is the code contained in that script:"
   ]
  },
  {
   "cell_type": "markdown",
   "metadata": {},
   "source": [
    "```python\n",
    "import fileinput\n",
    "\n",
    "with open(r'Charts/helm-chart/Chart.yaml', 'r') as chart:\n",
    "    data = chart.readlines()\n",
    "    num = -1\n",
    "    for line in data:\n",
    "        line = line.replace('\\n','')\n",
    "        num = num + 1\n",
    "        if 'version:' in line:\n",
    "            version = line\n",
    "            ver = line.split('.')\n",
    "            # ver[0] is \"version: 0\" where 0 is the Major version\n",
    "            # ver[1] is the Minor version\n",
    "            # ver[2] is the Patch version\n",
    "            ver[1] = str(int(ver[1]) + 1)\n",
    "            new_ver = '.'.join(ver)\n",
    "            new_ver = new_ver + '\\n'\n",
    "            data[num] = line.replace(version, new_ver)\n",
    "\n",
    "with open('Charts/helm-chart/Chart.yaml', 'w') as chart:\n",
    "    chart.write(''.join(data))\n",
    "```"
   ]
  },
  {
   "cell_type": "markdown",
   "metadata": {},
   "source": [
    "## Self-Hosted Runners"
   ]
  },
  {
   "cell_type": "markdown",
   "metadata": {},
   "source": [
    "```{note}\n",
    "The self-hosted runner image listed in the repository below can currently only build container images with Podman. Docker is not supported yet. For now, in order to run on K8s the container spec must include an entry that sets securityContext: privileged to true.\n",
    "```"
   ]
  },
  {
   "cell_type": "markdown",
   "metadata": {},
   "source": [
    "There is an opportunity to deploy GitHub Runners for a repository that are hosted on the on-premise cloud hardware. It requires a new kubernetes deployment object to be created either via Helm chart or kubernetes manifest. A containerized image has been created and can be used as a template for new runners. It requires the repo location and an API key to be provided as arguments. The code can be viewed at this [link to a runner GitHub repository](https://github.com/NicholasCote/github-runner). All the required details and instructions to implement a new self hosted runner can be viewed in that repositories README file. "
   ]
  },
  {
   "cell_type": "markdown",
   "metadata": {},
   "source": [
    "### Pushing to Harbor"
   ]
  },
  {
   "cell_type": "markdown",
   "metadata": {},
   "source": [
    "Because the self-hosted runners are located on-premise they have access to Harbor. In the GitHub Actions workflow put in a job to login to Harbor with your credentials, use Repository Secrets for the password, and another job to then push the image to Harbor. There is an example workflow that includes this in the GitHub runner repository linked above"
   ]
  }
 ],
 "metadata": {
  "language_info": {
   "name": "python"
  }
 },
 "nbformat": 4,
 "nbformat_minor": 2
}
