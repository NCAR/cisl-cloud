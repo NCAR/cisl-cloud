{
 "cells": [
  {
   "cell_type": "markdown",
   "metadata": {},
   "source": [
    "# Host a web application"
   ]
  },
  {
   "cell_type": "markdown",
   "metadata": {},
   "source": [
    "Kubernetes (k8s) allows the hosting of multiple web applications with unique URLs all on the same cluster. The CISL Cloud K8s cluster utilizes services known as ExternalDNS, cert-manager, and an ingress controller to securely route requests directly to an application through a single access point. This document is going to go over the process to deploy a users web application to the CISL k8s cluster.  "
   ]
  },
  {
   "cell_type": "markdown",
   "metadata": {},
   "source": [
    "```{note}\n",
    "This documentation assumes that the user has a working containerized web application. They are able to run it on their personal computer and access via `http://localhost:{PORT}/`.\n",
    "```"
   ]
  }
 ],
 "metadata": {
  "language_info": {
   "name": "python"
  },
  "orig_nbformat": 4
 },
 "nbformat": 4,
 "nbformat_minor": 2
}
