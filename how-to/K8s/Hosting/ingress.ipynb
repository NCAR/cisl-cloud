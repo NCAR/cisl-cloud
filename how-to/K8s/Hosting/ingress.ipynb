{
 "cells": [
  {
   "cell_type": "markdown",
   "metadata": {},
   "source": [
    "# NGINX Ingress Controller"
   ]
  },
  {
   "cell_type": "markdown",
   "metadata": {},
   "source": [
    "```{note}\n",
    "Secret values used in any of the Helm charts values files on our GitHub repository may be omitted for security reasons. Please audit the Helm charts before trying to install or upgrade to make sure all required information is present.\n",
    "```"
   ]
  },
  {
   "cell_type": "markdown",
   "metadata": {},
   "source": [
    "The Kubernetes cluster we operate utilizes an [NGINX Ingress Controller](https://docs.nginx.com/nginx-ingress-controller/) in order to expose Services to the network outside the cluster by providing a single point that will reverse proxy all the Services hosted that we want to expose externally. We install this via Helm and provide our own custom values. The Helm chart will install the CRDs required for the Ingress Controller. Documentation on installing via Helm can be found on the NGINX website [here](https://docs.nginx.com/nginx-ingress-controller/installation/installation-with-helm/) and the values that we provide to Helm during installation are on our GitHub repository at this [link](https://github.com/NCAR/cisl-cloud/blob/main/cluster/ingress-nginx-helm.yaml)"
   ]
  }
 ],
 "metadata": {
  "language_info": {
   "name": "python"
  },
  "orig_nbformat": 4
 },
 "nbformat": 4,
 "nbformat_minor": 2
}
