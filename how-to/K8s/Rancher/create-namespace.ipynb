{
 "cells": [
  {
   "cell_type": "markdown",
   "metadata": {},
   "source": [
    "# Create namespace"
   ]
  },
  {
   "cell_type": "markdown",
   "metadata": {},
   "source": [
    "In k8s a namespace is a way to isolate different k8s objects and split up resources while limiting impact objects can have on each other across different namespaces. "
   ]
  },
  {
   "cell_type": "markdown",
   "metadata": {},
   "source": [
    "```{note}\n",
    "We utilize [Rancher](rancher-intro) to provide a single UI for k8s cluster management. Part of this implementation includes placing general users in to a Rancher project for added isolation from production services running on the cluster. Creating namespaces with `kubectl` is not recommended with this architecture. It is a limitation of Role-based access control in Rancher with projects and a more descriptive explanation of the issues can be read [here](https://ranchermanager.docs.rancher.com/v2.5/how-to-guides/advanced-user-guides/manage-clusters/projects-and-namespaces#role-based-access-control-issues-with-namespaces-and-kubectl). \n",
    "```"
   ]
  },
  {
   "cell_type": "markdown",
   "metadata": {},
   "source": [
    "[Creating namespaces](https://ranchermanager.docs.rancher.com/v2.5/how-to-guides/advanced-user-guides/manage-projects/manage-namespaces#creating-namespaces) in Rancher is not very difficult and the following documentation will go over how to accomplish this in the CISL cloud environment. "
   ]
  },
  {
   "cell_type": "markdown",
   "metadata": {},
   "source": [
    "## Login to Rancher"
   ]
  },
  {
   "cell_type": "markdown",
   "metadata": {},
   "source": [
    "The link to NCARs [Rancher](https://rancher.k8s.ucar.edu/) instance is always at the top of this documentation under the Resources tab. Navigate to rancher, provide your CIT credentials, and select `Log in with ActiveDirectory`. \n",
    "\n",
    "```{note}\n",
    "In the username field please specify the domain before your username : ie. CIT\\username\n",
    "```"
   ]
  },
  {
   "cell_type": "markdown",
   "metadata": {},
   "source": [
    "## Navigate to Cluster"
   ]
  },
  {
   "cell_type": "markdown",
   "metadata": {},
   "source": [
    "```{note}\n",
    "As of the writing of this document there is only one cluster in Rancher. It will be used for this example but if there are more than one cluster in the future please make sure you select the cluster you are interested in. \n",
    "```"
   ]
  },
  {
   "cell_type": "markdown",
   "metadata": {},
   "source": [
    "Once you are the logged in to the Rancher UI you will see a list of clusters, or just one, on the center of the screen like in the image below. \n",
    "\n",
    "<img src=\"https://ncar.github.io/cisl-cloud/_static/rancher/rancher-clusters.png\"/>\n",
    "\n",
    "The cluster name is a link. Click on that to navigate to the Cluster Dashboard. Once on the Cluster Dashboard page there is a link to `Projects/Namespaces` in the top left of the screen. The image below shows where the `Projects/Namespaces` button looks like:\n",
    "\n",
    "<img src=\"https://ncar.github.io/cisl-cloud/_static/rancher/project-namespace.png\"/>\n",
    "\n",
    "Click on that link and you will be taken to the `Projects/Namespaces` section of the Cluster. On the right side there is a button for `Create Namespace` that when clicked will open a `Namespace: Create` wizard that looks like the following:\n",
    "\n",
    "<img src=\"https://ncar.github.io/cisl-cloud/_static/rancher/create-namespace.png\"/>\n"
   ]
  }
 ],
 "metadata": {
  "language_info": {
   "name": "python"
  },
  "orig_nbformat": 4
 },
 "nbformat": 4,
 "nbformat_minor": 2
}
